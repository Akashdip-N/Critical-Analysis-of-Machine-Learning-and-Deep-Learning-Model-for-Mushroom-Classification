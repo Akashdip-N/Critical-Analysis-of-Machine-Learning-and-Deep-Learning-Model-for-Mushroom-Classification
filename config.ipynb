{
 "cells": [
  {
   "cell_type": "code",
   "execution_count": null,
   "metadata": {},
   "outputs": [],
   "source": [
    "import  torch\n",
    "import tensorflow\n",
    "import keras-tuner\n",
    "import pandas\n",
    "import sklearn\n",
    "import numpy\n",
    "import seaborn\n",
    "import pillow\n",
    "import tqdm\n",
    "\n",
    "\n",
    "pandas==2.1.1\n",
    "numpy==1.26.0\n",
    "matplotlib==3.8.0\n",
    "seaborn==0.12.2\n",
    "scikit-learn==1.3.1\n",
    "Pillow==10.0.0\n",
    "tqdm==4.66.1\n",
    "torchvision==0.15.2\n",
    "simplejson==2.0.9"
   ]
  }
 ],
 "metadata": {
  "kernelspec": {
   "display_name": "Thesis",
   "language": "python",
   "name": "python3"
  },
  "language_info": {
   "name": "python",
   "version": "3.10.14"
  }
 },
 "nbformat": 4,
 "nbformat_minor": 2
}
