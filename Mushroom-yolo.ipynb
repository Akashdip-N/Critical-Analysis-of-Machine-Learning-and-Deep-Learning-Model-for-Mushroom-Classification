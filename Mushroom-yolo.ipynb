{
 "cells": [
  {
   "cell_type": "code",
   "execution_count": 1,
   "metadata": {},
   "outputs": [],
   "source": [
    "# import YOLO model\n",
    "from ultralytics import YOLO"
   ]
  },
  {
   "cell_type": "code",
   "execution_count": 2,
   "metadata": {},
   "outputs": [],
   "source": [
    "# Load a model\n",
    "model = YOLO('yolov8n-cls.pt') # load a pretrained model (recommended for training)"
   ]
  },
  {
   "cell_type": "code",
   "execution_count": 3,
   "metadata": {},
   "outputs": [
    {
     "name": "stdout",
     "output_type": "stream",
     "text": [
      "New https://pypi.org/project/ultralytics/8.3.1 available 😃 Update with 'pip install -U ultralytics'\n",
      "Ultralytics YOLOv8.2.100 🚀 Python-3.10.14 torch-2.3.0 CPU (Apple M3 Pro)\n",
      "\u001b[34m\u001b[1mengine/trainer: \u001b[0mtask=classify, mode=train, model=yolov8n-cls.pt, data=Dataset/Yolo/Edible, epochs=20, time=None, patience=3, batch=16, imgsz=416, save=True, save_period=-1, cache=False, device=None, workers=8, project=None, name=train9, exist_ok=False, pretrained=True, optimizer=auto, verbose=True, seed=0, deterministic=True, single_cls=False, rect=False, cos_lr=False, close_mosaic=10, resume=False, amp=True, fraction=1.0, profile=False, freeze=None, multi_scale=False, overlap_mask=True, mask_ratio=4, dropout=0.0, val=True, split=val, save_json=False, save_hybrid=False, conf=None, iou=0.7, max_det=300, half=False, dnn=False, plots=True, source=None, vid_stride=1, stream_buffer=False, visualize=False, augment=False, agnostic_nms=False, classes=None, retina_masks=False, embed=None, show=False, save_frames=False, save_txt=False, save_conf=False, save_crop=False, show_labels=True, show_conf=True, show_boxes=True, line_width=None, format=torchscript, keras=False, optimize=False, int8=False, dynamic=False, simplify=True, opset=None, workspace=4, nms=False, lr0=0.01, lrf=0.01, momentum=0.937, weight_decay=0.0005, warmup_epochs=3.0, warmup_momentum=0.8, warmup_bias_lr=0.1, box=7.5, cls=0.5, dfl=1.5, pose=12.0, kobj=1.0, label_smoothing=0.0, nbs=64, hsv_h=0.015, hsv_s=0.7, hsv_v=0.4, degrees=0.0, translate=0.1, scale=0.5, shear=0.0, perspective=0.0, flipud=0.0, fliplr=0.5, bgr=0.0, mosaic=1.0, mixup=0.0, copy_paste=0.0, auto_augment=randaugment, erasing=0.4, crop_fraction=1.0, cfg=None, tracker=botsort.yaml, save_dir=runs/classify/train9\n",
      "\u001b[34m\u001b[1mtrain:\u001b[0m /Users/adn-mbp/Github Repos/Edible-Mushroom-Prediction/Dataset/Yolo/Edible/train... found 808 images in 236 classes ✅ \n",
      "\u001b[34m\u001b[1mval:\u001b[0m /Users/adn-mbp/Github Repos/Edible-Mushroom-Prediction/Dataset/Yolo/Edible/val... found 236 images in 236 classes ✅ \n",
      "\u001b[34m\u001b[1mtest:\u001b[0m None...\n",
      "Overriding model.yaml nc=1000 with nc=236\n",
      "\n",
      "                   from  n    params  module                                       arguments                     \n",
      "  0                  -1  1       464  ultralytics.nn.modules.conv.Conv             [3, 16, 3, 2]                 \n",
      "  1                  -1  1      4672  ultralytics.nn.modules.conv.Conv             [16, 32, 3, 2]                \n",
      "  2                  -1  1      7360  ultralytics.nn.modules.block.C2f             [32, 32, 1, True]             \n",
      "  3                  -1  1     18560  ultralytics.nn.modules.conv.Conv             [32, 64, 3, 2]                \n",
      "  4                  -1  2     49664  ultralytics.nn.modules.block.C2f             [64, 64, 2, True]             \n",
      "  5                  -1  1     73984  ultralytics.nn.modules.conv.Conv             [64, 128, 3, 2]               \n",
      "  6                  -1  2    197632  ultralytics.nn.modules.block.C2f             [128, 128, 2, True]           \n",
      "  7                  -1  1    295424  ultralytics.nn.modules.conv.Conv             [128, 256, 3, 2]              \n",
      "  8                  -1  1    460288  ultralytics.nn.modules.block.C2f             [256, 256, 1, True]           \n",
      "  9                  -1  1    632556  ultralytics.nn.modules.head.Classify         [256, 236]                    \n",
      "YOLOv8n-cls summary: 99 layers, 1,740,604 parameters, 1,740,604 gradients, 3.6 GFLOPs\n",
      "Transferred 156/158 items from pretrained weights\n",
      "\u001b[34m\u001b[1mTensorBoard: \u001b[0mStart with 'tensorboard --logdir runs/classify/train9', view at http://localhost:6006/\n"
     ]
    },
    {
     "name": "stderr",
     "output_type": "stream",
     "text": [
      "\u001b[34m\u001b[1mtrain: \u001b[0mScanning /Users/adn-mbp/Github Repos/Edible-Mushroom-Prediction/Dataset/Yolo/Edible/train... 808 images, 0 corrupt: 100%|██████████| 808/808 [00:00<?, ?it/s]\n",
      "\u001b[34m\u001b[1mval: \u001b[0mScanning /Users/adn-mbp/Github Repos/Edible-Mushroom-Prediction/Dataset/Yolo/Edible/val... 236 images, 0 corrupt: 100%|██████████| 236/236 [00:00<?, ?it/s]"
     ]
    },
    {
     "name": "stdout",
     "output_type": "stream",
     "text": [
      "\u001b[34m\u001b[1moptimizer:\u001b[0m 'optimizer=auto' found, ignoring 'lr0=0.01' and 'momentum=0.937' and determining best 'optimizer', 'lr0' and 'momentum' automatically... \n",
      "\u001b[34m\u001b[1moptimizer:\u001b[0m AdamW(lr=0.000714, momentum=0.9) with parameter groups 26 weight(decay=0.0), 27 weight(decay=0.0005), 27 bias(decay=0.0)\n"
     ]
    },
    {
     "name": "stderr",
     "output_type": "stream",
     "text": [
      "\n"
     ]
    },
    {
     "name": "stdout",
     "output_type": "stream",
     "text": [
      "\u001b[34m\u001b[1mTensorBoard: \u001b[0mmodel graph visualization added ✅\n",
      "Image sizes 416 train, 416 val\n",
      "Using 0 dataloader workers\n",
      "Logging results to \u001b[1mruns/classify/train9\u001b[0m\n",
      "Starting training for 20 epochs...\n",
      "\n",
      "      Epoch    GPU_mem       loss  Instances       Size\n"
     ]
    },
    {
     "name": "stderr",
     "output_type": "stream",
     "text": [
      "       1/20         0G      5.503          8        416: 100%|██████████| 51/51 [01:41<00:00,  1.99s/it]\n",
      "               classes   top1_acc   top5_acc: 100%|██████████| 8/8 [00:20<00:00,  2.50s/it]"
     ]
    },
    {
     "name": "stdout",
     "output_type": "stream",
     "text": [
      "                   all    0.00424     0.0297\n",
      "\n",
      "      Epoch    GPU_mem       loss  Instances       Size\n"
     ]
    },
    {
     "name": "stderr",
     "output_type": "stream",
     "text": [
      "\n",
      "       2/20         0G      5.015          8        416: 100%|██████████| 51/51 [01:44<00:00,  2.05s/it]\n",
      "               classes   top1_acc   top5_acc: 100%|██████████| 8/8 [00:19<00:00,  2.44s/it]"
     ]
    },
    {
     "name": "stdout",
     "output_type": "stream",
     "text": [
      "                   all     0.0212     0.0805\n",
      "\n",
      "      Epoch    GPU_mem       loss  Instances       Size\n"
     ]
    },
    {
     "name": "stderr",
     "output_type": "stream",
     "text": [
      "\n",
      "       3/20         0G      4.443          8        416: 100%|██████████| 51/51 [01:40<00:00,  1.97s/it]\n",
      "               classes   top1_acc   top5_acc: 100%|██████████| 8/8 [00:19<00:00,  2.44s/it]"
     ]
    },
    {
     "name": "stdout",
     "output_type": "stream",
     "text": [
      "                   all     0.0763      0.216\n",
      "\n",
      "      Epoch    GPU_mem       loss  Instances       Size\n"
     ]
    },
    {
     "name": "stderr",
     "output_type": "stream",
     "text": [
      "\n",
      "       4/20         0G      3.675          8        416: 100%|██████████| 51/51 [01:41<00:00,  2.00s/it]\n",
      "               classes   top1_acc   top5_acc: 100%|██████████| 8/8 [00:19<00:00,  2.45s/it]"
     ]
    },
    {
     "name": "stdout",
     "output_type": "stream",
     "text": [
      "                   all      0.144      0.301\n",
      "\n",
      "      Epoch    GPU_mem       loss  Instances       Size\n"
     ]
    },
    {
     "name": "stderr",
     "output_type": "stream",
     "text": [
      "\n",
      "       5/20         0G      2.973          8        416: 100%|██████████| 51/51 [01:40<00:00,  1.98s/it]\n",
      "               classes   top1_acc   top5_acc: 100%|██████████| 8/8 [00:19<00:00,  2.46s/it]"
     ]
    },
    {
     "name": "stdout",
     "output_type": "stream",
     "text": [
      "                   all      0.208      0.415\n",
      "\n",
      "      Epoch    GPU_mem       loss  Instances       Size\n"
     ]
    },
    {
     "name": "stderr",
     "output_type": "stream",
     "text": [
      "\n",
      "       6/20         0G      2.357          8        416: 100%|██████████| 51/51 [01:42<00:00,  2.01s/it]\n",
      "               classes   top1_acc   top5_acc: 100%|██████████| 8/8 [00:19<00:00,  2.46s/it]"
     ]
    },
    {
     "name": "stdout",
     "output_type": "stream",
     "text": [
      "                   all      0.254      0.462\n",
      "\n",
      "      Epoch    GPU_mem       loss  Instances       Size\n"
     ]
    },
    {
     "name": "stderr",
     "output_type": "stream",
     "text": [
      "\n",
      "       7/20         0G      1.892          8        416: 100%|██████████| 51/51 [01:40<00:00,  1.97s/it]\n",
      "               classes   top1_acc   top5_acc: 100%|██████████| 8/8 [00:19<00:00,  2.45s/it]"
     ]
    },
    {
     "name": "stdout",
     "output_type": "stream",
     "text": [
      "                   all      0.309      0.487\n",
      "\n",
      "      Epoch    GPU_mem       loss  Instances       Size\n"
     ]
    },
    {
     "name": "stderr",
     "output_type": "stream",
     "text": [
      "\n",
      "       8/20         0G      1.508          8        416: 100%|██████████| 51/51 [01:40<00:00,  1.98s/it]\n",
      "               classes   top1_acc   top5_acc: 100%|██████████| 8/8 [00:19<00:00,  2.48s/it]"
     ]
    },
    {
     "name": "stdout",
     "output_type": "stream",
     "text": [
      "                   all      0.343      0.517\n",
      "\n",
      "      Epoch    GPU_mem       loss  Instances       Size\n"
     ]
    },
    {
     "name": "stderr",
     "output_type": "stream",
     "text": [
      "\n",
      "       9/20         0G      1.262          8        416: 100%|██████████| 51/51 [01:41<00:00,  1.98s/it]\n",
      "               classes   top1_acc   top5_acc: 100%|██████████| 8/8 [00:20<00:00,  2.53s/it]"
     ]
    },
    {
     "name": "stdout",
     "output_type": "stream",
     "text": [
      "                   all      0.347      0.547\n",
      "\n",
      "      Epoch    GPU_mem       loss  Instances       Size\n"
     ]
    },
    {
     "name": "stderr",
     "output_type": "stream",
     "text": [
      "\n",
      "      10/20         0G       1.03          8        416: 100%|██████████| 51/51 [01:42<00:00,  2.01s/it]\n",
      "               classes   top1_acc   top5_acc: 100%|██████████| 8/8 [00:20<00:00,  2.55s/it]"
     ]
    },
    {
     "name": "stdout",
     "output_type": "stream",
     "text": [
      "                   all      0.356      0.589\n",
      "\n",
      "      Epoch    GPU_mem       loss  Instances       Size\n"
     ]
    },
    {
     "name": "stderr",
     "output_type": "stream",
     "text": [
      "\n",
      "      11/20         0G     0.8781          8        416: 100%|██████████| 51/51 [01:42<00:00,  2.02s/it]\n",
      "               classes   top1_acc   top5_acc: 100%|██████████| 8/8 [00:19<00:00,  2.47s/it]"
     ]
    },
    {
     "name": "stdout",
     "output_type": "stream",
     "text": [
      "                   all      0.352      0.581\n",
      "\n",
      "      Epoch    GPU_mem       loss  Instances       Size\n"
     ]
    },
    {
     "name": "stderr",
     "output_type": "stream",
     "text": [
      "\n",
      "      12/20         0G     0.7133          8        416: 100%|██████████| 51/51 [01:41<00:00,  1.98s/it]\n",
      "               classes   top1_acc   top5_acc: 100%|██████████| 8/8 [00:19<00:00,  2.46s/it]"
     ]
    },
    {
     "name": "stdout",
     "output_type": "stream",
     "text": [
      "                   all      0.369      0.597\n",
      "\n",
      "      Epoch    GPU_mem       loss  Instances       Size\n"
     ]
    },
    {
     "name": "stderr",
     "output_type": "stream",
     "text": [
      "\n",
      "      13/20         0G     0.6197          8        416: 100%|██████████| 51/51 [01:41<00:00,  1.98s/it]\n",
      "               classes   top1_acc   top5_acc: 100%|██████████| 8/8 [00:19<00:00,  2.47s/it]"
     ]
    },
    {
     "name": "stdout",
     "output_type": "stream",
     "text": [
      "                   all      0.381      0.576\n",
      "\n",
      "      Epoch    GPU_mem       loss  Instances       Size\n"
     ]
    },
    {
     "name": "stderr",
     "output_type": "stream",
     "text": [
      "\n",
      "      14/20         0G       0.57          8        416: 100%|██████████| 51/51 [01:43<00:00,  2.03s/it]\n",
      "               classes   top1_acc   top5_acc: 100%|██████████| 8/8 [00:20<00:00,  2.56s/it]"
     ]
    },
    {
     "name": "stdout",
     "output_type": "stream",
     "text": [
      "                   all      0.373      0.597\n",
      "\n",
      "      Epoch    GPU_mem       loss  Instances       Size\n"
     ]
    },
    {
     "name": "stderr",
     "output_type": "stream",
     "text": [
      "\n",
      "      15/20         0G     0.5141          8        416: 100%|██████████| 51/51 [01:42<00:00,  2.01s/it]\n",
      "               classes   top1_acc   top5_acc: 100%|██████████| 8/8 [00:19<00:00,  2.47s/it]"
     ]
    },
    {
     "name": "stdout",
     "output_type": "stream",
     "text": [
      "                   all      0.381      0.602\n",
      "\n",
      "      Epoch    GPU_mem       loss  Instances       Size\n"
     ]
    },
    {
     "name": "stderr",
     "output_type": "stream",
     "text": [
      "\n",
      "      16/20         0G     0.4553          8        416: 100%|██████████| 51/51 [01:40<00:00,  1.98s/it]\n",
      "               classes   top1_acc   top5_acc: 100%|██████████| 8/8 [00:19<00:00,  2.45s/it]"
     ]
    },
    {
     "name": "stdout",
     "output_type": "stream",
     "text": [
      "                   all      0.398      0.602\n",
      "\n",
      "      Epoch    GPU_mem       loss  Instances       Size\n"
     ]
    },
    {
     "name": "stderr",
     "output_type": "stream",
     "text": [
      "\n",
      "      17/20         0G     0.4553          8        416: 100%|██████████| 51/51 [01:40<00:00,  1.98s/it]\n",
      "               classes   top1_acc   top5_acc: 100%|██████████| 8/8 [00:19<00:00,  2.48s/it]"
     ]
    },
    {
     "name": "stdout",
     "output_type": "stream",
     "text": [
      "                   all      0.386      0.597\n",
      "\n",
      "      Epoch    GPU_mem       loss  Instances       Size\n"
     ]
    },
    {
     "name": "stderr",
     "output_type": "stream",
     "text": [
      "\n",
      "      18/20         0G     0.4094          8        416: 100%|██████████| 51/51 [01:40<00:00,  1.97s/it]\n",
      "               classes   top1_acc   top5_acc: 100%|██████████| 8/8 [00:19<00:00,  2.47s/it]"
     ]
    },
    {
     "name": "stdout",
     "output_type": "stream",
     "text": [
      "                   all      0.386      0.606\n",
      "\n",
      "      Epoch    GPU_mem       loss  Instances       Size\n"
     ]
    },
    {
     "name": "stderr",
     "output_type": "stream",
     "text": [
      "\n",
      "      19/20         0G     0.3977          8        416: 100%|██████████| 51/51 [01:41<00:00,  1.99s/it]\n",
      "               classes   top1_acc   top5_acc: 100%|██████████| 8/8 [00:19<00:00,  2.47s/it]"
     ]
    },
    {
     "name": "stdout",
     "output_type": "stream",
     "text": [
      "                   all      0.403       0.61\n",
      "\n",
      "      Epoch    GPU_mem       loss  Instances       Size\n"
     ]
    },
    {
     "name": "stderr",
     "output_type": "stream",
     "text": [
      "\n",
      "      20/20         0G     0.3758          8        416: 100%|██████████| 51/51 [02:15<00:00,  2.67s/it]\n",
      "               classes   top1_acc   top5_acc: 100%|██████████| 8/8 [00:20<00:00,  2.50s/it]"
     ]
    },
    {
     "name": "stdout",
     "output_type": "stream",
     "text": [
      "                   all      0.403      0.606\n",
      "\n",
      "20 epochs completed in 0.685 hours.\n",
      "Optimizer stripped from runs/classify/train9/weights/last.pt, 3.6MB\n"
     ]
    },
    {
     "name": "stderr",
     "output_type": "stream",
     "text": [
      "\n"
     ]
    },
    {
     "name": "stdout",
     "output_type": "stream",
     "text": [
      "Optimizer stripped from runs/classify/train9/weights/best.pt, 3.6MB\n",
      "\n",
      "Validating runs/classify/train9/weights/best.pt...\n",
      "Ultralytics YOLOv8.2.100 🚀 Python-3.10.14 torch-2.3.0 CPU (Apple M3 Pro)\n",
      "YOLOv8n-cls summary (fused): 73 layers, 1,737,196 parameters, 0 gradients, 3.5 GFLOPs\n",
      "\u001b[34m\u001b[1mtrain:\u001b[0m /Users/adn-mbp/Github Repos/Edible-Mushroom-Prediction/Dataset/Yolo/Edible/train... found 808 images in 236 classes ✅ \n",
      "\u001b[34m\u001b[1mval:\u001b[0m /Users/adn-mbp/Github Repos/Edible-Mushroom-Prediction/Dataset/Yolo/Edible/val... found 236 images in 236 classes ✅ \n",
      "\u001b[34m\u001b[1mtest:\u001b[0m None...\n"
     ]
    },
    {
     "name": "stderr",
     "output_type": "stream",
     "text": [
      "               classes   top1_acc   top5_acc: 100%|██████████| 8/8 [00:19<00:00,  2.43s/it]\n"
     ]
    },
    {
     "name": "stdout",
     "output_type": "stream",
     "text": [
      "                   all      0.403       0.61\n",
      "Speed: 0.0ms preprocess, 27.3ms inference, 0.0ms loss, 0.0ms postprocess per image\n",
      "Results saved to \u001b[1mruns/classify/train9\u001b[0m\n",
      "Results saved to \u001b[1mruns/classify/train9\u001b[0m\n"
     ]
    },
    {
     "data": {
      "text/plain": [
       "ultralytics.utils.metrics.ClassifyMetrics object with attributes:\n",
       "\n",
       "confusion_matrix: <ultralytics.utils.metrics.ConfusionMatrix object at 0x32f077d90>\n",
       "curves: []\n",
       "curves_results: []\n",
       "fitness: 0.5063559263944626\n",
       "keys: ['metrics/accuracy_top1', 'metrics/accuracy_top5']\n",
       "results_dict: {'metrics/accuracy_top1': 0.402542382478714, 'metrics/accuracy_top5': 0.6101694703102112, 'fitness': 0.5063559263944626}\n",
       "save_dir: PosixPath('runs/classify/train9')\n",
       "speed: {'preprocess': 0.000546544285143836, 'inference': 27.25929931058722, 'loss': 3.333819114555746e-05, 'postprocess': 2.525620541330111e-05}\n",
       "task: 'classify'\n",
       "top1: 0.402542382478714\n",
       "top5: 0.6101694703102112"
      ]
     },
     "execution_count": 3,
     "metadata": {},
     "output_type": "execute_result"
    }
   ],
   "source": [
    "# Train the model\n",
    "model.train(\n",
    "    data = 'Dataset/Yolo/Edible',\n",
    "    epochs = 20,\n",
    "    imgsz = 416,\n",
    "    patience = 3\n",
    ")"
   ]
  },
  {
   "cell_type": "code",
   "execution_count": 4,
   "metadata": {},
   "outputs": [
    {
     "name": "stdout",
     "output_type": "stream",
     "text": [
      "Ultralytics YOLOv8.2.100 🚀 Python-3.10.14 torch-2.3.0 CPU (Apple M3 Pro)\n",
      "YOLOv8n-cls summary (fused): 73 layers, 1,737,196 parameters, 0 gradients, 3.5 GFLOPs\n",
      "\u001b[34m\u001b[1mtrain:\u001b[0m /Users/adn-mbp/Github Repos/Edible-Mushroom-Prediction/Dataset/Yolo/Edible/train... found 808 images in 236 classes ✅ \n",
      "\u001b[34m\u001b[1mval:\u001b[0m /Users/adn-mbp/Github Repos/Edible-Mushroom-Prediction/Dataset/Yolo/Edible/val... found 236 images in 236 classes ✅ \n",
      "\u001b[34m\u001b[1mtest:\u001b[0m None...\n"
     ]
    },
    {
     "name": "stderr",
     "output_type": "stream",
     "text": [
      "\u001b[34m\u001b[1mval: \u001b[0mScanning /Users/adn-mbp/Github Repos/Edible-Mushroom-Prediction/Dataset/Yolo/Edible/val... 236 images, 0 corrupt: 100%|██████████| 236/236 [00:00<?, ?it/s]\n",
      "               classes   top1_acc   top5_acc: 100%|██████████| 15/15 [00:21<00:00,  1.43s/it]\n"
     ]
    },
    {
     "name": "stdout",
     "output_type": "stream",
     "text": [
      "                   all      0.403       0.61\n",
      "Speed: 0.0ms preprocess, 33.7ms inference, 0.0ms loss, 0.0ms postprocess per image\n",
      "Results saved to \u001b[1mruns/classify/train92\u001b[0m\n"
     ]
    },
    {
     "data": {
      "text/plain": [
       "0.6101694703102112"
      ]
     },
     "execution_count": 4,
     "metadata": {},
     "output_type": "execute_result"
    }
   ],
   "source": [
    "# Validate the model\n",
    "metrics = model.val() # no arguments needed, dataset and settings remembered\n",
    "metrics.top1 # top1 accuracy\n",
    "metrics.top5 # top5 accuracy"
   ]
  },
  {
   "cell_type": "code",
   "execution_count": 5,
   "metadata": {},
   "outputs": [
    {
     "name": "stdout",
     "output_type": "stream",
     "text": [
      "\n",
      "image 1/1 /Users/adn-mbp/Github Repos/Edible-Mushroom-Prediction/Dataset/Yolo/Edible/Val/Agaricus_albolutescens/agaricus-albolutescens-2.jpg: 416x416 Lyophyllum_shimeji 0.32, Agaricus_langei 0.21, Lyophyllum_decastes 0.07, Gomphidius_smithii 0.05, Russula_adusta 0.05, 12.4ms\n",
      "Speed: 72.2ms preprocess, 12.4ms inference, 0.0ms postprocess per image at shape (1, 3, 416, 416)\n"
     ]
    },
    {
     "ename": "NameError",
     "evalue": "name 'result' is not defined",
     "output_type": "error",
     "traceback": [
      "\u001b[0;31m---------------------------------------------------------------------------\u001b[0m",
      "\u001b[0;31mNameError\u001b[0m                                 Traceback (most recent call last)",
      "Cell \u001b[0;32mIn[5], line 2\u001b[0m\n\u001b[1;32m      1\u001b[0m results \u001b[38;5;241m=\u001b[39m model\u001b[38;5;241m.\u001b[39mpredict(\u001b[38;5;124m\"\u001b[39m\u001b[38;5;124mDataset/Yolo/Edible/Val/Agaricus_albolutescens/agaricus-albolutescens-2.jpg\u001b[39m\u001b[38;5;124m\"\u001b[39m)\n\u001b[0;32m----> 2\u001b[0m probs \u001b[38;5;241m=\u001b[39m \u001b[43mresult\u001b[49m\u001b[38;5;241m.\u001b[39mprobs \u001b[38;5;66;03m# Probs object for classification outputs\u001b[39;00m\n\u001b[1;32m      3\u001b[0m \u001b[38;5;28mprint\u001b[39m(probs\u001b[38;5;241m.\u001b[39mdata)\n\u001b[1;32m      5\u001b[0m \u001b[38;5;66;03m# Output\u001b[39;00m\n",
      "\u001b[0;31mNameError\u001b[0m: name 'result' is not defined"
     ]
    }
   ],
   "source": [
    "results = model.predict(\"Dataset/Yolo/Edible/Val/Agaricus_albolutescens/agaricus-albolutescens-2.jpg\")\n",
    "probs = result.probs # Probs object for classification outputs\n",
    "print(probs.data)\n",
    "\n",
    "# Output\n",
    "tensor([1.4597e-05, 9.9976e-01, 9.4075e-07, 9.4564e-05, 4.1166e-06, 9.2344e-05, 3.5393e-05], device='cuda:0')"
   ]
  },
  {
   "cell_type": "code",
   "execution_count": null,
   "metadata": {},
   "outputs": [],
   "source": []
  }
 ],
 "metadata": {
  "kernelspec": {
   "display_name": "Thesis",
   "language": "python",
   "name": "python3"
  },
  "language_info": {
   "codemirror_mode": {
    "name": "ipython",
    "version": 3
   },
   "file_extension": ".py",
   "mimetype": "text/x-python",
   "name": "python",
   "nbconvert_exporter": "python",
   "pygments_lexer": "ipython3",
   "version": "3.10.14"
  }
 },
 "nbformat": 4,
 "nbformat_minor": 2
}
