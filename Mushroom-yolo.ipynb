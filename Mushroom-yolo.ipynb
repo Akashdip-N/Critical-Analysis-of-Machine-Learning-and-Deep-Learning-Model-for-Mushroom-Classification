{
 "cells": [
  {
   "cell_type": "code",
   "execution_count": 1,
   "metadata": {},
   "outputs": [],
   "source": [
    "# import YOLO model\n",
    "from ultralytics import YOLO"
   ]
  },
  {
   "cell_type": "code",
   "execution_count": 2,
   "metadata": {},
   "outputs": [],
   "source": [
    "# Load a model\n",
    "model = YOLO('yolov8n-cls.pt') # load a pretrained model (recommended for training)"
   ]
  },
  {
   "cell_type": "code",
   "execution_count": 3,
   "metadata": {},
   "outputs": [
    {
     "name": "stdout",
     "output_type": "stream",
     "text": [
      "New https://pypi.org/project/ultralytics/8.2.103 available 😃 Update with 'pip install -U ultralytics'\n",
      "Ultralytics YOLOv8.2.100 🚀 Python-3.10.14 torch-2.3.0 CPU (Apple M3 Pro)\n",
      "\u001b[34m\u001b[1mengine/trainer: \u001b[0mtask=classify, mode=train, model=yolov8n-cls.pt, data=Dataset/Yolo/Edible, epochs=10, time=None, patience=3, batch=16, imgsz=500, save=True, save_period=-1, cache=False, device=None, workers=8, project=None, name=train6, exist_ok=False, pretrained=True, optimizer=auto, verbose=True, seed=0, deterministic=True, single_cls=False, rect=False, cos_lr=False, close_mosaic=10, resume=False, amp=True, fraction=1.0, profile=False, freeze=None, multi_scale=False, overlap_mask=True, mask_ratio=4, dropout=0.0, val=True, split=val, save_json=False, save_hybrid=False, conf=None, iou=0.7, max_det=300, half=False, dnn=False, plots=True, source=None, vid_stride=1, stream_buffer=False, visualize=False, augment=False, agnostic_nms=False, classes=None, retina_masks=False, embed=None, show=False, save_frames=False, save_txt=False, save_conf=False, save_crop=False, show_labels=True, show_conf=True, show_boxes=True, line_width=None, format=torchscript, keras=False, optimize=False, int8=False, dynamic=False, simplify=True, opset=None, workspace=4, nms=False, lr0=0.01, lrf=0.01, momentum=0.937, weight_decay=0.0005, warmup_epochs=3.0, warmup_momentum=0.8, warmup_bias_lr=0.1, box=7.5, cls=0.5, dfl=1.5, pose=12.0, kobj=1.0, label_smoothing=0.0, nbs=64, hsv_h=0.015, hsv_s=0.7, hsv_v=0.4, degrees=0.0, translate=0.1, scale=0.5, shear=0.0, perspective=0.0, flipud=0.0, fliplr=0.5, bgr=0.0, mosaic=1.0, mixup=0.0, copy_paste=0.0, auto_augment=randaugment, erasing=0.4, crop_fraction=1.0, cfg=None, tracker=botsort.yaml, save_dir=runs/classify/train6\n",
      "\u001b[34m\u001b[1mtrain:\u001b[0m /Users/adn-mbp/Github Repos/Edible-Mushroom-Prediction/Dataset/Yolo/Edible/train... found 808 images in 236 classes ✅ \n",
      "\u001b[34m\u001b[1mval:\u001b[0m /Users/adn-mbp/Github Repos/Edible-Mushroom-Prediction/Dataset/Yolo/Edible/val... found 236 images in 236 classes ✅ \n",
      "\u001b[34m\u001b[1mtest:\u001b[0m None...\n",
      "Overriding model.yaml nc=1000 with nc=236\n",
      "\n",
      "                   from  n    params  module                                       arguments                     \n",
      "  0                  -1  1       464  ultralytics.nn.modules.conv.Conv             [3, 16, 3, 2]                 \n",
      "  1                  -1  1      4672  ultralytics.nn.modules.conv.Conv             [16, 32, 3, 2]                \n",
      "  2                  -1  1      7360  ultralytics.nn.modules.block.C2f             [32, 32, 1, True]             \n",
      "  3                  -1  1     18560  ultralytics.nn.modules.conv.Conv             [32, 64, 3, 2]                \n",
      "  4                  -1  2     49664  ultralytics.nn.modules.block.C2f             [64, 64, 2, True]             \n",
      "  5                  -1  1     73984  ultralytics.nn.modules.conv.Conv             [64, 128, 3, 2]               \n",
      "  6                  -1  2    197632  ultralytics.nn.modules.block.C2f             [128, 128, 2, True]           \n",
      "  7                  -1  1    295424  ultralytics.nn.modules.conv.Conv             [128, 256, 3, 2]              \n",
      "  8                  -1  1    460288  ultralytics.nn.modules.block.C2f             [256, 256, 1, True]           \n",
      "  9                  -1  1    632556  ultralytics.nn.modules.head.Classify         [256, 236]                    \n",
      "YOLOv8n-cls summary: 99 layers, 1,740,604 parameters, 1,740,604 gradients, 3.6 GFLOPs\n",
      "Transferred 156/158 items from pretrained weights\n",
      "\u001b[34m\u001b[1mTensorBoard: \u001b[0mStart with 'tensorboard --logdir runs/classify/train6', view at http://localhost:6006/\n",
      "WARNING ⚠️ imgsz=[500] must be multiple of max stride 32, updating to [512]\n"
     ]
    },
    {
     "name": "stderr",
     "output_type": "stream",
     "text": [
      "\u001b[34m\u001b[1mtrain: \u001b[0mScanning /Users/adn-mbp/Github Repos/Edible-Mushroom-Prediction/Dataset/Yolo/Edible/train... 808 images, 0 corrupt: 100%|██████████| 808/808 [00:00<00:00, 4403.92it/s]"
     ]
    },
    {
     "name": "stdout",
     "output_type": "stream",
     "text": [
      "\u001b[34m\u001b[1mtrain: \u001b[0mNew cache created: /Users/adn-mbp/Github Repos/Edible-Mushroom-Prediction/Dataset/Yolo/Edible/train.cache\n"
     ]
    },
    {
     "name": "stderr",
     "output_type": "stream",
     "text": [
      "\n",
      "\u001b[34m\u001b[1mval: \u001b[0mScanning /Users/adn-mbp/Github Repos/Edible-Mushroom-Prediction/Dataset/Yolo/Edible/val... 236 images, 0 corrupt: 100%|██████████| 236/236 [00:00<00:00, 4339.91it/s]"
     ]
    },
    {
     "name": "stdout",
     "output_type": "stream",
     "text": [
      "\u001b[34m\u001b[1mval: \u001b[0mNew cache created: /Users/adn-mbp/Github Repos/Edible-Mushroom-Prediction/Dataset/Yolo/Edible/val.cache\n",
      "\u001b[34m\u001b[1moptimizer:\u001b[0m 'optimizer=auto' found, ignoring 'lr0=0.01' and 'momentum=0.937' and determining best 'optimizer', 'lr0' and 'momentum' automatically... \n",
      "\u001b[34m\u001b[1moptimizer:\u001b[0m AdamW(lr=0.000714, momentum=0.9) with parameter groups 26 weight(decay=0.0), 27 weight(decay=0.0005), 27 bias(decay=0.0)\n"
     ]
    },
    {
     "name": "stderr",
     "output_type": "stream",
     "text": [
      "\n"
     ]
    },
    {
     "name": "stdout",
     "output_type": "stream",
     "text": [
      "\u001b[34m\u001b[1mTensorBoard: \u001b[0mmodel graph visualization added ✅\n",
      "Image sizes 512 train, 512 val\n",
      "Using 0 dataloader workers\n",
      "Logging results to \u001b[1mruns/classify/train6\u001b[0m\n",
      "Starting training for 10 epochs...\n",
      "\n",
      "      Epoch    GPU_mem       loss  Instances       Size\n"
     ]
    },
    {
     "name": "stderr",
     "output_type": "stream",
     "text": [
      "       1/10         0G      5.489          8        512: 100%|██████████| 51/51 [02:11<00:00,  2.57s/it]\n",
      "               classes   top1_acc   top5_acc: 100%|██████████| 8/8 [00:24<00:00,  3.02s/it]"
     ]
    },
    {
     "name": "stdout",
     "output_type": "stream",
     "text": [
      "                   all    0.00424     0.0297\n",
      "\n",
      "      Epoch    GPU_mem       loss  Instances       Size\n"
     ]
    },
    {
     "name": "stderr",
     "output_type": "stream",
     "text": [
      "\n",
      "       2/10         0G      5.042          8        512: 100%|██████████| 51/51 [02:09<00:00,  2.54s/it]\n",
      "               classes   top1_acc   top5_acc: 100%|██████████| 8/8 [00:23<00:00,  2.98s/it]"
     ]
    },
    {
     "name": "stdout",
     "output_type": "stream",
     "text": [
      "                   all     0.0254     0.0678\n",
      "\n",
      "      Epoch    GPU_mem       loss  Instances       Size\n"
     ]
    },
    {
     "name": "stderr",
     "output_type": "stream",
     "text": [
      "\n",
      "       3/10         0G      4.498          8        512: 100%|██████████| 51/51 [02:09<00:00,  2.54s/it]\n",
      "               classes   top1_acc   top5_acc: 100%|██████████| 8/8 [00:23<00:00,  2.92s/it]"
     ]
    },
    {
     "name": "stdout",
     "output_type": "stream",
     "text": [
      "                   all     0.0805      0.174\n",
      "\n",
      "      Epoch    GPU_mem       loss  Instances       Size\n"
     ]
    },
    {
     "name": "stderr",
     "output_type": "stream",
     "text": [
      "\n",
      "       4/10         0G       3.88          8        512: 100%|██████████| 51/51 [02:09<00:00,  2.54s/it]\n",
      "               classes   top1_acc   top5_acc: 100%|██████████| 8/8 [00:23<00:00,  2.97s/it]"
     ]
    },
    {
     "name": "stdout",
     "output_type": "stream",
     "text": [
      "                   all      0.119      0.258\n",
      "\n",
      "      Epoch    GPU_mem       loss  Instances       Size\n"
     ]
    },
    {
     "name": "stderr",
     "output_type": "stream",
     "text": [
      "\n",
      "       5/10         0G      3.343          8        512: 100%|██████████| 51/51 [02:10<00:00,  2.55s/it]\n",
      "               classes   top1_acc   top5_acc: 100%|██████████| 8/8 [00:23<00:00,  2.94s/it]"
     ]
    },
    {
     "name": "stdout",
     "output_type": "stream",
     "text": [
      "                   all       0.14      0.331\n",
      "\n",
      "      Epoch    GPU_mem       loss  Instances       Size\n"
     ]
    },
    {
     "name": "stderr",
     "output_type": "stream",
     "text": [
      "\n",
      "       6/10         0G      2.866          8        512: 100%|██████████| 51/51 [02:10<00:00,  2.57s/it]\n",
      "               classes   top1_acc   top5_acc: 100%|██████████| 8/8 [00:23<00:00,  2.92s/it]"
     ]
    },
    {
     "name": "stdout",
     "output_type": "stream",
     "text": [
      "                   all      0.186      0.398\n",
      "\n",
      "      Epoch    GPU_mem       loss  Instances       Size\n"
     ]
    },
    {
     "name": "stderr",
     "output_type": "stream",
     "text": [
      "\n",
      "       7/10         0G      2.468          8        512: 100%|██████████| 51/51 [02:12<00:00,  2.60s/it]\n",
      "               classes   top1_acc   top5_acc: 100%|██████████| 8/8 [00:23<00:00,  3.00s/it]"
     ]
    },
    {
     "name": "stdout",
     "output_type": "stream",
     "text": [
      "                   all      0.199      0.419\n",
      "\n",
      "      Epoch    GPU_mem       loss  Instances       Size\n"
     ]
    },
    {
     "name": "stderr",
     "output_type": "stream",
     "text": [
      "\n",
      "       8/10         0G      2.258          8        512: 100%|██████████| 51/51 [02:11<00:00,  2.58s/it]\n",
      "               classes   top1_acc   top5_acc: 100%|██████████| 8/8 [00:23<00:00,  2.98s/it]"
     ]
    },
    {
     "name": "stdout",
     "output_type": "stream",
     "text": [
      "                   all      0.225      0.436\n",
      "\n",
      "      Epoch    GPU_mem       loss  Instances       Size\n"
     ]
    },
    {
     "name": "stderr",
     "output_type": "stream",
     "text": [
      "\n",
      "       9/10         0G      2.021          8        512: 100%|██████████| 51/51 [02:10<00:00,  2.56s/it]\n",
      "               classes   top1_acc   top5_acc: 100%|██████████| 8/8 [00:23<00:00,  2.99s/it]"
     ]
    },
    {
     "name": "stdout",
     "output_type": "stream",
     "text": [
      "                   all      0.237      0.441\n",
      "\n",
      "      Epoch    GPU_mem       loss  Instances       Size\n"
     ]
    },
    {
     "name": "stderr",
     "output_type": "stream",
     "text": [
      "\n",
      "      10/10         0G      1.883          8        512: 100%|██████████| 51/51 [02:11<00:00,  2.57s/it]\n",
      "               classes   top1_acc   top5_acc: 100%|██████████| 8/8 [00:23<00:00,  2.93s/it]"
     ]
    },
    {
     "name": "stdout",
     "output_type": "stream",
     "text": [
      "                   all      0.275      0.458\n",
      "\n",
      "10 epochs completed in 0.429 hours.\n",
      "Optimizer stripped from runs/classify/train6/weights/last.pt, 3.6MB\n",
      "Optimizer stripped from runs/classify/train6/weights/best.pt, 3.6MB\n",
      "\n",
      "Validating runs/classify/train6/weights/best.pt...\n",
      "Ultralytics YOLOv8.2.100 🚀 Python-3.10.14 torch-2.3.0 CPU (Apple M3 Pro)\n"
     ]
    },
    {
     "name": "stderr",
     "output_type": "stream",
     "text": [
      "\n"
     ]
    },
    {
     "name": "stdout",
     "output_type": "stream",
     "text": [
      "YOLOv8n-cls summary (fused): 73 layers, 1,737,196 parameters, 0 gradients, 3.5 GFLOPs\n",
      "\u001b[34m\u001b[1mtrain:\u001b[0m /Users/adn-mbp/Github Repos/Edible-Mushroom-Prediction/Dataset/Yolo/Edible/train... found 808 images in 236 classes ✅ \n",
      "\u001b[34m\u001b[1mval:\u001b[0m /Users/adn-mbp/Github Repos/Edible-Mushroom-Prediction/Dataset/Yolo/Edible/val... found 236 images in 236 classes ✅ \n",
      "\u001b[34m\u001b[1mtest:\u001b[0m None...\n"
     ]
    },
    {
     "name": "stderr",
     "output_type": "stream",
     "text": [
      "               classes   top1_acc   top5_acc: 100%|██████████| 8/8 [00:22<00:00,  2.84s/it]\n"
     ]
    },
    {
     "name": "stdout",
     "output_type": "stream",
     "text": [
      "                   all      0.275      0.453\n",
      "Speed: 0.0ms preprocess, 39.1ms inference, 0.0ms loss, 0.0ms postprocess per image\n",
      "Results saved to \u001b[1mruns/classify/train6\u001b[0m\n",
      "Results saved to \u001b[1mruns/classify/train6\u001b[0m\n"
     ]
    },
    {
     "data": {
      "text/plain": [
       "ultralytics.utils.metrics.ClassifyMetrics object with attributes:\n",
       "\n",
       "confusion_matrix: <ultralytics.utils.metrics.ConfusionMatrix object at 0x308e53130>\n",
       "curves: []\n",
       "curves_results: []\n",
       "fitness: 0.3644067794084549\n",
       "keys: ['metrics/accuracy_top1', 'metrics/accuracy_top5']\n",
       "results_dict: {'metrics/accuracy_top1': 0.27542373538017273, 'metrics/accuracy_top5': 0.45338982343673706, 'fitness': 0.3644067794084549}\n",
       "save_dir: PosixPath('runs/classify/train6')\n",
       "speed: {'preprocess': 0.0005425032922777078, 'inference': 39.13795341879635, 'loss': 3.4348439362089514e-05, 'postprocess': 2.525620541330111e-05}\n",
       "task: 'classify'\n",
       "top1: 0.27542373538017273\n",
       "top5: 0.45338982343673706"
      ]
     },
     "execution_count": 3,
     "metadata": {},
     "output_type": "execute_result"
    }
   ],
   "source": [
    "# Train the model\n",
    "model.train(\n",
    "    data = 'Dataset/Yolo/Edible',\n",
    "    epochs = 10,\n",
    "    imgsz = 500,\n",
    "    patience = 3\n",
    ")"
   ]
  },
  {
   "cell_type": "code",
   "execution_count": 4,
   "metadata": {},
   "outputs": [
    {
     "name": "stdout",
     "output_type": "stream",
     "text": [
      "Ultralytics YOLOv8.2.100 🚀 Python-3.10.14 torch-2.3.0 CPU (Apple M3 Pro)\n",
      "YOLOv8n-cls summary (fused): 73 layers, 1,737,196 parameters, 0 gradients, 3.5 GFLOPs\n",
      "\u001b[34m\u001b[1mtrain:\u001b[0m /Users/adn-mbp/Github Repos/Edible-Mushroom-Prediction/Dataset/Yolo/Edible/train... found 808 images in 236 classes ✅ \n",
      "\u001b[34m\u001b[1mval:\u001b[0m /Users/adn-mbp/Github Repos/Edible-Mushroom-Prediction/Dataset/Yolo/Edible/val... found 236 images in 236 classes ✅ \n",
      "\u001b[34m\u001b[1mtest:\u001b[0m None...\n"
     ]
    },
    {
     "name": "stderr",
     "output_type": "stream",
     "text": [
      "\u001b[34m\u001b[1mval: \u001b[0mScanning /Users/adn-mbp/Github Repos/Edible-Mushroom-Prediction/Dataset/Yolo/Edible/val... 236 images, 0 corrupt: 100%|██████████| 236/236 [00:00<?, ?it/s]\n",
      "               classes   top1_acc   top5_acc: 100%|██████████| 15/15 [00:24<00:00,  1.62s/it]\n"
     ]
    },
    {
     "name": "stdout",
     "output_type": "stream",
     "text": [
      "                   all      0.275      0.453\n",
      "Speed: 0.0ms preprocess, 45.7ms inference, 0.0ms loss, 0.0ms postprocess per image\n",
      "Results saved to \u001b[1mruns/classify/train62\u001b[0m\n"
     ]
    },
    {
     "data": {
      "text/plain": [
       "0.45338982343673706"
      ]
     },
     "execution_count": 4,
     "metadata": {},
     "output_type": "execute_result"
    }
   ],
   "source": [
    "# Validate the model\n",
    "metrics = model.val() # no arguments needed, dataset and settings remembered\n",
    "metrics.top1 # top1 accuracy\n",
    "metrics.top5 # top5 accuracy"
   ]
  },
  {
   "cell_type": "code",
   "execution_count": 5,
   "metadata": {},
   "outputs": [
    {
     "name": "stdout",
     "output_type": "stream",
     "text": [
      "\n",
      "image 1/1 /Users/adn-mbp/Github Repos/Edible-Mushroom-Prediction/Dataset/Yolo/Edible/Val/Agaricus_albolutescens/agaricus-albolutescens-2.jpg: 512x512 Lyophyllum_shimeji 0.10, Clavulina_coralloides 0.08, Russula_aurora 0.07, Lyophyllum_decastes 0.04, Megacollybia_rodmanii 0.04, 22.5ms\n",
      "Speed: 73.9ms preprocess, 22.5ms inference, 0.0ms postprocess per image at shape (1, 3, 512, 512)\n"
     ]
    },
    {
     "ename": "NameError",
     "evalue": "name 'result' is not defined",
     "output_type": "error",
     "traceback": [
      "\u001b[0;31m---------------------------------------------------------------------------\u001b[0m",
      "\u001b[0;31mNameError\u001b[0m                                 Traceback (most recent call last)",
      "Cell \u001b[0;32mIn[5], line 2\u001b[0m\n\u001b[1;32m      1\u001b[0m results \u001b[38;5;241m=\u001b[39m model\u001b[38;5;241m.\u001b[39mpredict(\u001b[38;5;124m\"\u001b[39m\u001b[38;5;124mDataset/Yolo/Edible/Val/Agaricus_albolutescens/agaricus-albolutescens-2.jpg\u001b[39m\u001b[38;5;124m\"\u001b[39m)\n\u001b[0;32m----> 2\u001b[0m probs \u001b[38;5;241m=\u001b[39m \u001b[43mresult\u001b[49m\u001b[38;5;241m.\u001b[39mprobs \u001b[38;5;66;03m# Probs object for classification outputs\u001b[39;00m\n\u001b[1;32m      3\u001b[0m \u001b[38;5;28mprint\u001b[39m(probs\u001b[38;5;241m.\u001b[39mdata)\n\u001b[1;32m      5\u001b[0m \u001b[38;5;66;03m# Output\u001b[39;00m\n",
      "\u001b[0;31mNameError\u001b[0m: name 'result' is not defined"
     ]
    }
   ],
   "source": [
    "results = model.predict(\"Dataset/Yolo/Edible/Val/Agaricus_albolutescens/agaricus-albolutescens-2.jpg\")\n",
    "probs = result.probs # Probs object for classification outputs\n",
    "print(probs.data)\n",
    "\n",
    "# Output\n",
    "tensor([1.4597e-05, 9.9976e-01, 9.4075e-07, 9.4564e-05, 4.1166e-06, 9.2344e-05, 3.5393e-05], device='cuda:0')"
   ]
  },
  {
   "cell_type": "code",
   "execution_count": null,
   "metadata": {},
   "outputs": [],
   "source": []
  }
 ],
 "metadata": {
  "kernelspec": {
   "display_name": "Thesis",
   "language": "python",
   "name": "python3"
  },
  "language_info": {
   "codemirror_mode": {
    "name": "ipython",
    "version": 3
   },
   "file_extension": ".py",
   "mimetype": "text/x-python",
   "name": "python",
   "nbconvert_exporter": "python",
   "pygments_lexer": "ipython3",
   "version": "3.10.14"
  }
 },
 "nbformat": 4,
 "nbformat_minor": 2
}
