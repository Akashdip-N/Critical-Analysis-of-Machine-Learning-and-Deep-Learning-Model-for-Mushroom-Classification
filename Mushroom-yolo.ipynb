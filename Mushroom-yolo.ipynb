{
 "cells": [
  {
   "cell_type": "code",
   "execution_count": 1,
   "metadata": {},
   "outputs": [],
   "source": [
    "# import YOLO model\n",
    "from ultralytics import YOLO"
   ]
  },
  {
   "cell_type": "code",
   "execution_count": 2,
   "metadata": {},
   "outputs": [],
   "source": [
    "# Load a model\n",
    "model = YOLO('yolov8n-cls.pt') # load a pretrained model (recommended for training)"
   ]
  },
  {
   "cell_type": "code",
   "execution_count": 3,
   "metadata": {},
   "outputs": [
    {
     "name": "stdout",
     "output_type": "stream",
     "text": [
      "New https://pypi.org/project/ultralytics/8.3.1 available 😃 Update with 'pip install -U ultralytics'\n",
      "Ultralytics YOLOv8.2.100 🚀 Python-3.10.14 torch-2.3.0 CPU (Apple M3 Pro)\n",
      "\u001b[34m\u001b[1mengine/trainer: \u001b[0mtask=classify, mode=train, model=yolov8n-cls.pt, data=Dataset/Yolo/Edible, epochs=50, time=None, patience=3, batch=16, imgsz=320, save=True, save_period=-1, cache=False, device=None, workers=8, project=None, name=train8, exist_ok=False, pretrained=True, optimizer=auto, verbose=True, seed=0, deterministic=True, single_cls=False, rect=False, cos_lr=False, close_mosaic=10, resume=False, amp=True, fraction=1.0, profile=False, freeze=None, multi_scale=False, overlap_mask=True, mask_ratio=4, dropout=0.0, val=True, split=val, save_json=False, save_hybrid=False, conf=None, iou=0.7, max_det=300, half=False, dnn=False, plots=True, source=None, vid_stride=1, stream_buffer=False, visualize=False, augment=False, agnostic_nms=False, classes=None, retina_masks=False, embed=None, show=False, save_frames=False, save_txt=False, save_conf=False, save_crop=False, show_labels=True, show_conf=True, show_boxes=True, line_width=None, format=torchscript, keras=False, optimize=False, int8=False, dynamic=False, simplify=True, opset=None, workspace=4, nms=False, lr0=0.01, lrf=0.01, momentum=0.937, weight_decay=0.0005, warmup_epochs=3.0, warmup_momentum=0.8, warmup_bias_lr=0.1, box=7.5, cls=0.5, dfl=1.5, pose=12.0, kobj=1.0, label_smoothing=0.0, nbs=64, hsv_h=0.015, hsv_s=0.7, hsv_v=0.4, degrees=0.0, translate=0.1, scale=0.5, shear=0.0, perspective=0.0, flipud=0.0, fliplr=0.5, bgr=0.0, mosaic=1.0, mixup=0.0, copy_paste=0.0, auto_augment=randaugment, erasing=0.4, crop_fraction=1.0, cfg=None, tracker=botsort.yaml, save_dir=runs/classify/train8\n",
      "\u001b[34m\u001b[1mtrain:\u001b[0m /Users/adn-mbp/Github Repos/Edible-Mushroom-Prediction/Dataset/Yolo/Edible/train... found 808 images in 236 classes ✅ \n",
      "\u001b[34m\u001b[1mval:\u001b[0m /Users/adn-mbp/Github Repos/Edible-Mushroom-Prediction/Dataset/Yolo/Edible/val... found 236 images in 236 classes ✅ \n",
      "\u001b[34m\u001b[1mtest:\u001b[0m None...\n",
      "Overriding model.yaml nc=1000 with nc=236\n",
      "\n",
      "                   from  n    params  module                                       arguments                     \n",
      "  0                  -1  1       464  ultralytics.nn.modules.conv.Conv             [3, 16, 3, 2]                 \n",
      "  1                  -1  1      4672  ultralytics.nn.modules.conv.Conv             [16, 32, 3, 2]                \n",
      "  2                  -1  1      7360  ultralytics.nn.modules.block.C2f             [32, 32, 1, True]             \n",
      "  3                  -1  1     18560  ultralytics.nn.modules.conv.Conv             [32, 64, 3, 2]                \n",
      "  4                  -1  2     49664  ultralytics.nn.modules.block.C2f             [64, 64, 2, True]             \n",
      "  5                  -1  1     73984  ultralytics.nn.modules.conv.Conv             [64, 128, 3, 2]               \n",
      "  6                  -1  2    197632  ultralytics.nn.modules.block.C2f             [128, 128, 2, True]           \n",
      "  7                  -1  1    295424  ultralytics.nn.modules.conv.Conv             [128, 256, 3, 2]              \n",
      "  8                  -1  1    460288  ultralytics.nn.modules.block.C2f             [256, 256, 1, True]           \n",
      "  9                  -1  1    632556  ultralytics.nn.modules.head.Classify         [256, 236]                    \n",
      "YOLOv8n-cls summary: 99 layers, 1,740,604 parameters, 1,740,604 gradients, 3.6 GFLOPs\n",
      "Transferred 156/158 items from pretrained weights\n",
      "\u001b[34m\u001b[1mTensorBoard: \u001b[0mStart with 'tensorboard --logdir runs/classify/train8', view at http://localhost:6006/\n"
     ]
    },
    {
     "name": "stderr",
     "output_type": "stream",
     "text": [
      "\u001b[34m\u001b[1mtrain: \u001b[0mScanning /Users/adn-mbp/Github Repos/Edible-Mushroom-Prediction/Dataset/Yolo/Edible/train... 808 images, 0 corrupt: 100%|██████████| 808/808 [00:00<?, ?it/s]\n",
      "\u001b[34m\u001b[1mval: \u001b[0mScanning /Users/adn-mbp/Github Repos/Edible-Mushroom-Prediction/Dataset/Yolo/Edible/val... 236 images, 0 corrupt: 100%|██████████| 236/236 [00:00<?, ?it/s]"
     ]
    },
    {
     "name": "stdout",
     "output_type": "stream",
     "text": [
      "\u001b[34m\u001b[1moptimizer:\u001b[0m 'optimizer=auto' found, ignoring 'lr0=0.01' and 'momentum=0.937' and determining best 'optimizer', 'lr0' and 'momentum' automatically... \n",
      "\u001b[34m\u001b[1moptimizer:\u001b[0m AdamW(lr=0.000714, momentum=0.9) with parameter groups 26 weight(decay=0.0), 27 weight(decay=0.0005), 27 bias(decay=0.0)\n"
     ]
    },
    {
     "name": "stderr",
     "output_type": "stream",
     "text": [
      "\n"
     ]
    },
    {
     "name": "stdout",
     "output_type": "stream",
     "text": [
      "\u001b[34m\u001b[1mTensorBoard: \u001b[0mmodel graph visualization added ✅\n",
      "Image sizes 320 train, 320 val\n",
      "Using 0 dataloader workers\n",
      "Logging results to \u001b[1mruns/classify/train8\u001b[0m\n",
      "Starting training for 50 epochs...\n",
      "\n",
      "      Epoch    GPU_mem       loss  Instances       Size\n"
     ]
    },
    {
     "name": "stderr",
     "output_type": "stream",
     "text": [
      "       1/50         0G      5.505          8        320: 100%|██████████| 51/51 [01:21<00:00,  1.60s/it]\n",
      "               classes   top1_acc   top5_acc: 100%|██████████| 8/8 [00:17<00:00,  2.13s/it]"
     ]
    },
    {
     "name": "stdout",
     "output_type": "stream",
     "text": [
      "                   all    0.00424     0.0297\n",
      "\n",
      "      Epoch    GPU_mem       loss  Instances       Size\n"
     ]
    },
    {
     "name": "stderr",
     "output_type": "stream",
     "text": [
      "\n",
      "       2/50         0G       4.99          8        320: 100%|██████████| 51/51 [01:22<00:00,  1.61s/it]\n",
      "               classes   top1_acc   top5_acc: 100%|██████████| 8/8 [00:16<00:00,  2.10s/it]"
     ]
    },
    {
     "name": "stdout",
     "output_type": "stream",
     "text": [
      "                   all     0.0254      0.089\n",
      "\n",
      "      Epoch    GPU_mem       loss  Instances       Size\n"
     ]
    },
    {
     "name": "stderr",
     "output_type": "stream",
     "text": [
      "\n",
      "       3/50         0G      4.334          8        320: 100%|██████████| 51/51 [01:21<00:00,  1.60s/it]\n",
      "               classes   top1_acc   top5_acc: 100%|██████████| 8/8 [00:16<00:00,  2.12s/it]"
     ]
    },
    {
     "name": "stdout",
     "output_type": "stream",
     "text": [
      "                   all      0.089      0.229\n",
      "\n",
      "      Epoch    GPU_mem       loss  Instances       Size\n"
     ]
    },
    {
     "name": "stderr",
     "output_type": "stream",
     "text": [
      "\n",
      "       4/50         0G      3.456          8        320: 100%|██████████| 51/51 [01:21<00:00,  1.59s/it]\n",
      "               classes   top1_acc   top5_acc: 100%|██████████| 8/8 [00:16<00:00,  2.12s/it]"
     ]
    },
    {
     "name": "stdout",
     "output_type": "stream",
     "text": [
      "                   all      0.165      0.347\n",
      "\n",
      "      Epoch    GPU_mem       loss  Instances       Size\n"
     ]
    },
    {
     "name": "stderr",
     "output_type": "stream",
     "text": [
      "\n",
      "       5/50         0G      2.631          8        320: 100%|██████████| 51/51 [01:20<00:00,  1.59s/it]\n",
      "               classes   top1_acc   top5_acc: 100%|██████████| 8/8 [00:17<00:00,  2.13s/it]"
     ]
    },
    {
     "name": "stdout",
     "output_type": "stream",
     "text": [
      "                   all       0.25      0.479\n",
      "\n",
      "      Epoch    GPU_mem       loss  Instances       Size\n"
     ]
    },
    {
     "name": "stderr",
     "output_type": "stream",
     "text": [
      "\n",
      "       6/50         0G      1.963          8        320: 100%|██████████| 51/51 [01:21<00:00,  1.60s/it]\n",
      "               classes   top1_acc   top5_acc: 100%|██████████| 8/8 [00:17<00:00,  2.13s/it]"
     ]
    },
    {
     "name": "stdout",
     "output_type": "stream",
     "text": [
      "                   all       0.28      0.496\n",
      "\n",
      "      Epoch    GPU_mem       loss  Instances       Size\n"
     ]
    },
    {
     "name": "stderr",
     "output_type": "stream",
     "text": [
      "\n",
      "       7/50         0G      1.475          8        320: 100%|██████████| 51/51 [01:21<00:00,  1.59s/it]\n",
      "               classes   top1_acc   top5_acc: 100%|██████████| 8/8 [00:16<00:00,  2.12s/it]"
     ]
    },
    {
     "name": "stdout",
     "output_type": "stream",
     "text": [
      "                   all      0.352      0.538\n",
      "\n",
      "      Epoch    GPU_mem       loss  Instances       Size\n"
     ]
    },
    {
     "name": "stderr",
     "output_type": "stream",
     "text": [
      "\n",
      "       8/50         0G      1.085          8        320: 100%|██████████| 51/51 [01:21<00:00,  1.59s/it]\n",
      "               classes   top1_acc   top5_acc: 100%|██████████| 8/8 [00:16<00:00,  2.12s/it]"
     ]
    },
    {
     "name": "stdout",
     "output_type": "stream",
     "text": [
      "                   all      0.343      0.547\n",
      "\n",
      "      Epoch    GPU_mem       loss  Instances       Size\n"
     ]
    },
    {
     "name": "stderr",
     "output_type": "stream",
     "text": [
      "\n",
      "       9/50         0G     0.8506          8        320: 100%|██████████| 51/51 [01:21<00:00,  1.59s/it]\n",
      "               classes   top1_acc   top5_acc: 100%|██████████| 8/8 [00:17<00:00,  2.16s/it]"
     ]
    },
    {
     "name": "stdout",
     "output_type": "stream",
     "text": [
      "                   all      0.394      0.576\n",
      "\n",
      "      Epoch    GPU_mem       loss  Instances       Size\n"
     ]
    },
    {
     "name": "stderr",
     "output_type": "stream",
     "text": [
      "\n",
      "      10/50         0G     0.6552          8        320: 100%|██████████| 51/51 [01:21<00:00,  1.60s/it]\n",
      "               classes   top1_acc   top5_acc: 100%|██████████| 8/8 [00:16<00:00,  2.12s/it]"
     ]
    },
    {
     "name": "stdout",
     "output_type": "stream",
     "text": [
      "                   all      0.386      0.585\n",
      "\n",
      "      Epoch    GPU_mem       loss  Instances       Size\n"
     ]
    },
    {
     "name": "stderr",
     "output_type": "stream",
     "text": [
      "\n",
      "      11/50         0G     0.5404          8        320: 100%|██████████| 51/51 [01:20<00:00,  1.58s/it]\n",
      "               classes   top1_acc   top5_acc: 100%|██████████| 8/8 [00:17<00:00,  2.17s/it]"
     ]
    },
    {
     "name": "stdout",
     "output_type": "stream",
     "text": [
      "                   all      0.373      0.593\n",
      "\n",
      "      Epoch    GPU_mem       loss  Instances       Size\n"
     ]
    },
    {
     "name": "stderr",
     "output_type": "stream",
     "text": [
      "\n",
      "      12/50         0G     0.4232          8        320: 100%|██████████| 51/51 [01:20<00:00,  1.58s/it]\n",
      "               classes   top1_acc   top5_acc: 100%|██████████| 8/8 [00:16<00:00,  2.11s/it]"
     ]
    },
    {
     "name": "stdout",
     "output_type": "stream",
     "text": [
      "                   all       0.39      0.589\n",
      "\n",
      "      Epoch    GPU_mem       loss  Instances       Size\n"
     ]
    },
    {
     "name": "stderr",
     "output_type": "stream",
     "text": [
      "\n",
      "      13/50         0G     0.3455          8        320: 100%|██████████| 51/51 [01:20<00:00,  1.58s/it]\n",
      "               classes   top1_acc   top5_acc: 100%|██████████| 8/8 [00:16<00:00,  2.12s/it]"
     ]
    },
    {
     "name": "stdout",
     "output_type": "stream",
     "text": [
      "                   all      0.377      0.585\n",
      "\n",
      "      Epoch    GPU_mem       loss  Instances       Size\n"
     ]
    },
    {
     "name": "stderr",
     "output_type": "stream",
     "text": [
      "\n",
      "      14/50         0G      0.302          8        320: 100%|██████████| 51/51 [01:20<00:00,  1.59s/it]\n",
      "               classes   top1_acc   top5_acc: 100%|██████████| 8/8 [00:16<00:00,  2.10s/it]"
     ]
    },
    {
     "name": "stdout",
     "output_type": "stream",
     "text": [
      "                   all       0.39      0.581\n",
      "\n",
      "      Epoch    GPU_mem       loss  Instances       Size\n"
     ]
    },
    {
     "name": "stderr",
     "output_type": "stream",
     "text": [
      "\n",
      "      15/50         0G     0.2872          8        320: 100%|██████████| 51/51 [01:20<00:00,  1.58s/it]\n",
      "               classes   top1_acc   top5_acc: 100%|██████████| 8/8 [00:16<00:00,  2.12s/it]"
     ]
    },
    {
     "name": "stdout",
     "output_type": "stream",
     "text": [
      "                   all      0.415      0.581\n",
      "\n",
      "      Epoch    GPU_mem       loss  Instances       Size\n"
     ]
    },
    {
     "name": "stderr",
     "output_type": "stream",
     "text": [
      "\n",
      "      16/50         0G     0.2441          8        320: 100%|██████████| 51/51 [01:22<00:00,  1.61s/it]\n",
      "               classes   top1_acc   top5_acc: 100%|██████████| 8/8 [00:17<00:00,  2.14s/it]"
     ]
    },
    {
     "name": "stdout",
     "output_type": "stream",
     "text": [
      "                   all      0.398      0.572\n",
      "\n",
      "      Epoch    GPU_mem       loss  Instances       Size\n"
     ]
    },
    {
     "name": "stderr",
     "output_type": "stream",
     "text": [
      "\n",
      "      17/50         0G     0.2058          8        320: 100%|██████████| 51/51 [01:20<00:00,  1.58s/it]\n",
      "               classes   top1_acc   top5_acc: 100%|██████████| 8/8 [00:17<00:00,  2.13s/it]"
     ]
    },
    {
     "name": "stdout",
     "output_type": "stream",
     "text": [
      "                   all      0.403      0.576\n",
      "\n",
      "      Epoch    GPU_mem       loss  Instances       Size\n"
     ]
    },
    {
     "name": "stderr",
     "output_type": "stream",
     "text": [
      "\n",
      "      18/50         0G     0.2136          8        320: 100%|██████████| 51/51 [01:20<00:00,  1.58s/it]\n",
      "               classes   top1_acc   top5_acc: 100%|██████████| 8/8 [00:16<00:00,  2.12s/it]"
     ]
    },
    {
     "name": "stdout",
     "output_type": "stream",
     "text": [
      "                   all      0.403      0.568\n",
      "\u001b[34m\u001b[1mEarlyStopping: \u001b[0mTraining stopped early as no improvement observed in last 3 epochs. Best results observed at epoch 15, best model saved as best.pt.\n",
      "To update EarlyStopping(patience=3) pass a new patience value, i.e. `patience=300` or use `patience=0` to disable EarlyStopping.\n",
      "\n",
      "18 epochs completed in 0.491 hours.\n",
      "Optimizer stripped from runs/classify/train8/weights/last.pt, 3.6MB\n",
      "Optimizer stripped from runs/classify/train8/weights/best.pt, 3.6MB\n",
      "\n",
      "Validating runs/classify/train8/weights/best.pt...\n",
      "Ultralytics YOLOv8.2.100 🚀 Python-3.10.14 torch-2.3.0 CPU (Apple M3 Pro)\n",
      "YOLOv8n-cls summary (fused): 73 layers, 1,737,196 parameters, 0 gradients, 3.5 GFLOPs\n"
     ]
    },
    {
     "name": "stderr",
     "output_type": "stream",
     "text": [
      "\n"
     ]
    },
    {
     "name": "stdout",
     "output_type": "stream",
     "text": [
      "\u001b[34m\u001b[1mtrain:\u001b[0m /Users/adn-mbp/Github Repos/Edible-Mushroom-Prediction/Dataset/Yolo/Edible/train... found 808 images in 236 classes ✅ \n",
      "\u001b[34m\u001b[1mval:\u001b[0m /Users/adn-mbp/Github Repos/Edible-Mushroom-Prediction/Dataset/Yolo/Edible/val... found 236 images in 236 classes ✅ \n",
      "\u001b[34m\u001b[1mtest:\u001b[0m None...\n"
     ]
    },
    {
     "name": "stderr",
     "output_type": "stream",
     "text": [
      "               classes   top1_acc   top5_acc: 100%|██████████| 8/8 [00:17<00:00,  2.16s/it]\n"
     ]
    },
    {
     "name": "stdout",
     "output_type": "stream",
     "text": [
      "                   all      0.415      0.581\n",
      "Speed: 0.0ms preprocess, 17.8ms inference, 0.0ms loss, 0.0ms postprocess per image\n",
      "Results saved to \u001b[1mruns/classify/train8\u001b[0m\n",
      "Results saved to \u001b[1mruns/classify/train8\u001b[0m\n"
     ]
    },
    {
     "data": {
      "text/plain": [
       "ultralytics.utils.metrics.ClassifyMetrics object with attributes:\n",
       "\n",
       "confusion_matrix: <ultralytics.utils.metrics.ConfusionMatrix object at 0x14ead4190>\n",
       "curves: []\n",
       "curves_results: []\n",
       "fitness: 0.49788135290145874\n",
       "keys: ['metrics/accuracy_top1', 'metrics/accuracy_top5']\n",
       "results_dict: {'metrics/accuracy_top1': 0.41525423526763916, 'metrics/accuracy_top5': 0.5805084705352783, 'fitness': 0.49788135290145874}\n",
       "save_dir: PosixPath('runs/classify/train8')\n",
       "speed: {'preprocess': 0.00043642722954184324, 'inference': 17.80636027707892, 'loss': 3.838943222821769e-05, 'postprocess': 4.748166617700609e-05}\n",
       "task: 'classify'\n",
       "top1: 0.41525423526763916\n",
       "top5: 0.5805084705352783"
      ]
     },
     "execution_count": 3,
     "metadata": {},
     "output_type": "execute_result"
    }
   ],
   "source": [
    "# Train the model\n",
    "model.train(\n",
    "    data = 'Dataset/Yolo/Edible',\n",
    "    epochs = 50,\n",
    "    imgsz = 320,\n",
    "    patience = 3\n",
    ")"
   ]
  },
  {
   "cell_type": "code",
   "execution_count": 4,
   "metadata": {},
   "outputs": [
    {
     "name": "stdout",
     "output_type": "stream",
     "text": [
      "Ultralytics YOLOv8.2.100 🚀 Python-3.10.14 torch-2.3.0 CPU (Apple M3 Pro)\n",
      "YOLOv8n-cls summary (fused): 73 layers, 1,737,196 parameters, 0 gradients, 3.5 GFLOPs\n",
      "\u001b[34m\u001b[1mtrain:\u001b[0m /Users/adn-mbp/Github Repos/Edible-Mushroom-Prediction/Dataset/Yolo/Edible/train... found 808 images in 236 classes ✅ \n",
      "\u001b[34m\u001b[1mval:\u001b[0m /Users/adn-mbp/Github Repos/Edible-Mushroom-Prediction/Dataset/Yolo/Edible/val... found 236 images in 236 classes ✅ \n",
      "\u001b[34m\u001b[1mtest:\u001b[0m None...\n"
     ]
    },
    {
     "name": "stderr",
     "output_type": "stream",
     "text": [
      "\u001b[34m\u001b[1mval: \u001b[0mScanning /Users/adn-mbp/Github Repos/Edible-Mushroom-Prediction/Dataset/Yolo/Edible/val... 236 images, 0 corrupt: 100%|██████████| 236/236 [00:00<?, ?it/s]\n",
      "               classes   top1_acc   top5_acc: 100%|██████████| 15/15 [00:17<00:00,  1.19s/it]\n"
     ]
    },
    {
     "name": "stdout",
     "output_type": "stream",
     "text": [
      "                   all      0.415      0.581\n",
      "Speed: 0.0ms preprocess, 20.7ms inference, 0.0ms loss, 0.0ms postprocess per image\n",
      "Results saved to \u001b[1mruns/classify/train82\u001b[0m\n"
     ]
    },
    {
     "data": {
      "text/plain": [
       "0.5805084705352783"
      ]
     },
     "execution_count": 4,
     "metadata": {},
     "output_type": "execute_result"
    }
   ],
   "source": [
    "# Validate the model\n",
    "metrics = model.val() # no arguments needed, dataset and settings remembered\n",
    "metrics.top1 # top1 accuracy\n",
    "metrics.top5 # top5 accuracy"
   ]
  },
  {
   "cell_type": "code",
   "execution_count": 5,
   "metadata": {},
   "outputs": [
    {
     "name": "stdout",
     "output_type": "stream",
     "text": [
      "\n",
      "image 1/1 /Users/adn-mbp/Github Repos/Edible-Mushroom-Prediction/Dataset/Yolo/Edible/Val/Agaricus_albolutescens/agaricus-albolutescens-2.jpg: 320x320 Agaricus_langei 0.53, Psilocybe_cubensis 0.12, Agaricus_subperonatus 0.06, Lyophyllum_shimeji 0.05, Hygrophorus_poetarum 0.05, 6.9ms\n",
      "Speed: 67.1ms preprocess, 6.9ms inference, 0.0ms postprocess per image at shape (1, 3, 320, 320)\n"
     ]
    },
    {
     "ename": "NameError",
     "evalue": "name 'result' is not defined",
     "output_type": "error",
     "traceback": [
      "\u001b[0;31m---------------------------------------------------------------------------\u001b[0m",
      "\u001b[0;31mNameError\u001b[0m                                 Traceback (most recent call last)",
      "Cell \u001b[0;32mIn[5], line 2\u001b[0m\n\u001b[1;32m      1\u001b[0m results \u001b[38;5;241m=\u001b[39m model\u001b[38;5;241m.\u001b[39mpredict(\u001b[38;5;124m\"\u001b[39m\u001b[38;5;124mDataset/Yolo/Edible/Val/Agaricus_albolutescens/agaricus-albolutescens-2.jpg\u001b[39m\u001b[38;5;124m\"\u001b[39m)\n\u001b[0;32m----> 2\u001b[0m probs \u001b[38;5;241m=\u001b[39m \u001b[43mresult\u001b[49m\u001b[38;5;241m.\u001b[39mprobs \u001b[38;5;66;03m# Probs object for classification outputs\u001b[39;00m\n\u001b[1;32m      3\u001b[0m \u001b[38;5;28mprint\u001b[39m(probs\u001b[38;5;241m.\u001b[39mdata)\n\u001b[1;32m      5\u001b[0m \u001b[38;5;66;03m# Output\u001b[39;00m\n",
      "\u001b[0;31mNameError\u001b[0m: name 'result' is not defined"
     ]
    }
   ],
   "source": [
    "results = model.predict(\"Dataset/Yolo/Edible/Val/Agaricus_albolutescens/agaricus-albolutescens-2.jpg\")\n",
    "probs = result.probs # Probs object for classification outputs\n",
    "print(probs.data)\n",
    "\n",
    "# Output\n",
    "tensor([1.4597e-05, 9.9976e-01, 9.4075e-07, 9.4564e-05, 4.1166e-06, 9.2344e-05, 3.5393e-05], device='cuda:0')"
   ]
  },
  {
   "cell_type": "code",
   "execution_count": null,
   "metadata": {},
   "outputs": [],
   "source": []
  }
 ],
 "metadata": {
  "kernelspec": {
   "display_name": "Thesis",
   "language": "python",
   "name": "python3"
  },
  "language_info": {
   "codemirror_mode": {
    "name": "ipython",
    "version": 3
   },
   "file_extension": ".py",
   "mimetype": "text/x-python",
   "name": "python",
   "nbconvert_exporter": "python",
   "pygments_lexer": "ipython3",
   "version": "3.10.14"
  }
 },
 "nbformat": 4,
 "nbformat_minor": 2
}
