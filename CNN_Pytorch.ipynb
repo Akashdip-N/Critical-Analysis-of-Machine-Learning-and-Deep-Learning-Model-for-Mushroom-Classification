{
 "cells": [
  {
   "cell_type": "code",
   "execution_count": 1,
   "metadata": {},
   "outputs": [],
   "source": [
    "import torch\n",
    "import torch.nn as nn\n",
    "import torch.optim as optim\n",
    "import torch.nn.functional as F\n",
    "from torchvision import datasets, transforms\n",
    "from torch.utils.data import DataLoader\n",
    "import random"
   ]
  },
  {
   "cell_type": "code",
   "execution_count": 2,
   "metadata": {},
   "outputs": [],
   "source": [
    "import json\n",
    "\n",
    "# Function to load configurations\n",
    "def load_config(config_file):\n",
    "    with open(config_file, 'r') as file:\n",
    "        config = json.load(file)\n",
    "    return config\n",
    "\n",
    "# Load the configuration\n",
    "config = load_config('config/config.json')\n",
    "\n",
    "# Access the dataset path\n",
    "dataset_dir = config['dataset_path']\n",
    "train_dir = config['train_path']\n",
    "val_dir = config['val_path']"
   ]
  },
  {
   "cell_type": "code",
   "execution_count": 3,
   "metadata": {},
   "outputs": [],
   "source": [
    "class HeavierSimpleCNN(nn.Module):\n",
    "    def __init__(self):\n",
    "        super(HeavierSimpleCNN, self).__init__()\n",
    "        self.conv1 = nn.Conv2d(3, 32, 3, padding=1)\n",
    "        self.conv2 = nn.Conv2d(32, 64, 3, padding=1)\n",
    "        self.conv3 = nn.Conv2d(64, 128, 3, padding=1)\n",
    "        self.conv4 = nn.Conv2d(128, 256, 3, padding=1)\n",
    "        self.pool = nn.MaxPool2d(2, 2)\n",
    "        self.fc1 = nn.Linear(256 * 2 * 2, 1024)  # Adjust the in_features based on the last layer output\n",
    "        self.fc2 = nn.Linear(1024, 512)\n",
    "        self.fc3 = nn.Linear(512, 10)\n",
    "        self.dropout = nn.Dropout(0.5)\n",
    "\n",
    "    def forward(self, x):\n",
    "        x = self.pool(F.relu(self.conv1(x)))\n",
    "        x = self.pool(F.relu(self.conv2(x)))\n",
    "        x = self.pool(F.relu(self.conv3(x)))\n",
    "        x = self.pool(F.relu(self.conv4(x)))\n",
    "        x = x.view(x.size(0), -1)  # Ensure that the batch size is maintained\n",
    "        x = self.dropout(F.relu(self.fc1(x)))\n",
    "        x = self.dropout(F.relu(self.fc2(x)))\n",
    "        x = self.fc3(x)\n",
    "        return x"
   ]
  },
  {
   "cell_type": "code",
   "execution_count": 4,
   "metadata": {},
   "outputs": [],
   "source": [
    "# Transforms and DataLoader setup\n",
    "transform = transforms.Compose([\n",
    "    transforms.RandomResizedCrop(32),\n",
    "    transforms.RandomHorizontalFlip(),\n",
    "    transforms.RandomRotation(10),\n",
    "    transforms.ToTensor(),\n",
    "    transforms.Normalize((0.5, 0.5, 0.5), (0.5, 0.5, 0.5))\n",
    "])\n"
   ]
  },
  {
   "cell_type": "code",
   "execution_count": 5,
   "metadata": {},
   "outputs": [],
   "source": [
    "# Dataset and DataLoader\n",
    "train_data = datasets.ImageFolder(train_dir, transform=transform)\n",
    "val_data = datasets.ImageFolder(val_dir, transform=transform)"
   ]
  },
  {
   "cell_type": "code",
   "execution_count": 6,
   "metadata": {},
   "outputs": [],
   "source": [
    "train_loader = DataLoader(train_data, batch_size=20, shuffle=True, drop_last=True)\n",
    "val_loader = DataLoader(val_data, batch_size=20, shuffle=False, drop_last=True)"
   ]
  },
  {
   "cell_type": "code",
   "execution_count": 7,
   "metadata": {},
   "outputs": [],
   "source": [
    "# Initialize the model, loss criterion and optimizer\n",
    "model = HeavierSimpleCNN()\n",
    "if torch.cuda.is_available():\n",
    "    model.cuda()"
   ]
  },
  {
   "cell_type": "code",
   "execution_count": 8,
   "metadata": {},
   "outputs": [],
   "source": [
    "criterion = nn.CrossEntropyLoss()\n",
    "optimizer = optim.Adam(model.parameters(), lr=0.001)"
   ]
  },
  {
   "cell_type": "code",
   "execution_count": 9,
   "metadata": {},
   "outputs": [],
   "source": [
    "# Function to train the model\n",
    "def train_model(model, train_loader, criterion, optimizer, num_epochs=50):\n",
    "    model.train()\n",
    "    for epoch in range(num_epochs):\n",
    "        running_loss = 0.0\n",
    "        for inputs, labels in train_loader:\n",
    "            if torch.cuda.is_available():\n",
    "                inputs, labels = inputs.cuda(), labels.cuda()\n",
    "\n",
    "            optimizer.zero_grad()\n",
    "            outputs = model(inputs)\n",
    "            loss = criterion(outputs, labels)\n",
    "            loss.backward()\n",
    "            optimizer.step()\n",
    "            running_loss += loss.item() * inputs.size(0)\n",
    "\n",
    "        print(f'Epoch {epoch+1}/{num_epochs} - Loss: {running_loss / len(train_loader.dataset):.4f}')\n"
   ]
  },
  {
   "cell_type": "code",
   "execution_count": 10,
   "metadata": {},
   "outputs": [],
   "source": [
    "# Function to evaluate the model\n",
    "def evaluate_model(model, val_loader):\n",
    "    model.eval()\n",
    "    total = 0\n",
    "    correct = 0\n",
    "    with torch.no_grad():\n",
    "        for inputs, labels in val_loader:\n",
    "            if torch.cuda.is_available():\n",
    "                inputs, labels = inputs.cuda(), labels.cuda()\n",
    "            outputs = model(inputs)\n",
    "            _, predicted = torch.max(outputs.data, 1)\n",
    "            total += labels.size(0)\n",
    "            correct += (predicted == labels).sum().item()\n",
    "\n",
    "    print(f'Validation Accuracy: {100 * correct / total:.2f}%')"
   ]
  },
  {
   "cell_type": "code",
   "execution_count": 11,
   "metadata": {},
   "outputs": [
    {
     "name": "stdout",
     "output_type": "stream",
     "text": [
      "Epoch 1/50 - Loss: 1.1946\n",
      "Epoch 2/50 - Loss: 0.7036\n",
      "Epoch 3/50 - Loss: 0.6930\n",
      "Epoch 4/50 - Loss: 0.7129\n",
      "Epoch 5/50 - Loss: 0.6410\n",
      "Epoch 6/50 - Loss: 0.6612\n",
      "Epoch 7/50 - Loss: 0.6484\n",
      "Epoch 8/50 - Loss: 0.6598\n",
      "Epoch 9/50 - Loss: 0.6531\n",
      "Epoch 10/50 - Loss: 0.6331\n",
      "Epoch 11/50 - Loss: 0.6399\n",
      "Epoch 12/50 - Loss: 0.6362\n",
      "Epoch 13/50 - Loss: 0.6443\n",
      "Epoch 14/50 - Loss: 0.6517\n",
      "Epoch 15/50 - Loss: 0.6481\n",
      "Epoch 16/50 - Loss: 0.6396\n",
      "Epoch 17/50 - Loss: 0.6306\n",
      "Epoch 18/50 - Loss: 0.6323\n",
      "Epoch 19/50 - Loss: 0.6274\n",
      "Epoch 20/50 - Loss: 0.6311\n",
      "Epoch 21/50 - Loss: 0.6373\n",
      "Epoch 22/50 - Loss: 0.6285\n",
      "Epoch 23/50 - Loss: 0.6259\n",
      "Epoch 24/50 - Loss: 0.6445\n",
      "Epoch 25/50 - Loss: 0.6278\n",
      "Epoch 26/50 - Loss: 0.6032\n",
      "Epoch 27/50 - Loss: 0.6070\n",
      "Epoch 28/50 - Loss: 0.6382\n",
      "Epoch 29/50 - Loss: 0.6126\n",
      "Epoch 30/50 - Loss: 0.6270\n",
      "Epoch 31/50 - Loss: 0.6154\n",
      "Epoch 32/50 - Loss: 0.6120\n",
      "Epoch 33/50 - Loss: 0.6305\n",
      "Epoch 34/50 - Loss: 0.6062\n",
      "Epoch 35/50 - Loss: 0.6081\n",
      "Epoch 36/50 - Loss: 0.5741\n",
      "Epoch 37/50 - Loss: 0.5800\n",
      "Epoch 38/50 - Loss: 0.5481\n",
      "Epoch 39/50 - Loss: 0.6517\n",
      "Epoch 40/50 - Loss: 0.5752\n",
      "Epoch 41/50 - Loss: 0.5899\n",
      "Epoch 42/50 - Loss: 0.6140\n",
      "Epoch 43/50 - Loss: 0.5950\n",
      "Epoch 44/50 - Loss: 0.5855\n",
      "Epoch 45/50 - Loss: 0.6018\n",
      "Epoch 46/50 - Loss: 0.5735\n",
      "Epoch 47/50 - Loss: 0.5558\n",
      "Epoch 48/50 - Loss: 0.5424\n",
      "Epoch 49/50 - Loss: 0.5160\n",
      "Epoch 50/50 - Loss: 0.6433\n",
      "Validation Accuracy: 65.00%\n"
     ]
    }
   ],
   "source": [
    "# Train and evaluate the model\n",
    "train_model(model, train_loader, criterion, optimizer)\n",
    "evaluate_model(model, val_loader)"
   ]
  }
 ],
 "metadata": {
  "kernelspec": {
   "display_name": "Thesis",
   "language": "python",
   "name": "python3"
  },
  "language_info": {
   "codemirror_mode": {
    "name": "ipython",
    "version": 3
   },
   "file_extension": ".py",
   "mimetype": "text/x-python",
   "name": "python",
   "nbconvert_exporter": "python",
   "pygments_lexer": "ipython3",
   "version": "3.10.14"
  }
 },
 "nbformat": 4,
 "nbformat_minor": 4
}
