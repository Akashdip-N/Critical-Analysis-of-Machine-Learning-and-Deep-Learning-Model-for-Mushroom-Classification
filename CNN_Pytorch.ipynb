{
 "cells": [
  {
   "cell_type": "code",
   "execution_count": 1,
   "metadata": {},
   "outputs": [],
   "source": [
    "import pandas as pd\n",
    "import torch\n",
    "import torch.nn as nn\n",
    "import torch.optim as optim\n",
    "from torch.utils.data import DataLoader\n",
    "from torchvision import datasets, transforms\n",
    "from sklearn.model_selection import ParameterGrid\n",
    "from tqdm import tqdm\n",
    "import torch.nn.functional as F\n",
    "import matplotlib.pyplot as plt\n",
    "from sklearn.metrics import confusion_matrix, accuracy_score, classification_report, precision_score, recall_score, f1_score\n",
    "import seaborn as sns"
   ]
  },
  {
   "cell_type": "code",
   "execution_count": 2,
   "metadata": {},
   "outputs": [],
   "source": [
    "import json\n",
    "\n",
    "# Function to load configurations\n",
    "def load_config(config_file):\n",
    "    with open(config_file, 'r') as file:\n",
    "        config = json.load(file)\n",
    "    return config\n",
    "\n",
    "# Load the configuration\n",
    "config = load_config('config/config.json')\n",
    "\n",
    "# Access the dataset path\n",
    "dataset_dir = config['dataset_path']\n",
    "train_dir = config['train_path']\n",
    "val_dir = config['val_path']\n",
    "test_dir = config['test_path']"
   ]
  },
  {
   "cell_type": "code",
   "execution_count": 3,
   "metadata": {},
   "outputs": [],
   "source": [
    "number_of_epochs = 30"
   ]
  },
  {
   "cell_type": "code",
   "execution_count": 4,
   "metadata": {},
   "outputs": [],
   "source": [
    "# Define your CNN model\n",
    "class CNN_Model(nn.Module):\n",
    "    def __init__(self, dropout_rate):\n",
    "        super(CNN_Model, self).__init__()\n",
    "        self.conv1 = nn.Conv2d(3, 32, 3, padding=1)\n",
    "        self.bn1 = nn.BatchNorm2d(32)\n",
    "        self.conv2 = nn.Conv2d(32, 64, 3, padding=1)\n",
    "        self.bn2 = nn.BatchNorm2d(64)\n",
    "        self.conv3 = nn.Conv2d(64, 128, 3, padding=1)\n",
    "        self.bn3 = nn.BatchNorm2d(128)\n",
    "        self.conv4 = nn.Conv2d(128, 256, 3, padding=1)\n",
    "        self.bn4 = nn.BatchNorm2d(256)\n",
    "        self.conv5 = nn.Conv2d(256, 512, 3, padding=1)\n",
    "        self.bn5 = nn.BatchNorm2d(512)\n",
    "        self.pool = nn.MaxPool2d(2, 2)\n",
    "        \n",
    "        self.fc1 = nn.Linear(512 * 2 * 2, 2048)\n",
    "        self.fc2 = nn.Linear(2048, 1024)\n",
    "        self.fc3 = nn.Linear(1024, 512)\n",
    "        self.fc4 = nn.Linear(512, 10)\n",
    "        self.dropout = nn.Dropout(dropout_rate)\n",
    "\n",
    "    def forward(self, x):\n",
    "        x = self.pool(F.relu(self.bn1(self.conv1(x))))\n",
    "        x = self.pool(F.relu(self.bn2(self.conv2(x))))\n",
    "        x = self.pool(F.relu(self.bn3(self.conv3(x))))\n",
    "        x = self.pool(F.relu(self.bn4(self.conv4(x))))\n",
    "        x = self.pool(F.relu(self.bn5(self.conv5(x))))\n",
    "        x = x.view(x.size(0), -1)  # Flatten the output\n",
    "        x = self.dropout(F.relu(self.fc1(x)))\n",
    "        x = self.dropout(F.relu(self.fc2(x)))\n",
    "        x = F.relu(self.fc3(x))\n",
    "        x = self.fc4(x)\n",
    "        return x"
   ]
  },
  {
   "cell_type": "code",
   "execution_count": 5,
   "metadata": {},
   "outputs": [],
   "source": [
    "# Set the parameter grid for hyperparameter tuning\n",
    "param_grid = {\n",
    "    'learning_rate': [0.00001, 0.001, 0.0001],\n",
    "    'batch_size': [16, 32, 64],\n",
    "    'dropout_rate': [0.3, 0.5, 0.7],\n",
    "}"
   ]
  },
  {
   "cell_type": "code",
   "execution_count": 6,
   "metadata": {},
   "outputs": [],
   "source": [
    "# Define transforms for train and validation data\n",
    "transform = transforms.Compose([\n",
    "    transforms.Resize((64, 64)),\n",
    "    transforms.ToTensor(),\n",
    "])"
   ]
  },
  {
   "cell_type": "code",
   "execution_count": 7,
   "metadata": {},
   "outputs": [],
   "source": [
    "# Load train and val datasets from respective folders\n",
    "train_dataset = datasets.ImageFolder(\n",
    "    root=train_dir,\n",
    "    transform=transform\n",
    ")\n",
    "\n",
    "val_dataset = datasets.ImageFolder(\n",
    "    root=val_dir,\n",
    "    transform=transform\n",
    ")"
   ]
  },
  {
   "cell_type": "code",
   "execution_count": 8,
   "metadata": {},
   "outputs": [],
   "source": [
    "# Define function for training and validation\n",
    "def train_and_evaluate(params):\n",
    "    learning_rate = params['learning_rate']\n",
    "    batch_size = params['batch_size']\n",
    "    dropout_rate = params['dropout_rate']\n",
    "\n",
    "    train_loader = DataLoader(train_dataset, batch_size=batch_size, shuffle=True)\n",
    "    val_loader = DataLoader(val_dataset, batch_size=batch_size, shuffle=False)\n",
    "\n",
    "    model = CNN_Model(dropout_rate=dropout_rate)\n",
    "    criterion = nn.CrossEntropyLoss()\n",
    "    optimizer = optim.Adam(model.parameters(), lr=learning_rate)\n",
    "\n",
    "    # Training\n",
    "    model.train()\n",
    "    for epoch in range(number_of_epochs):\n",
    "        for inputs, labels in train_loader:\n",
    "            optimizer.zero_grad()\n",
    "            outputs = model(inputs)\n",
    "            loss = criterion(outputs, labels)\n",
    "            loss.backward()\n",
    "            optimizer.step()\n",
    "\n",
    "    # Validation\n",
    "    model.eval()\n",
    "    correct, total = 0, 0\n",
    "    with torch.no_grad():\n",
    "        for inputs, labels in val_loader:\n",
    "            outputs = model(inputs)\n",
    "            _, predicted = torch.max(outputs, 1)\n",
    "            total += labels.size(0)\n",
    "            correct += (predicted == labels).sum().item()\n",
    "\n",
    "    accuracy = 100 * correct / total\n",
    "    return accuracy"
   ]
  },
  {
   "cell_type": "code",
   "execution_count": 9,
   "metadata": {},
   "outputs": [
    {
     "name": "stdout",
     "output_type": "stream",
     "text": [
      "Params: {'batch_size': 16, 'dropout_rate': 0.3, 'learning_rate': 1e-05}, Accuracy: 53.57%\n",
      "Params: {'batch_size': 16, 'dropout_rate': 0.3, 'learning_rate': 0.001}, Accuracy: 39.29%\n",
      "Params: {'batch_size': 16, 'dropout_rate': 0.3, 'learning_rate': 0.0001}, Accuracy: 50.00%\n",
      "Params: {'batch_size': 16, 'dropout_rate': 0.5, 'learning_rate': 1e-05}, Accuracy: 42.86%\n",
      "Params: {'batch_size': 16, 'dropout_rate': 0.5, 'learning_rate': 0.001}, Accuracy: 42.86%\n",
      "Params: {'batch_size': 16, 'dropout_rate': 0.5, 'learning_rate': 0.0001}, Accuracy: 67.86%\n",
      "Params: {'batch_size': 16, 'dropout_rate': 0.7, 'learning_rate': 1e-05}, Accuracy: 39.29%\n",
      "Params: {'batch_size': 16, 'dropout_rate': 0.7, 'learning_rate': 0.001}, Accuracy: 42.86%\n",
      "Params: {'batch_size': 16, 'dropout_rate': 0.7, 'learning_rate': 0.0001}, Accuracy: 53.57%\n",
      "Params: {'batch_size': 32, 'dropout_rate': 0.3, 'learning_rate': 1e-05}, Accuracy: 35.71%\n",
      "Params: {'batch_size': 32, 'dropout_rate': 0.3, 'learning_rate': 0.001}, Accuracy: 50.00%\n",
      "Params: {'batch_size': 32, 'dropout_rate': 0.3, 'learning_rate': 0.0001}, Accuracy: 67.86%\n",
      "Params: {'batch_size': 32, 'dropout_rate': 0.5, 'learning_rate': 1e-05}, Accuracy: 39.29%\n",
      "Params: {'batch_size': 32, 'dropout_rate': 0.5, 'learning_rate': 0.001}, Accuracy: 53.57%\n",
      "Params: {'batch_size': 32, 'dropout_rate': 0.5, 'learning_rate': 0.0001}, Accuracy: 67.86%\n",
      "Params: {'batch_size': 32, 'dropout_rate': 0.7, 'learning_rate': 1e-05}, Accuracy: 57.14%\n",
      "Params: {'batch_size': 32, 'dropout_rate': 0.7, 'learning_rate': 0.001}, Accuracy: 46.43%\n",
      "Params: {'batch_size': 32, 'dropout_rate': 0.7, 'learning_rate': 0.0001}, Accuracy: 60.71%\n",
      "Params: {'batch_size': 64, 'dropout_rate': 0.3, 'learning_rate': 1e-05}, Accuracy: 42.86%\n",
      "Params: {'batch_size': 64, 'dropout_rate': 0.3, 'learning_rate': 0.001}, Accuracy: 57.14%\n",
      "Params: {'batch_size': 64, 'dropout_rate': 0.3, 'learning_rate': 0.0001}, Accuracy: 57.14%\n",
      "Params: {'batch_size': 64, 'dropout_rate': 0.5, 'learning_rate': 1e-05}, Accuracy: 42.86%\n",
      "Params: {'batch_size': 64, 'dropout_rate': 0.5, 'learning_rate': 0.001}, Accuracy: 42.86%\n",
      "Params: {'batch_size': 64, 'dropout_rate': 0.5, 'learning_rate': 0.0001}, Accuracy: 60.71%\n",
      "Params: {'batch_size': 64, 'dropout_rate': 0.7, 'learning_rate': 1e-05}, Accuracy: 42.86%\n",
      "Params: {'batch_size': 64, 'dropout_rate': 0.7, 'learning_rate': 0.001}, Accuracy: 42.86%\n",
      "Params: {'batch_size': 64, 'dropout_rate': 0.7, 'learning_rate': 0.0001}, Accuracy: 39.29%\n",
      "Best Params: {'batch_size': 16, 'dropout_rate': 0.5, 'learning_rate': 0.0001}, Best Accuracy: 67.86%\n"
     ]
    }
   ],
   "source": [
    "# Perform hyperparameter tuning\n",
    "best_params, best_accuracy = None, 0\n",
    "for params in ParameterGrid(param_grid):\n",
    "    accuracy = train_and_evaluate(params)\n",
    "    print(f\"Params: {params}, Accuracy: {accuracy:.2f}%\")\n",
    "    if accuracy > best_accuracy:\n",
    "        best_accuracy = accuracy\n",
    "        best_params = params\n",
    "\n",
    "print(f\"Best Params: {best_params}, Best Accuracy: {best_accuracy:.2f}%\")\n"
   ]
  },
  {
   "cell_type": "code",
   "execution_count": 10,
   "metadata": {},
   "outputs": [],
   "source": [
    "# Example retraining code\n",
    "model = CNN_Model(dropout_rate = best_params['dropout_rate'])\n",
    "optimizer = torch.optim.Adam(model.parameters(), lr = best_params['learning_rate'])\n",
    "batch_size = best_params['batch_size']\n",
    "criterion = torch.nn.CrossEntropyLoss() "
   ]
  },
  {
   "cell_type": "code",
   "execution_count": 11,
   "metadata": {},
   "outputs": [],
   "source": [
    "train_loader = DataLoader(train_dataset, batch_size=batch_size, shuffle=True)\n",
    "val_loader = DataLoader(val_dataset, batch_size=batch_size, shuffle=False)"
   ]
  },
  {
   "cell_type": "code",
   "execution_count": 12,
   "metadata": {},
   "outputs": [],
   "source": [
    "def train_model(model, criterion, optimizer, num_epochs):\n",
    "    # Ensuring the model and all tensors are on the correct device\n",
    "    device = torch.device(\"cuda\" if torch.cuda.is_available() else \"cpu\")\n",
    "    model.to(device)\n",
    "    accuracy_stats = []\n",
    "    for epoch in range(num_epochs):\n",
    "        model.train()  # Set model to training mode\n",
    "        running_loss = 0.0\n",
    "\n",
    "        for images, labels in train_loader:\n",
    "            images, labels = images.to(device), labels.to(device)\n",
    "            if images.dim() != 4:\n",
    "                print(f\"Expected 4D tensor but got {images.dim()}D tensor. Skipping batch...\")\n",
    "                continue\n",
    "            optimizer.zero_grad()\n",
    "            outputs = model(images)\n",
    "            loss = criterion(outputs, labels)\n",
    "            loss.backward()\n",
    "            optimizer.step()\n",
    "            running_loss += loss.item()\n",
    "\n",
    "        # Evaluate on validation set after each epoch\n",
    "        model.eval()\n",
    "        val_labels = []\n",
    "        val_predictions = []\n",
    "        with torch.no_grad():\n",
    "            for inputs, labels in val_loader:\n",
    "                inputs, labels = inputs.to(device), labels.to(device)\n",
    "                outputs = model(inputs)\n",
    "                _, predicted = torch.max(outputs, 1)\n",
    "                val_labels.extend(labels.cpu().numpy())\n",
    "                val_predictions.extend(predicted.cpu().numpy())\n",
    "\n",
    "        epoch_accuracy = accuracy_score(val_labels, val_predictions)\n",
    "        accuracy_stats.append(epoch_accuracy)\n",
    "        print(f'Epoch {epoch+1}/{num_epochs}, Loss: {loss.item():.4f}, Val Accuracy: {epoch_accuracy:.4f}')\n",
    "\n",
    "    # Plotting the accuracy curve\n",
    "    plt.plot(range(1, num_epochs + 1), accuracy_stats, marker='o')\n",
    "    plt.xlabel('Epochs')\n",
    "    plt.ylabel('Accuracy')\n",
    "    plt.title('Accuracy Curve')\n",
    "    plt.show()"
   ]
  },
  {
   "cell_type": "code",
   "execution_count": 13,
   "metadata": {},
   "outputs": [],
   "source": [
    "# Initialize the model, loss criterion and optimizer\n",
    "if torch.cuda.is_available():\n",
    "    model.cuda()"
   ]
  },
  {
   "cell_type": "code",
   "execution_count": 14,
   "metadata": {},
   "outputs": [
    {
     "name": "stdout",
     "output_type": "stream",
     "text": [
      "Epoch 1/30, Loss: 0.8844, Val Accuracy: 0.4286\n",
      "Epoch 2/30, Loss: 0.4717, Val Accuracy: 0.4286\n",
      "Epoch 3/30, Loss: 0.8896, Val Accuracy: 0.4286\n",
      "Epoch 4/30, Loss: 0.6534, Val Accuracy: 0.3929\n",
      "Epoch 5/30, Loss: 1.0717, Val Accuracy: 0.3929\n",
      "Epoch 6/30, Loss: 0.7678, Val Accuracy: 0.3571\n",
      "Epoch 7/30, Loss: 0.2453, Val Accuracy: 0.4286\n",
      "Epoch 8/30, Loss: 0.1893, Val Accuracy: 0.4643\n",
      "Epoch 9/30, Loss: 0.3784, Val Accuracy: 0.4643\n",
      "Epoch 10/30, Loss: 0.0893, Val Accuracy: 0.6429\n",
      "Epoch 11/30, Loss: 0.0150, Val Accuracy: 0.7143\n",
      "Epoch 12/30, Loss: 0.0660, Val Accuracy: 0.6786\n",
      "Epoch 13/30, Loss: 0.0290, Val Accuracy: 0.6786\n",
      "Epoch 14/30, Loss: 0.0003, Val Accuracy: 0.7500\n",
      "Epoch 15/30, Loss: 0.0044, Val Accuracy: 0.6786\n",
      "Epoch 16/30, Loss: 1.4944, Val Accuracy: 0.6071\n",
      "Epoch 17/30, Loss: 0.0057, Val Accuracy: 0.6429\n",
      "Epoch 18/30, Loss: 0.0054, Val Accuracy: 0.6429\n",
      "Epoch 19/30, Loss: 0.0122, Val Accuracy: 0.6429\n",
      "Epoch 20/30, Loss: 0.0029, Val Accuracy: 0.6786\n",
      "Epoch 21/30, Loss: 0.0346, Val Accuracy: 0.6786\n",
      "Epoch 22/30, Loss: 0.0089, Val Accuracy: 0.6429\n",
      "Epoch 23/30, Loss: 0.0010, Val Accuracy: 0.6429\n",
      "Epoch 24/30, Loss: 0.0070, Val Accuracy: 0.6429\n",
      "Epoch 25/30, Loss: 0.1179, Val Accuracy: 0.6071\n",
      "Epoch 26/30, Loss: 0.0016, Val Accuracy: 0.6429\n",
      "Epoch 27/30, Loss: 0.0076, Val Accuracy: 0.6429\n",
      "Epoch 28/30, Loss: 0.0043, Val Accuracy: 0.6429\n",
      "Epoch 29/30, Loss: 0.0000, Val Accuracy: 0.6429\n",
      "Epoch 30/30, Loss: 0.0175, Val Accuracy: 0.6429\n"
     ]
    },
    {
     "data": {
      "image/png": "[encoded data removed]",
      "text/plain": [
       "<Figure size 640x480 with 1 Axes>"
      ]
     },
     "metadata": {},
     "output_type": "display_data"
    }
   ],
   "source": [
    "# Train and evaluate the model\n",
    "train_model(\n",
    "    model,\n",
    "    criterion,\n",
    "    optimizer,\n",
    "    number_of_epochs\n",
    ")"
   ]
  },
  {
   "cell_type": "code",
   "execution_count": 15,
   "metadata": {},
   "outputs": [],
   "source": [
    "torch.save(model.state_dict(), f'Pth_Files/CNN_Pytorch_{number_of_epochs}.pth')"
   ]
  },
  {
   "cell_type": "markdown",
   "metadata": {},
   "source": [
    "# Printing the results"
   ]
  },
  {
   "cell_type": "code",
   "execution_count": 16,
   "metadata": {},
   "outputs": [],
   "source": [
    "def evaluate_model(model):\n",
    "    val_loader = DataLoader(val_dataset, batch_size=batch_size, shuffle=False)\n",
    "    device = torch.device(\"cuda\" if torch.cuda.is_available() else \"cpu\")\n",
    "    model = model.to(device)\n",
    "    model.eval()\n",
    "\n",
    "    all_labels = []\n",
    "    all_predictions = []\n",
    "\n",
    "    with torch.no_grad():\n",
    "        for inputs, labels in val_loader:\n",
    "            inputs, labels = inputs.to(device), labels.to(device)\n",
    "            outputs = model(inputs)\n",
    "            _, predicted = torch.max(outputs, 1)\n",
    "            all_labels.extend(labels.cpu().numpy())\n",
    "            all_predictions.extend(predicted.cpu().numpy())\n",
    "\n",
    "    if len(all_labels) == 0:\n",
    "        print(\"No data was loaded. Check your dataset and DataLoader.\")\n",
    "    else:\n",
    "        # Calculate and print the confusion matrix\n",
    "        cm = confusion_matrix(all_labels, all_predictions)\n",
    "        # Plotting the confusion matrix\n",
    "        plt.figure(figsize=(10,7))\n",
    "        sns.heatmap(cm, annot=True, fmt='g', cmap='Blues')\n",
    "        plt.xlabel('Predicted labels')\n",
    "        plt.ylabel('True labels')\n",
    "        plt.title('Confusion Matrix Pytorch CNN Model')\n",
    "        plt.show()\n",
    "\n",
    "        # Calculate accuracy\n",
    "        accuracy = accuracy_score(all_labels, all_predictions)\n",
    "        print(f'Validation Accuracy: {accuracy * 100:.2f}%')\n",
    "        \n",
    "        report = classification_report(all_labels, all_predictions, target_names=['Edible', 'Poisonous'])\n",
    "        print('\\n--------------------------------\\n')\n",
    "        print(\"Classification Report:\")\n",
    "        accuracy = accuracy_score(all_labels, all_predictions)\n",
    "        precision = precision_score(all_labels, all_predictions, average='weighted')\n",
    "        recall = recall_score(all_labels, all_predictions, average='weighted')\n",
    "        f1 = f1_score(all_labels, all_predictions, average='weighted')\n",
    "\n",
    "        # Create a DataFrame to display the results in tabular format\n",
    "        metrics_df = pd.DataFrame({\n",
    "            'Metric': ['Accuracy', 'Precision', 'Recall', 'F1 Score'],\n",
    "            'Score': [accuracy, precision, recall, f1]\n",
    "        })\n",
    "\n",
    "        # Display the DataFrame\n",
    "        print(metrics_df.to_string(index=False))"
   ]
  },
  {
   "cell_type": "code",
   "execution_count": 17,
   "metadata": {},
   "outputs": [
    {
     "data": {
      "image/png": "[encoded data removed]",
      "text/plain": [
       "<Figure size 1000x700 with 2 Axes>"
      ]
     },
     "metadata": {},
     "output_type": "display_data"
    },
    {
     "name": "stdout",
     "output_type": "stream",
     "text": [
      "Validation Accuracy: 64.29%\n",
      "\n",
      "--------------------------------\n",
      "\n",
      "Classification Report:\n",
      "   Metric    Score\n",
      " Accuracy 0.642857\n",
      "Precision 0.653061\n",
      "   Recall 0.642857\n",
      " F1 Score 0.644689\n"
     ]
    }
   ],
   "source": [
    "evaluate_model(model)"
   ]
  },
  {
   "cell_type": "code",
   "execution_count": null,
   "metadata": {},
   "outputs": [],
   "source": []
  }
 ],
 "metadata": {
  "kernelspec": {
   "display_name": "Thesis",
   "language": "python",
   "name": "python3"
  },
  "language_info": {
   "codemirror_mode": {
    "name": "ipython",
    "version": 3
   },
   "file_extension": ".py",
   "mimetype": "text/x-python",
   "name": "python",
   "nbconvert_exporter": "python",
   "pygments_lexer": "ipython3",
   "version": "3.10.14"
  }
 },
 "nbformat": 4,
 "nbformat_minor": 2
}
