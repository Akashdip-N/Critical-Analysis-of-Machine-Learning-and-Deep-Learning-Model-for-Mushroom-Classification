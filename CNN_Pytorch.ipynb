{
 "cells": [
  {
   "cell_type": "code",
   "execution_count": 1,
   "metadata": {},
   "outputs": [],
   "source": [
    "import torch\n",
    "import torch.nn as nn\n",
    "import torch.optim as optim\n",
    "from torchvision import datasets, transforms\n",
    "from torch.utils.data import DataLoader, ConcatDataset\n",
    "import os\n",
    "from PIL import Image\n",
    "from torch.utils.data import Dataset"
   ]
  },
  {
   "cell_type": "code",
   "execution_count": 2,
   "metadata": {},
   "outputs": [],
   "source": [
    "# Define transformations\n",
    "data_transforms = {\n",
    "    'train': transforms.Compose([\n",
    "        transforms.Resize((64, 64)),  # Adjust based on your image size\n",
    "        transforms.RandomHorizontalFlip(),\n",
    "        transforms.ToTensor(),\n",
    "        transforms.Normalize([0.485, 0.456, 0.406], [0.229, 0.224, 0.225])\n",
    "    ]),\n",
    "    'test': transforms.Compose([\n",
    "        transforms.Resize((64, 64)),\n",
    "        transforms.ToTensor(),\n",
    "        transforms.Normalize([0.485, 0.456, 0.406], [0.229, 0.224, 0.225])\n",
    "    ]),\n",
    "}"
   ]
  },
  {
   "cell_type": "code",
   "execution_count": 3,
   "metadata": {},
   "outputs": [],
   "source": [
    "# Custom dataset class to handle image loading and labeling\n",
    "class CustomImageDataset(Dataset):\n",
    "    def __init__(self, image_paths, labels, transform=None):\n",
    "        self.image_paths = image_paths\n",
    "        self.labels = labels\n",
    "        self.transform = transform\n",
    "\n",
    "    def __len__(self):\n",
    "        return len(self.image_paths)\n",
    "\n",
    "    def __getitem__(self, idx):\n",
    "        img_path = self.image_paths[idx]\n",
    "        image = Image.open(img_path).convert(\"RGB\")\n",
    "        label = self.labels[idx]\n",
    "        \n",
    "        if self.transform:\n",
    "            image = self.transform(image)\n",
    "        \n",
    "        return image, label"
   ]
  },
  {
   "cell_type": "code",
   "execution_count": 4,
   "metadata": {},
   "outputs": [],
   "source": [
    "# Helper function to load images and assign labels (edible = 0, poisonous = 1)\n",
    "def load_images_from_folder(folder_path, label, transform):\n",
    "    image_paths = []\n",
    "    labels = []\n",
    "    \n",
    "    for filename in os.listdir(folder_path):\n",
    "        if filename.endswith(\".jpg\") or filename.endswith(\".png\"):  # Adjust extensions if needed\n",
    "            img_path = os.path.join(folder_path, filename)\n",
    "            image_paths.append(img_path)\n",
    "            labels.append(label)\n",
    "    \n",
    "    return CustomImageDataset(image_paths, labels, transform)\n"
   ]
  },
  {
   "cell_type": "code",
   "execution_count": 5,
   "metadata": {},
   "outputs": [],
   "source": [
    "# Load edible and poisonous datasets\n",
    "train_edible_dataset = load_images_from_folder('CNN_Dataset/edible/train', label=0, transform=data_transforms['train'])\n",
    "test_edible_dataset = load_images_from_folder('CNN_Dataset/edible/test', label=0, transform=data_transforms['test'])\n",
    "train_poisonous_dataset = load_images_from_folder('CNN_Dataset/poisonous/train', label=1, transform=data_transforms['train'])\n",
    "test_poisonous_dataset = load_images_from_folder('CNN_Dataset/poisonous/test', label=1, transform=data_transforms['test'])\n"
   ]
  },
  {
   "cell_type": "code",
   "execution_count": 6,
   "metadata": {},
   "outputs": [],
   "source": [
    "# Combine edible and poisonous datasets into single training and testing datasets\n",
    "train_dataset = ConcatDataset([train_edible_dataset, train_poisonous_dataset])\n",
    "test_dataset = ConcatDataset([test_edible_dataset, test_poisonous_dataset])"
   ]
  },
  {
   "cell_type": "code",
   "execution_count": 7,
   "metadata": {},
   "outputs": [],
   "source": [
    "# Data loaders for batching\n",
    "train_loader = DataLoader(train_dataset, batch_size=32, shuffle=True)\n",
    "test_loader = DataLoader(test_dataset, batch_size=32, shuffle=False)"
   ]
  },
  {
   "cell_type": "code",
   "execution_count": 8,
   "metadata": {},
   "outputs": [],
   "source": [
    "# Define the CNN model\n",
    "class CNNModel(nn.Module):\n",
    "    def __init__(self, num_classes):\n",
    "        super(CNNModel, self).__init__()\n",
    "        self.conv1 = nn.Conv2d(3, 32, kernel_size=3, stride=1, padding=1)\n",
    "        self.conv2 = nn.Conv2d(32, 64, kernel_size=3, stride=1, padding=1)\n",
    "        self.conv3 = nn.Conv2d(64, 128, kernel_size=3, stride=1, padding=1)  # New Conv Layer\n",
    "        self.pool = nn.MaxPool2d(kernel_size=2, stride=2, padding=0)\n",
    "        self.fc1 = nn.Linear(128 * 8 * 8, 256)  # Adjusted for additional conv layer\n",
    "        self.fc2 = nn.Linear(256, 128)  # New fully connected layer\n",
    "        self.fc3 = nn.Linear(128, num_classes)  # Final output layer\n",
    "\n",
    "    def forward(self, x):\n",
    "        x = self.pool(torch.relu(self.conv1(x)))\n",
    "        x = self.pool(torch.relu(self.conv2(x)))\n",
    "        x = self.pool(torch.relu(self.conv3(x)))  # New Conv layer activation\n",
    "        x = x.view(-1, 128 * 8 * 8)  # Flatten for the dense layers\n",
    "        x = torch.relu(self.fc1(x))\n",
    "        x = torch.relu(self.fc2(x))  # New dense layer activation\n",
    "        x = self.fc3(x)\n",
    "        return x"
   ]
  },
  {
   "cell_type": "code",
   "execution_count": 9,
   "metadata": {},
   "outputs": [],
   "source": [
    "# Number of classes (edible = 0, poisonous = 1)\n",
    "num_classes = 2\n",
    "model = CNNModel(num_classes=num_classes)\n",
    "\n",
    "# Define loss function and optimizer\n",
    "criterion = nn.CrossEntropyLoss()\n",
    "optimizer = optim.Adam(model.parameters(), lr=0.001)\n",
    "\n",
    "# Softmax function to compute confidence percentages\n",
    "softmax = nn.Softmax(dim=1)"
   ]
  },
  {
   "cell_type": "code",
   "execution_count": 10,
   "metadata": {},
   "outputs": [],
   "source": [
    "# Training loop\n",
    "def train_model(model, train_loader, test_loader, criterion, optimizer, num_epochs=10):\n",
    "    for epoch in range(num_epochs):\n",
    "        model.train()\n",
    "        running_loss = 0.0\n",
    "        for inputs, labels in train_loader:\n",
    "            optimizer.zero_grad()\n",
    "            outputs = model(inputs)\n",
    "            loss = criterion(outputs, labels)\n",
    "            loss.backward()\n",
    "            optimizer.step()\n",
    "            running_loss += loss.item()\n",
    "\n",
    "        print(f'Epoch {epoch+1}, Loss: {running_loss/len(train_loader)}')\n",
    "\n",
    "        # Test step\n",
    "        model.eval()\n",
    "        correct = 0\n",
    "        total = 0\n",
    "        with torch.no_grad():\n",
    "            for inputs, labels in test_loader:\n",
    "                outputs = model(inputs)\n",
    "                _, predicted = torch.max(outputs, 1)\n",
    "                total += labels.size(0)\n",
    "                correct += (predicted == labels).sum().item()\n",
    "\n",
    "        test_acc = correct / total\n",
    "        print(f'Test Accuracy: {test_acc * 100}%')\n",
    "\n",
    "    print('Training finished')"
   ]
  },
  {
   "cell_type": "code",
   "execution_count": 11,
   "metadata": {},
   "outputs": [],
   "source": [
    "# Prediction function with confidence percentage\n",
    "def predict_with_confidence(model, image_tensor):\n",
    "    model.eval()\n",
    "    with torch.no_grad():\n",
    "        outputs = model(image_tensor.unsqueeze(0))  # Add batch dimension\n",
    "        probabilities = softmax(outputs)\n",
    "        confidence, predicted_class = torch.max(probabilities, 1)\n",
    "        return predicted_class.item(), confidence.item()"
   ]
  },
  {
   "cell_type": "code",
   "execution_count": 12,
   "metadata": {},
   "outputs": [
    {
     "name": "stdout",
     "output_type": "stream",
     "text": [
      "Epoch 1, Loss: 0.6992482182880243\n",
      "Test Accuracy: 54.83028720626631%\n",
      "Epoch 2, Loss: 0.691397175192833\n",
      "Test Accuracy: 45.16971279373368%\n",
      "Epoch 3, Loss: 0.6908584410945574\n",
      "Test Accuracy: 54.83028720626631%\n",
      "Epoch 4, Loss: 0.689555445065101\n",
      "Test Accuracy: 56.919060052219315%\n",
      "Epoch 5, Loss: 0.6744343663255373\n",
      "Test Accuracy: 56.13577023498695%\n",
      "Epoch 6, Loss: 0.6784239696959654\n",
      "Test Accuracy: 55.61357702349869%\n",
      "Epoch 7, Loss: 0.6631793566048145\n",
      "Test Accuracy: 55.09138381201044%\n",
      "Epoch 8, Loss: 0.6519438792020082\n",
      "Test Accuracy: 54.56919060052219%\n",
      "Epoch 9, Loss: 0.6425374038517475\n",
      "Test Accuracy: 57.96344647519582%\n",
      "Epoch 10, Loss: 0.6115417703986168\n",
      "Test Accuracy: 57.44125326370757%\n",
      "Epoch 11, Loss: 0.5984133084615072\n",
      "Test Accuracy: 58.22454308093995%\n",
      "Epoch 12, Loss: 0.5539977407703797\n",
      "Test Accuracy: 54.308093994778076%\n",
      "Epoch 13, Loss: 0.5193035261084636\n",
      "Test Accuracy: 55.09138381201044%\n",
      "Epoch 14, Loss: 0.4505273159593344\n",
      "Test Accuracy: 56.6579634464752%\n",
      "Epoch 15, Loss: 0.3977899045373003\n",
      "Test Accuracy: 52.48041775456919%\n",
      "Epoch 16, Loss: 0.35227503317097825\n",
      "Test Accuracy: 54.83028720626631%\n",
      "Epoch 17, Loss: 0.3133659795857966\n",
      "Test Accuracy: 53.78590078328982%\n",
      "Epoch 18, Loss: 0.23905555896150568\n",
      "Test Accuracy: 53.78590078328982%\n",
      "Epoch 19, Loss: 0.19598579965531826\n",
      "Test Accuracy: 55.35248041775457%\n",
      "Epoch 20, Loss: 0.19374453967126706\n",
      "Test Accuracy: 54.308093994778076%\n",
      "Epoch 21, Loss: 0.11466504497608791\n",
      "Test Accuracy: 52.74151436031331%\n",
      "Epoch 22, Loss: 0.07961873673290636\n",
      "Test Accuracy: 55.61357702349869%\n",
      "Epoch 23, Loss: 0.08248865268736456\n",
      "Test Accuracy: 55.61357702349869%\n",
      "Epoch 24, Loss: 0.04988407266985936\n",
      "Test Accuracy: 55.87467362924282%\n",
      "Epoch 25, Loss: 0.06139027662963296\n",
      "Test Accuracy: 55.87467362924282%\n",
      "Epoch 26, Loss: 0.05815699605348831\n",
      "Test Accuracy: 54.04699738903395%\n",
      "Epoch 27, Loss: 0.07139368616238546\n",
      "Test Accuracy: 56.919060052219315%\n",
      "Epoch 28, Loss: 0.04153470929910933\n",
      "Test Accuracy: 54.83028720626631%\n",
      "Epoch 29, Loss: 0.030826701452800382\n",
      "Test Accuracy: 54.308093994778076%\n",
      "Epoch 30, Loss: 0.029046486508984042\n",
      "Test Accuracy: 52.219321148825074%\n",
      "Epoch 31, Loss: 0.013698851490820138\n",
      "Test Accuracy: 53.00261096605744%\n",
      "Epoch 32, Loss: 0.031029179772303905\n",
      "Test Accuracy: 52.219321148825074%\n",
      "Epoch 33, Loss: 0.02406376328508486\n",
      "Test Accuracy: 53.52480417754569%\n",
      "Epoch 34, Loss: 0.022826272684142168\n",
      "Test Accuracy: 52.219321148825074%\n",
      "Epoch 35, Loss: 0.05454650420385102\n",
      "Test Accuracy: 56.6579634464752%\n",
      "Epoch 36, Loss: 0.023880851370146654\n",
      "Test Accuracy: 55.09138381201044%\n",
      "Epoch 37, Loss: 0.01817592753680704\n",
      "Test Accuracy: 55.35248041775457%\n",
      "Epoch 38, Loss: 0.007404678386895587\n",
      "Test Accuracy: 56.13577023498695%\n",
      "Epoch 39, Loss: 0.0020714664912399408\n",
      "Test Accuracy: 56.13577023498695%\n",
      "Epoch 40, Loss: 0.0010172911865993228\n",
      "Test Accuracy: 56.39686684073107%\n",
      "Epoch 41, Loss: 0.000566768014474898\n",
      "Test Accuracy: 57.44125326370757%\n",
      "Epoch 42, Loss: 0.00023042523757036784\n",
      "Test Accuracy: 57.44125326370757%\n",
      "Epoch 43, Loss: 0.00021079263043096338\n",
      "Test Accuracy: 57.44125326370757%\n",
      "Epoch 44, Loss: 0.00020079702979577027\n",
      "Test Accuracy: 57.702349869451695%\n",
      "Epoch 45, Loss: 0.00014443820547664168\n",
      "Test Accuracy: 57.702349869451695%\n",
      "Epoch 46, Loss: 0.00014400126277299327\n",
      "Test Accuracy: 57.180156657963444%\n",
      "Epoch 47, Loss: 0.0001293449707494195\n",
      "Test Accuracy: 57.44125326370757%\n",
      "Epoch 48, Loss: 0.00010755278488735105\n",
      "Test Accuracy: 57.44125326370757%\n",
      "Epoch 49, Loss: 0.00011397977681326665\n",
      "Test Accuracy: 57.180156657963444%\n",
      "Epoch 50, Loss: 0.00010498663232283434\n",
      "Test Accuracy: 57.180156657963444%\n",
      "Training finished\n"
     ]
    }
   ],
   "source": [
    "# Train the model\n",
    "train_model(\n",
    "    model,\n",
    "    train_loader,\n",
    "    test_loader,\n",
    "    criterion,\n",
    "    optimizer,\n",
    "    num_epochs = 50\n",
    ")"
   ]
  },
  {
   "cell_type": "code",
   "execution_count": 13,
   "metadata": {},
   "outputs": [],
   "source": [
    "torch.save(model.state_dict(), 'CNN_torch.pth')  # Save the model"
   ]
  },
  {
   "cell_type": "markdown",
   "metadata": {},
   "source": [
    "### Testing the model"
   ]
  },
  {
   "cell_type": "code",
   "execution_count": 14,
   "metadata": {},
   "outputs": [],
   "source": [
    "# Load and preprocess the image\n",
    "def preprocess_image(image_path, transform):\n",
    "    image = Image.open(image_path).convert('RGB')  # Ensure RGB format\n",
    "    image = transform(image)  # Apply transformations\n",
    "    return image"
   ]
  },
  {
   "cell_type": "code",
   "execution_count": 15,
   "metadata": {},
   "outputs": [
    {
     "name": "stdout",
     "output_type": "stream",
     "text": [
      "Predicted Class: edible, Confidence: 99.99%\n"
     ]
    }
   ],
   "source": [
    "# Example of predicting a single image\n",
    "image_path = 'CNN_Dataset/Poisonous/test/1667816120_xylaria-carpophila-4.jpg'  # Replace with your image path\n",
    "image_tensor = preprocess_image(image_path, data_transforms['test'])  # Use the test transforms\n",
    "\n",
    "# Predict the class and confidence\n",
    "predicted_class, confidence = predict_with_confidence(model, image_tensor)\n",
    "\n",
    "# Map the predicted class to label\n",
    "class_mapping = {0: 'edible', 1: 'poisonous'}\n",
    "print(f'Predicted Class: {class_mapping[predicted_class]}, Confidence: {confidence * 100:.2f}%')"
   ]
  },
  {
   "cell_type": "code",
   "execution_count": 16,
   "metadata": {},
   "outputs": [
    {
     "name": "stdout",
     "output_type": "stream",
     "text": [
      "Predicted Class: edible, Confidence: 100.00%\n"
     ]
    }
   ],
   "source": [
    "# Example of predicting a single image\n",
    "image_path = 'CNN_Dataset/Edible/test/psilocybe-samuiensis-1.jpg'  # Replace with your image path\n",
    "image_tensor = preprocess_image(image_path, data_transforms['test'])  # Use the test transforms\n",
    "\n",
    "# Predict the class and confidence\n",
    "predicted_class, confidence = predict_with_confidence(model, image_tensor)\n",
    "\n",
    "# Map the predicted class to label\n",
    "class_mapping = {0: 'edible', 1: 'poisonous'}\n",
    "print(f'Predicted Class: {class_mapping[predicted_class]}, Confidence: {confidence * 100:.2f}%')"
   ]
  },
  {
   "cell_type": "code",
   "execution_count": 17,
   "metadata": {},
   "outputs": [
    {
     "name": "stdout",
     "output_type": "stream",
     "text": [
      "Predicted Class: poisonous, Confidence: 80.88%\n"
     ]
    }
   ],
   "source": [
    "# Example of predicting a single image\n",
    "image_path = 'mushroom_images/Test/Poisonous.jpeg'  # Replace with your image path\n",
    "image_tensor = preprocess_image(image_path, data_transforms['test'])  # Use the test transforms\n",
    "\n",
    "# Predict the class and confidence\n",
    "predicted_class, confidence = predict_with_confidence(model, image_tensor)\n",
    "\n",
    "# Map the predicted class to label\n",
    "class_mapping = {0: 'edible', 1: 'poisonous'}\n",
    "print(f'Predicted Class: {class_mapping[predicted_class]}, Confidence: {confidence * 100:.2f}%')"
   ]
  },
  {
   "cell_type": "code",
   "execution_count": 18,
   "metadata": {},
   "outputs": [
    {
     "name": "stdout",
     "output_type": "stream",
     "text": [
      "Predicted Class: edible, Confidence: 100.00%\n"
     ]
    }
   ],
   "source": [
    "# Example of predicting a single image\n",
    "image_path = 'mushroom_images/Test/Edible.jpeg'  # Replace with your image path\n",
    "image_tensor = preprocess_image(image_path, data_transforms['test'])  # Use the test transforms\n",
    "\n",
    "# Predict the class and confidence\n",
    "predicted_class, confidence = predict_with_confidence(model, image_tensor)\n",
    "\n",
    "# Map the predicted class to label\n",
    "class_mapping = {0: 'edible', 1: 'poisonous'}\n",
    "print(f'Predicted Class: {class_mapping[predicted_class]}, Confidence: {confidence * 100:.2f}%')"
   ]
  },
  {
   "cell_type": "code",
   "execution_count": 19,
   "metadata": {},
   "outputs": [
    {
     "name": "stdout",
     "output_type": "stream",
     "text": [
      "Predicted Class: edible, Confidence: 100.00%\n"
     ]
    }
   ],
   "source": [
    "# Example of predicting a single image\n",
    "image_path = 'CNN_Dataset/Edible/test/gymnopilus-luteofolius-4.jpg'  # Replace with your image path\n",
    "image_tensor = preprocess_image(image_path, data_transforms['test'])  # Use the test transforms\n",
    "\n",
    "# Predict the class and confidence\n",
    "predicted_class, confidence = predict_with_confidence(model, image_tensor)\n",
    "\n",
    "# Map the predicted class to label\n",
    "class_mapping = {0: 'edible', 1: 'poisonous'}\n",
    "print(f'Predicted Class: {class_mapping[predicted_class]}, Confidence: {confidence * 100:.2f}%')"
   ]
  },
  {
   "cell_type": "code",
   "execution_count": null,
   "metadata": {},
   "outputs": [],
   "source": []
  }
 ],
 "metadata": {
  "kernelspec": {
   "display_name": "Thesis",
   "language": "python",
   "name": "python3"
  },
  "language_info": {
   "codemirror_mode": {
    "name": "ipython",
    "version": 3
   },
   "file_extension": ".py",
   "mimetype": "text/x-python",
   "name": "python",
   "nbconvert_exporter": "python",
   "pygments_lexer": "ipython3",
   "version": "3.10.14"
  }
 },
 "nbformat": 4,
 "nbformat_minor": 2
}
