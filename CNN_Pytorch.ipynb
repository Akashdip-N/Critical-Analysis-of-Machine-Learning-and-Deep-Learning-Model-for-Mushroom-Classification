{
 "cells": [
  {
   "cell_type": "code",
   "execution_count": 1,
   "metadata": {},
   "outputs": [],
   "source": [
    "import torch\n",
    "import torch.nn as nn\n",
    "import torch.optim as optim\n",
    "from torchvision import datasets, transforms\n",
    "from torch.utils.data import DataLoader, ConcatDataset\n",
    "import os\n",
    "from PIL import Image\n",
    "from torch.utils.data import Dataset"
   ]
  },
  {
   "cell_type": "code",
   "execution_count": 2,
   "metadata": {},
   "outputs": [],
   "source": [
    "# Define transformations\n",
    "data_transforms = {\n",
    "    'train': transforms.Compose([\n",
    "        transforms.Resize((64, 64)),  # Adjust based on your image size\n",
    "        transforms.RandomHorizontalFlip(),\n",
    "        transforms.ToTensor(),\n",
    "        transforms.Normalize([0.485, 0.456, 0.406], [0.229, 0.224, 0.225])\n",
    "    ]),\n",
    "    'test': transforms.Compose([\n",
    "        transforms.Resize((64, 64)),\n",
    "        transforms.ToTensor(),\n",
    "        transforms.Normalize([0.485, 0.456, 0.406], [0.229, 0.224, 0.225])\n",
    "    ]),\n",
    "}"
   ]
  },
  {
   "cell_type": "code",
   "execution_count": 3,
   "metadata": {},
   "outputs": [],
   "source": [
    "# Custom dataset class to handle image loading and labeling\n",
    "class CustomImageDataset(Dataset):\n",
    "    def __init__(self, image_paths, labels, transform=None):\n",
    "        self.image_paths = image_paths\n",
    "        self.labels = labels\n",
    "        self.transform = transform\n",
    "\n",
    "    def __len__(self):\n",
    "        return len(self.image_paths)\n",
    "\n",
    "    def __getitem__(self, idx):\n",
    "        img_path = self.image_paths[idx]\n",
    "        image = Image.open(img_path).convert(\"RGB\")\n",
    "        label = self.labels[idx]\n",
    "        \n",
    "        if self.transform:\n",
    "            image = self.transform(image)\n",
    "        \n",
    "        return image, label"
   ]
  },
  {
   "cell_type": "code",
   "execution_count": 4,
   "metadata": {},
   "outputs": [],
   "source": [
    "# Helper function to load images and assign labels (edible = 0, poisonous = 1)\n",
    "def load_images_from_folder(folder_path, label, transform):\n",
    "    image_paths = []\n",
    "    labels = []\n",
    "    \n",
    "    for filename in os.listdir(folder_path):\n",
    "        if filename.endswith(\".jpg\") or filename.endswith(\".png\"):  # Adjust extensions if needed\n",
    "            img_path = os.path.join(folder_path, filename)\n",
    "            image_paths.append(img_path)\n",
    "            labels.append(label)\n",
    "    \n",
    "    return CustomImageDataset(image_paths, labels, transform)\n"
   ]
  },
  {
   "cell_type": "code",
   "execution_count": 5,
   "metadata": {},
   "outputs": [],
   "source": [
    "# Load edible and poisonous datasets\n",
    "train_edible_dataset = load_images_from_folder('CNN_Dataset/edible/train', label=0, transform=data_transforms['train'])\n",
    "test_edible_dataset = load_images_from_folder('CNN_Dataset/edible/test', label=0, transform=data_transforms['test'])\n",
    "train_poisonous_dataset = load_images_from_folder('CNN_Dataset/poisonous/train', label=1, transform=data_transforms['train'])\n",
    "test_poisonous_dataset = load_images_from_folder('CNN_Dataset/poisonous/test', label=1, transform=data_transforms['test'])\n"
   ]
  },
  {
   "cell_type": "code",
   "execution_count": 6,
   "metadata": {},
   "outputs": [],
   "source": [
    "# Combine edible and poisonous datasets into single training and testing datasets\n",
    "train_dataset = ConcatDataset([train_edible_dataset, train_poisonous_dataset])\n",
    "test_dataset = ConcatDataset([test_edible_dataset, test_poisonous_dataset])"
   ]
  },
  {
   "cell_type": "code",
   "execution_count": 7,
   "metadata": {},
   "outputs": [],
   "source": [
    "# Data loaders for batching\n",
    "train_loader = DataLoader(train_dataset, batch_size=32, shuffle=True)\n",
    "test_loader = DataLoader(test_dataset, batch_size=32, shuffle=False)"
   ]
  },
  {
   "cell_type": "code",
   "execution_count": 8,
   "metadata": {},
   "outputs": [],
   "source": [
    "# Define the CNN model\n",
    "class CNNModel(nn.Module):\n",
    "    def __init__(self, num_classes):\n",
    "        super(CNNModel, self).__init__()\n",
    "        self.conv1 = nn.Conv2d(3, 32, kernel_size=3, stride=1, padding=1)\n",
    "        self.pool = nn.MaxPool2d(kernel_size=2, stride=2, padding=0)\n",
    "        self.conv2 = nn.Conv2d(32, 64, kernel_size=3, stride=1, padding=1)\n",
    "        self.fc1 = nn.Linear(64 * 16 * 16, 128)\n",
    "        self.fc2 = nn.Linear(128, num_classes)\n",
    "\n",
    "    def forward(self, x):\n",
    "        x = self.pool(torch.relu(self.conv1(x)))\n",
    "        x = self.pool(torch.relu(self.conv2(x)))\n",
    "        x = x.view(-1, 64 * 16 * 16)  # Flatten the tensor\n",
    "        x = torch.relu(self.fc1(x))\n",
    "        x = self.fc2(x)\n",
    "        return x"
   ]
  },
  {
   "cell_type": "code",
   "execution_count": 9,
   "metadata": {},
   "outputs": [],
   "source": [
    "# Number of classes (edible = 0, poisonous = 1)\n",
    "num_classes = 2\n",
    "model = CNNModel(num_classes=num_classes)\n",
    "\n",
    "# Define loss function and optimizer\n",
    "criterion = nn.CrossEntropyLoss()\n",
    "optimizer = optim.Adam(model.parameters(), lr=0.001)\n",
    "\n",
    "# Softmax function to compute confidence percentages\n",
    "softmax = nn.Softmax(dim=1)"
   ]
  },
  {
   "cell_type": "code",
   "execution_count": 10,
   "metadata": {},
   "outputs": [],
   "source": [
    "# Training loop\n",
    "def train_model(model, train_loader, test_loader, criterion, optimizer, num_epochs=10):\n",
    "    for epoch in range(num_epochs):\n",
    "        model.train()\n",
    "        running_loss = 0.0\n",
    "        for inputs, labels in train_loader:\n",
    "            optimizer.zero_grad()\n",
    "            outputs = model(inputs)\n",
    "            loss = criterion(outputs, labels)\n",
    "            loss.backward()\n",
    "            optimizer.step()\n",
    "            running_loss += loss.item()\n",
    "\n",
    "        print(f'Epoch {epoch+1}, Loss: {running_loss/len(train_loader)}')\n",
    "\n",
    "        # Test step\n",
    "        model.eval()\n",
    "        correct = 0\n",
    "        total = 0\n",
    "        with torch.no_grad():\n",
    "            for inputs, labels in test_loader:\n",
    "                outputs = model(inputs)\n",
    "                _, predicted = torch.max(outputs, 1)\n",
    "                total += labels.size(0)\n",
    "                correct += (predicted == labels).sum().item()\n",
    "\n",
    "        test_acc = correct / total\n",
    "        print(f'Test Accuracy: {test_acc * 100}%')\n",
    "\n",
    "    print('Training finished')"
   ]
  },
  {
   "cell_type": "code",
   "execution_count": 11,
   "metadata": {},
   "outputs": [],
   "source": [
    "# Prediction function with confidence percentage\n",
    "def predict_with_confidence(model, image_tensor):\n",
    "    model.eval()\n",
    "    with torch.no_grad():\n",
    "        outputs = model(image_tensor.unsqueeze(0))  # Add batch dimension\n",
    "        probabilities = softmax(outputs)\n",
    "        confidence, predicted_class = torch.max(probabilities, 1)\n",
    "        return predicted_class.item(), confidence.item()"
   ]
  },
  {
   "cell_type": "code",
   "execution_count": 12,
   "metadata": {},
   "outputs": [
    {
     "name": "stdout",
     "output_type": "stream",
     "text": [
      "Epoch 1, Loss: 0.756011093656222\n",
      "Test Accuracy: 55.09138381201044%\n",
      "Epoch 2, Loss: 0.6906295704344908\n",
      "Test Accuracy: 54.83028720626631%\n",
      "Epoch 3, Loss: 0.6864449692269167\n",
      "Test Accuracy: 57.702349869451695%\n",
      "Epoch 4, Loss: 0.6719959365824858\n",
      "Test Accuracy: 56.13577023498695%\n",
      "Epoch 5, Loss: 0.6628067505856355\n",
      "Test Accuracy: 53.78590078328982%\n",
      "Epoch 6, Loss: 0.6448631944755713\n",
      "Test Accuracy: 49.869451697127936%\n",
      "Epoch 7, Loss: 0.6288647713760535\n",
      "Test Accuracy: 50.65274151436031%\n",
      "Epoch 8, Loss: 0.6073748047153155\n",
      "Test Accuracy: 55.61357702349869%\n",
      "Epoch 9, Loss: 0.5703236808379492\n",
      "Test Accuracy: 51.697127937336816%\n",
      "Epoch 10, Loss: 0.5240388655414184\n",
      "Test Accuracy: 56.6579634464752%\n",
      "Epoch 11, Loss: 0.4617565864076217\n",
      "Test Accuracy: 53.26370757180157%\n",
      "Epoch 12, Loss: 0.3993265153840184\n",
      "Test Accuracy: 56.13577023498695%\n",
      "Epoch 13, Loss: 0.3286446997274955\n",
      "Test Accuracy: 56.6579634464752%\n",
      "Epoch 14, Loss: 0.27231980363527936\n",
      "Test Accuracy: 53.78590078328982%\n",
      "Epoch 15, Loss: 0.22016861910621324\n",
      "Test Accuracy: 54.04699738903395%\n",
      "Epoch 16, Loss: 0.1627305798853437\n",
      "Test Accuracy: 56.6579634464752%\n",
      "Epoch 17, Loss: 0.12302197966103752\n",
      "Test Accuracy: 55.09138381201044%\n",
      "Epoch 18, Loss: 0.10092640466367205\n",
      "Test Accuracy: 57.44125326370757%\n",
      "Epoch 19, Loss: 0.0824623191729188\n",
      "Test Accuracy: 56.6579634464752%\n",
      "Epoch 20, Loss: 0.05815293711687749\n",
      "Test Accuracy: 55.35248041775457%\n",
      "Training finished\n"
     ]
    }
   ],
   "source": [
    "# Train the model\n",
    "train_model(\n",
    "    model,\n",
    "    train_loader,\n",
    "    test_loader,\n",
    "    criterion,\n",
    "    optimizer,\n",
    "    num_epochs = 20\n",
    ")"
   ]
  },
  {
   "cell_type": "code",
   "execution_count": 13,
   "metadata": {},
   "outputs": [],
   "source": [
    "torch.save(model.state_dict(), 'CNN_torch.pth')  # Save the model"
   ]
  },
  {
   "cell_type": "markdown",
   "metadata": {},
   "source": [
    "### Testing the model"
   ]
  },
  {
   "cell_type": "code",
   "execution_count": 14,
   "metadata": {},
   "outputs": [],
   "source": [
    "# Load and preprocess the image\n",
    "def preprocess_image(image_path, transform):\n",
    "    image = Image.open(image_path).convert('RGB')  # Ensure RGB format\n",
    "    image = transform(image)  # Apply transformations\n",
    "    return image"
   ]
  },
  {
   "cell_type": "code",
   "execution_count": 15,
   "metadata": {},
   "outputs": [
    {
     "name": "stdout",
     "output_type": "stream",
     "text": [
      "Predicted Class: poisonous, Confidence: 51.50%\n"
     ]
    }
   ],
   "source": [
    "# Example of predicting a single image\n",
    "image_path = 'CNN_Dataset/Poisonous/test/1667816120_xylaria-carpophila-4.jpg'  # Replace with your image path\n",
    "image_tensor = preprocess_image(image_path, data_transforms['test'])  # Use the test transforms\n",
    "\n",
    "# Predict the class and confidence\n",
    "predicted_class, confidence = predict_with_confidence(model, image_tensor)\n",
    "\n",
    "# Map the predicted class to label\n",
    "class_mapping = {0: 'edible', 1: 'poisonous'}\n",
    "print(f'Predicted Class: {class_mapping[predicted_class]}, Confidence: {confidence * 100:.2f}%')"
   ]
  },
  {
   "cell_type": "code",
   "execution_count": 16,
   "metadata": {},
   "outputs": [
    {
     "name": "stdout",
     "output_type": "stream",
     "text": [
      "Predicted Class: edible, Confidence: 99.95%\n"
     ]
    }
   ],
   "source": [
    "# Example of predicting a single image\n",
    "image_path = 'CNN_Dataset/Edible/test/psilocybe-samuiensis-1.jpg'  # Replace with your image path\n",
    "image_tensor = preprocess_image(image_path, data_transforms['test'])  # Use the test transforms\n",
    "\n",
    "# Predict the class and confidence\n",
    "predicted_class, confidence = predict_with_confidence(model, image_tensor)\n",
    "\n",
    "# Map the predicted class to label\n",
    "class_mapping = {0: 'edible', 1: 'poisonous'}\n",
    "print(f'Predicted Class: {class_mapping[predicted_class]}, Confidence: {confidence * 100:.2f}%')"
   ]
  },
  {
   "cell_type": "code",
   "execution_count": 17,
   "metadata": {},
   "outputs": [
    {
     "name": "stdout",
     "output_type": "stream",
     "text": [
      "Predicted Class: poisonous, Confidence: 99.58%\n"
     ]
    }
   ],
   "source": [
    "# Example of predicting a single image\n",
    "image_path = 'mushroom_images/Test/Poisonous.jpeg'  # Replace with your image path\n",
    "image_tensor = preprocess_image(image_path, data_transforms['test'])  # Use the test transforms\n",
    "\n",
    "# Predict the class and confidence\n",
    "predicted_class, confidence = predict_with_confidence(model, image_tensor)\n",
    "\n",
    "# Map the predicted class to label\n",
    "class_mapping = {0: 'edible', 1: 'poisonous'}\n",
    "print(f'Predicted Class: {class_mapping[predicted_class]}, Confidence: {confidence * 100:.2f}%')"
   ]
  },
  {
   "cell_type": "code",
   "execution_count": 18,
   "metadata": {},
   "outputs": [
    {
     "name": "stdout",
     "output_type": "stream",
     "text": [
      "Predicted Class: edible, Confidence: 100.00%\n"
     ]
    }
   ],
   "source": [
    "# Example of predicting a single image\n",
    "image_path = 'mushroom_images/Test/Edible.jpeg'  # Replace with your image path\n",
    "image_tensor = preprocess_image(image_path, data_transforms['test'])  # Use the test transforms\n",
    "\n",
    "# Predict the class and confidence\n",
    "predicted_class, confidence = predict_with_confidence(model, image_tensor)\n",
    "\n",
    "# Map the predicted class to label\n",
    "class_mapping = {0: 'edible', 1: 'poisonous'}\n",
    "print(f'Predicted Class: {class_mapping[predicted_class]}, Confidence: {confidence * 100:.2f}%')"
   ]
  },
  {
   "cell_type": "code",
   "execution_count": 19,
   "metadata": {},
   "outputs": [
    {
     "name": "stdout",
     "output_type": "stream",
     "text": [
      "Predicted Class: poisonous, Confidence: 95.32%\n"
     ]
    }
   ],
   "source": [
    "# Example of predicting a single image\n",
    "image_path = 'CNN_Dataset/Edible/test/gymnopilus-luteofolius-4.jpg'  # Replace with your image path\n",
    "image_tensor = preprocess_image(image_path, data_transforms['test'])  # Use the test transforms\n",
    "\n",
    "# Predict the class and confidence\n",
    "predicted_class, confidence = predict_with_confidence(model, image_tensor)\n",
    "\n",
    "# Map the predicted class to label\n",
    "class_mapping = {0: 'edible', 1: 'poisonous'}\n",
    "print(f'Predicted Class: {class_mapping[predicted_class]}, Confidence: {confidence * 100:.2f}%')"
   ]
  },
  {
   "cell_type": "code",
   "execution_count": 20,
   "metadata": {},
   "outputs": [
    {
     "name": "stdout",
     "output_type": "stream",
     "text": [
      "Predicted Class: poisonous, Confidence: 95.32%\n"
     ]
    }
   ],
   "source": [
    "# Example of predicting a single image\n",
    "image_path = 'CNN_Dataset/Edible/test/gymnopilus-luteofolius-4.jpg'  # Replace with your image path\n",
    "image_tensor = preprocess_image(image_path, data_transforms['test'])  # Use the test transforms\n",
    "\n",
    "# Predict the class and confidence\n",
    "predicted_class, confidence = predict_with_confidence(model, image_tensor)\n",
    "\n",
    "# Map the predicted class to label\n",
    "class_mapping = {0: 'edible', 1: 'poisonous'}\n",
    "print(f'Predicted Class: {class_mapping[predicted_class]}, Confidence: {confidence * 100:.2f}%')"
   ]
  }
 ],
 "metadata": {
  "kernelspec": {
   "display_name": "Thesis",
   "language": "python",
   "name": "python3"
  },
  "language_info": {
   "codemirror_mode": {
    "name": "ipython",
    "version": 3
   },
   "file_extension": ".py",
   "mimetype": "text/x-python",
   "name": "python",
   "nbconvert_exporter": "python",
   "pygments_lexer": "ipython3",
   "version": "3.10.14"
  }
 },
 "nbformat": 4,
 "nbformat_minor": 2
}
