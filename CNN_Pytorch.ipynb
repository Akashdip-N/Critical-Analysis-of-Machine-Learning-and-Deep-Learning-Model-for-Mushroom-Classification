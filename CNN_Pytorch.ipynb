{
 "cells": [
  {
   "cell_type": "code",
   "execution_count": 1,
   "metadata": {},
   "outputs": [],
   "source": [
    "import torch\n",
    "import torch.nn as nn\n",
    "import torch.optim as optim\n",
    "import torch.nn.functional as F\n",
    "from torchvision import datasets, transforms\n",
    "from torch.utils.data import DataLoader\n",
    "import random"
   ]
  },
  {
   "cell_type": "code",
   "execution_count": 2,
   "metadata": {},
   "outputs": [],
   "source": [
    "import json\n",
    "\n",
    "# Function to load configurations\n",
    "def load_config(config_file):\n",
    "    with open(config_file, 'r') as file:\n",
    "        config = json.load(file)\n",
    "    return config\n",
    "\n",
    "# Load the configuration\n",
    "config = load_config('config/config.json')\n",
    "\n",
    "# Access the dataset path\n",
    "dataset_dir = config['dataset_path']\n",
    "train_dir = config['train_path']\n",
    "val_dir = config['val_path']"
   ]
  },
  {
   "cell_type": "code",
   "execution_count": 3,
   "metadata": {},
   "outputs": [],
   "source": [
    "class HeavierSimpleCNN(nn.Module):\n",
    "    def __init__(self):\n",
    "        super(HeavierSimpleCNN, self).__init__()\n",
    "        self.conv1 = nn.Conv2d(3, 32, 3, padding=1)\n",
    "        self.conv2 = nn.Conv2d(32, 64, 3, padding=1)\n",
    "        self.conv3 = nn.Conv2d(64, 128, 3, padding=1)\n",
    "        self.conv4 = nn.Conv2d(128, 256, 3, padding=1)\n",
    "        self.pool = nn.MaxPool2d(2, 2)\n",
    "        self.fc1 = nn.Linear(256 * 2 * 2, 1024)\n",
    "        self.fc2 = nn.Linear(1024, 512)\n",
    "        self.fc3 = nn.Linear(512, 10)\n",
    "        self.dropout = nn.Dropout(0.5)\n",
    "\n",
    "    def forward(self, x):\n",
    "        x = self.pool(F.relu(self.conv1(x)))\n",
    "        x = self.pool(F.relu(self.conv2(x)))\n",
    "        x = self.pool(F.relu(self.conv3(x)))\n",
    "        x = self.pool(F.relu(self.conv4(x)))\n",
    "        x = x.view(x.size(0), -1)  # Ensure that the batch size is maintained\n",
    "        x = self.dropout(F.relu(self.fc1(x)))\n",
    "        x = self.dropout(F.relu(self.fc2(x)))\n",
    "        x = self.fc3(x)\n",
    "        return x"
   ]
  },
  {
   "cell_type": "code",
   "execution_count": 4,
   "metadata": {},
   "outputs": [],
   "source": [
    "# Transforms and DataLoader setup\n",
    "transform = transforms.Compose([\n",
    "    transforms.RandomResizedCrop(32),\n",
    "    transforms.RandomHorizontalFlip(),\n",
    "    transforms.RandomRotation(10),\n",
    "    transforms.ToTensor(),\n",
    "    transforms.Normalize((0.5, 0.5, 0.5), (0.5, 0.5, 0.5))\n",
    "])\n"
   ]
  },
  {
   "cell_type": "code",
   "execution_count": 5,
   "metadata": {},
   "outputs": [],
   "source": [
    "# Dataset and DataLoader\n",
    "train_data = datasets.ImageFolder(train_dir, transform=transform)\n",
    "val_data = datasets.ImageFolder(val_dir, transform=transform)"
   ]
  },
  {
   "cell_type": "code",
   "execution_count": 6,
   "metadata": {},
   "outputs": [],
   "source": [
    "train_loader = DataLoader(train_data, batch_size=20, shuffle=True, drop_last=True)\n",
    "val_loader = DataLoader(val_data, batch_size=20, shuffle=False, drop_last=True)"
   ]
  },
  {
   "cell_type": "code",
   "execution_count": 7,
   "metadata": {},
   "outputs": [],
   "source": [
    "# Initialize the model, loss criterion and optimizer\n",
    "model = HeavierSimpleCNN()\n",
    "if torch.cuda.is_available():\n",
    "    model.cuda()"
   ]
  },
  {
   "cell_type": "code",
   "execution_count": 8,
   "metadata": {},
   "outputs": [],
   "source": [
    "criterion = nn.CrossEntropyLoss()\n",
    "optimizer = optim.Adam(model.parameters(), lr=0.001)"
   ]
  },
  {
   "cell_type": "code",
   "execution_count": 9,
   "metadata": {},
   "outputs": [],
   "source": [
    "# Function to train the model\n",
    "def train_model(model, train_loader, criterion, optimizer, num_epochs):\n",
    "    model.train()\n",
    "    for epoch in range(num_epochs):\n",
    "        running_loss = 0.0\n",
    "        for inputs, labels in train_loader:\n",
    "            if torch.cuda.is_available():\n",
    "                inputs, labels = inputs.cuda(), labels.cuda()\n",
    "\n",
    "            optimizer.zero_grad()\n",
    "            outputs = model(inputs)\n",
    "            loss = criterion(outputs, labels)\n",
    "            loss.backward()\n",
    "            optimizer.step()\n",
    "            running_loss += loss.item() * inputs.size(0)\n",
    "\n",
    "        print(f'Epoch {epoch+1}/{num_epochs} - Loss: {running_loss / len(train_loader.dataset):.4f}')\n"
   ]
  },
  {
   "cell_type": "code",
   "execution_count": 10,
   "metadata": {},
   "outputs": [],
   "source": [
    "# Function to evaluate the model\n",
    "def evaluate_model(model, val_loader):\n",
    "    model.eval()\n",
    "    total = 0\n",
    "    correct = 0\n",
    "    with torch.no_grad():\n",
    "        for inputs, labels in val_loader:\n",
    "            if torch.cuda.is_available():\n",
    "                inputs, labels = inputs.cuda(), labels.cuda()\n",
    "            outputs = model(inputs)\n",
    "            _, predicted = torch.max(outputs.data, 1)\n",
    "            total += labels.size(0)\n",
    "            correct += (predicted == labels).sum().item()\n",
    "\n",
    "    print(f'Validation Accuracy: {100 * correct / total:.2f}%')"
   ]
  },
  {
   "cell_type": "code",
   "execution_count": 11,
   "metadata": {},
   "outputs": [
    {
     "name": "stdout",
     "output_type": "stream",
     "text": [
      "Epoch 1/100 - Loss: 1.2822\n",
      "Epoch 2/100 - Loss: 0.7601\n",
      "Epoch 3/100 - Loss: 0.6604\n",
      "Epoch 4/100 - Loss: 0.6726\n",
      "Epoch 5/100 - Loss: 0.6764\n",
      "Epoch 6/100 - Loss: 0.6666\n",
      "Epoch 7/100 - Loss: 0.6303\n",
      "Epoch 8/100 - Loss: 0.6465\n",
      "Epoch 9/100 - Loss: 0.6535\n",
      "Epoch 10/100 - Loss: 0.6523\n",
      "Epoch 11/100 - Loss: 0.6408\n",
      "Epoch 12/100 - Loss: 0.6412\n",
      "Epoch 13/100 - Loss: 0.6360\n",
      "Epoch 14/100 - Loss: 0.6425\n",
      "Epoch 15/100 - Loss: 0.6192\n",
      "Epoch 16/100 - Loss: 0.6518\n",
      "Epoch 17/100 - Loss: 0.6535\n",
      "Epoch 18/100 - Loss: 0.6405\n",
      "Epoch 19/100 - Loss: 0.6544\n",
      "Epoch 20/100 - Loss: 0.6447\n",
      "Epoch 21/100 - Loss: 0.6393\n",
      "Epoch 22/100 - Loss: 0.6465\n",
      "Epoch 23/100 - Loss: 0.6412\n",
      "Epoch 24/100 - Loss: 0.6505\n",
      "Epoch 25/100 - Loss: 0.6264\n",
      "Epoch 26/100 - Loss: 0.6216\n",
      "Epoch 27/100 - Loss: 0.6210\n",
      "Epoch 28/100 - Loss: 0.6749\n",
      "Epoch 29/100 - Loss: 0.6783\n",
      "Epoch 30/100 - Loss: 0.6436\n",
      "Epoch 31/100 - Loss: 0.6285\n",
      "Epoch 32/100 - Loss: 0.6272\n",
      "Epoch 33/100 - Loss: 0.6305\n",
      "Epoch 34/100 - Loss: 0.6315\n",
      "Epoch 35/100 - Loss: 0.6472\n",
      "Epoch 36/100 - Loss: 0.6251\n",
      "Epoch 37/100 - Loss: 0.6305\n",
      "Epoch 38/100 - Loss: 0.6272\n",
      "Epoch 39/100 - Loss: 0.6304\n",
      "Epoch 40/100 - Loss: 0.6003\n",
      "Epoch 41/100 - Loss: 0.6037\n",
      "Epoch 42/100 - Loss: 0.5863\n",
      "Epoch 43/100 - Loss: 0.5975\n",
      "Epoch 44/100 - Loss: 0.5965\n",
      "Epoch 45/100 - Loss: 0.5824\n",
      "Epoch 46/100 - Loss: 0.6038\n",
      "Epoch 47/100 - Loss: 0.5798\n",
      "Epoch 48/100 - Loss: 0.5426\n",
      "Epoch 49/100 - Loss: 0.5680\n",
      "Epoch 50/100 - Loss: 0.5684\n",
      "Epoch 51/100 - Loss: 0.5749\n",
      "Epoch 52/100 - Loss: 0.5764\n",
      "Epoch 53/100 - Loss: 0.5988\n",
      "Epoch 54/100 - Loss: 0.5478\n",
      "Epoch 55/100 - Loss: 0.5485\n",
      "Epoch 56/100 - Loss: 0.6317\n",
      "Epoch 57/100 - Loss: 0.5762\n",
      "Epoch 58/100 - Loss: 0.5566\n",
      "Epoch 59/100 - Loss: 0.5557\n",
      "Epoch 60/100 - Loss: 0.5903\n",
      "Epoch 61/100 - Loss: 0.5598\n",
      "Epoch 62/100 - Loss: 0.5353\n",
      "Epoch 63/100 - Loss: 0.4896\n",
      "Epoch 64/100 - Loss: 0.5499\n",
      "Epoch 65/100 - Loss: 0.5404\n",
      "Epoch 66/100 - Loss: 0.5535\n",
      "Epoch 67/100 - Loss: 0.5653\n",
      "Epoch 68/100 - Loss: 0.5396\n",
      "Epoch 69/100 - Loss: 0.5270\n",
      "Epoch 70/100 - Loss: 0.4805\n",
      "Epoch 71/100 - Loss: 0.5419\n",
      "Epoch 72/100 - Loss: 0.6455\n",
      "Epoch 73/100 - Loss: 0.5973\n",
      "Epoch 74/100 - Loss: 0.5375\n",
      "Epoch 75/100 - Loss: 0.5131\n",
      "Epoch 76/100 - Loss: 0.5528\n",
      "Epoch 77/100 - Loss: 0.4662\n",
      "Epoch 78/100 - Loss: 0.4510\n",
      "Epoch 79/100 - Loss: 0.4607\n",
      "Epoch 80/100 - Loss: 0.4704\n",
      "Epoch 81/100 - Loss: 0.4877\n",
      "Epoch 82/100 - Loss: 0.4709\n",
      "Epoch 83/100 - Loss: 0.4643\n",
      "Epoch 84/100 - Loss: 0.4917\n",
      "Epoch 85/100 - Loss: 0.4563\n",
      "Epoch 86/100 - Loss: 0.4310\n",
      "Epoch 87/100 - Loss: 0.4136\n",
      "Epoch 88/100 - Loss: 0.4519\n",
      "Epoch 89/100 - Loss: 0.4579\n",
      "Epoch 90/100 - Loss: 0.4852\n",
      "Epoch 91/100 - Loss: 0.4640\n",
      "Epoch 92/100 - Loss: 0.4633\n",
      "Epoch 93/100 - Loss: 0.4535\n",
      "Epoch 94/100 - Loss: 0.3890\n",
      "Epoch 95/100 - Loss: 0.5094\n",
      "Epoch 96/100 - Loss: 0.4687\n",
      "Epoch 97/100 - Loss: 0.4667\n",
      "Epoch 98/100 - Loss: 0.4091\n",
      "Epoch 99/100 - Loss: 0.4649\n",
      "Epoch 100/100 - Loss: 0.3814\n"
     ]
    }
   ],
   "source": [
    "# Train and evaluate the model\n",
    "train_model(\n",
    "    model,\n",
    "    train_loader,\n",
    "    criterion,\n",
    "    optimizer,\n",
    "    100 # number of epochs\n",
    ")"
   ]
  },
  {
   "cell_type": "code",
   "execution_count": 12,
   "metadata": {},
   "outputs": [
    {
     "name": "stdout",
     "output_type": "stream",
     "text": [
      "Validation Accuracy: 60.00%\n"
     ]
    }
   ],
   "source": [
    "evaluate_model(model, val_loader)"
   ]
  }
 ],
 "metadata": {
  "kernelspec": {
   "display_name": "Thesis",
   "language": "python",
   "name": "python3"
  },
  "language_info": {
   "codemirror_mode": {
    "name": "ipython",
    "version": 3
   },
   "file_extension": ".py",
   "mimetype": "text/x-python",
   "name": "python",
   "nbconvert_exporter": "python",
   "pygments_lexer": "ipython3",
   "version": "3.10.14"
  }
 },
 "nbformat": 4,
 "nbformat_minor": 4
}
