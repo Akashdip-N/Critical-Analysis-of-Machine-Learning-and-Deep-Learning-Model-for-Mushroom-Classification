{
 "cells": [
  {
   "cell_type": "code",
   "execution_count": 2,
   "metadata": {},
   "outputs": [],
   "source": [
    "# import YOLO model\n",
    "from ultralytics import YOLO"
   ]
  },
  {
   "cell_type": "code",
   "execution_count": 3,
   "metadata": {},
   "outputs": [],
   "source": [
    "# Load a model\n",
    "model = YOLO(\"yolov8m-seg.pt\")"
   ]
  },
  {
   "cell_type": "code",
   "execution_count": 4,
   "metadata": {},
   "outputs": [
    {
     "name": "stdout",
     "output_type": "stream",
     "text": [
      "New https://pypi.org/project/ultralytics/8.3.2 available 😃 Update with 'pip install -U ultralytics'\n",
      "Ultralytics YOLOv8.2.100 🚀 Python-3.10.14 torch-2.3.0 CPU (Apple M3 Pro)\n",
      "\u001b[34m\u001b[1mengine/trainer: \u001b[0mtask=classify, mode=train, model=yolov8n-cls.pt, data=Dataset/Yolo/Edible, epochs=20, time=None, patience=3, batch=16, imgsz=416, save=True, save_period=-1, cache=False, device=None, workers=8, project=None, name=train10, exist_ok=False, pretrained=True, optimizer=auto, verbose=True, seed=0, deterministic=True, single_cls=False, rect=False, cos_lr=False, close_mosaic=10, resume=False, amp=True, fraction=1.0, profile=False, freeze=None, multi_scale=False, overlap_mask=True, mask_ratio=4, dropout=0.0, val=True, split=val, save_json=False, save_hybrid=False, conf=None, iou=0.7, max_det=300, half=False, dnn=False, plots=True, source=None, vid_stride=1, stream_buffer=False, visualize=False, augment=False, agnostic_nms=False, classes=None, retina_masks=False, embed=None, show=False, save_frames=False, save_txt=False, save_conf=False, save_crop=False, show_labels=True, show_conf=True, show_boxes=True, line_width=None, format=torchscript, keras=False, optimize=False, int8=False, dynamic=False, simplify=True, opset=None, workspace=4, nms=False, lr0=0.01, lrf=0.01, momentum=0.937, weight_decay=0.0005, warmup_epochs=3.0, warmup_momentum=0.8, warmup_bias_lr=0.1, box=7.5, cls=0.5, dfl=1.5, pose=12.0, kobj=1.0, label_smoothing=0.0, nbs=64, hsv_h=0.015, hsv_s=0.7, hsv_v=0.4, degrees=0.0, translate=0.1, scale=0.5, shear=0.0, perspective=0.0, flipud=0.0, fliplr=0.5, bgr=0.0, mosaic=1.0, mixup=0.0, copy_paste=0.0, auto_augment=randaugment, erasing=0.4, crop_fraction=1.0, cfg=None, tracker=botsort.yaml, save_dir=runs/classify/train10\n",
      "\u001b[34m\u001b[1mtrain:\u001b[0m /Users/adn-mbp/Github Repos/Edible-Mushroom-Prediction/Dataset/Yolo/Edible/train... found 808 images in 236 classes ✅ \n",
      "\u001b[34m\u001b[1mval:\u001b[0m /Users/adn-mbp/Github Repos/Edible-Mushroom-Prediction/Dataset/Yolo/Edible/val... found 236 images in 236 classes ✅ \n",
      "\u001b[34m\u001b[1mtest:\u001b[0m None...\n",
      "Overriding model.yaml nc=1000 with nc=236\n",
      "\n",
      "                   from  n    params  module                                       arguments                     \n",
      "  0                  -1  1       464  ultralytics.nn.modules.conv.Conv             [3, 16, 3, 2]                 \n",
      "  1                  -1  1      4672  ultralytics.nn.modules.conv.Conv             [16, 32, 3, 2]                \n",
      "  2                  -1  1      7360  ultralytics.nn.modules.block.C2f             [32, 32, 1, True]             \n",
      "  3                  -1  1     18560  ultralytics.nn.modules.conv.Conv             [32, 64, 3, 2]                \n",
      "  4                  -1  2     49664  ultralytics.nn.modules.block.C2f             [64, 64, 2, True]             \n",
      "  5                  -1  1     73984  ultralytics.nn.modules.conv.Conv             [64, 128, 3, 2]               \n",
      "  6                  -1  2    197632  ultralytics.nn.modules.block.C2f             [128, 128, 2, True]           \n",
      "  7                  -1  1    295424  ultralytics.nn.modules.conv.Conv             [128, 256, 3, 2]              \n",
      "  8                  -1  1    460288  ultralytics.nn.modules.block.C2f             [256, 256, 1, True]           \n",
      "  9                  -1  1    632556  ultralytics.nn.modules.head.Classify         [256, 236]                    \n",
      "YOLOv8n-cls summary: 99 layers, 1,740,604 parameters, 1,740,604 gradients, 3.6 GFLOPs\n",
      "Transferred 156/158 items from pretrained weights\n",
      "\u001b[34m\u001b[1mTensorBoard: \u001b[0mStart with 'tensorboard --logdir runs/classify/train10', view at http://localhost:6006/\n"
     ]
    },
    {
     "name": "stderr",
     "output_type": "stream",
     "text": [
      "\u001b[34m\u001b[1mtrain: \u001b[0mScanning /Users/adn-mbp/Github Repos/Edible-Mushroom-Prediction/Dataset/Yolo/Edible/train... 808 images, 0 corrupt: 100%|██████████| 808/808 [00:00<00:00, 4458.22it/s]"
     ]
    },
    {
     "name": "stdout",
     "output_type": "stream",
     "text": [
      "\u001b[34m\u001b[1mtrain: \u001b[0mNew cache created: /Users/adn-mbp/Github Repos/Edible-Mushroom-Prediction/Dataset/Yolo/Edible/train.cache\n"
     ]
    },
    {
     "name": "stderr",
     "output_type": "stream",
     "text": [
      "\n",
      "\u001b[34m\u001b[1mval: \u001b[0mScanning /Users/adn-mbp/Github Repos/Edible-Mushroom-Prediction/Dataset/Yolo/Edible/val... 236 images, 0 corrupt: 100%|██████████| 236/236 [00:00<00:00, 7669.32it/s]"
     ]
    },
    {
     "name": "stdout",
     "output_type": "stream",
     "text": [
      "\u001b[34m\u001b[1mval: \u001b[0mNew cache created: /Users/adn-mbp/Github Repos/Edible-Mushroom-Prediction/Dataset/Yolo/Edible/val.cache\n",
      "\u001b[34m\u001b[1moptimizer:\u001b[0m 'optimizer=auto' found, ignoring 'lr0=0.01' and 'momentum=0.937' and determining best 'optimizer', 'lr0' and 'momentum' automatically... \n",
      "\u001b[34m\u001b[1moptimizer:\u001b[0m AdamW(lr=0.000714, momentum=0.9) with parameter groups 26 weight(decay=0.0), 27 weight(decay=0.0005), 27 bias(decay=0.0)\n"
     ]
    },
    {
     "name": "stderr",
     "output_type": "stream",
     "text": [
      "\n"
     ]
    },
    {
     "name": "stdout",
     "output_type": "stream",
     "text": [
      "\u001b[34m\u001b[1mTensorBoard: \u001b[0mmodel graph visualization added ✅\n",
      "Image sizes 416 train, 416 val\n",
      "Using 0 dataloader workers\n",
      "Logging results to \u001b[1mruns/classify/train10\u001b[0m\n",
      "Starting training for 20 epochs...\n",
      "\n",
      "      Epoch    GPU_mem       loss  Instances       Size\n"
     ]
    },
    {
     "name": "stderr",
     "output_type": "stream",
     "text": [
      "       1/20         0G      5.503          8        416: 100%|██████████| 51/51 [01:45<00:00,  2.06s/it]\n",
      "               classes   top1_acc   top5_acc: 100%|██████████| 8/8 [00:20<00:00,  2.58s/it]"
     ]
    },
    {
     "name": "stdout",
     "output_type": "stream",
     "text": [
      "                   all    0.00424     0.0297\n"
     ]
    },
    {
     "name": "stderr",
     "output_type": "stream",
     "text": [
      "\n"
     ]
    },
    {
     "name": "stdout",
     "output_type": "stream",
     "text": [
      "\n",
      "      Epoch    GPU_mem       loss  Instances       Size\n"
     ]
    },
    {
     "name": "stderr",
     "output_type": "stream",
     "text": [
      "       2/20         0G      5.015          8        416: 100%|██████████| 51/51 [01:41<00:00,  1.99s/it]\n",
      "               classes   top1_acc   top5_acc: 100%|██████████| 8/8 [00:20<00:00,  2.56s/it]"
     ]
    },
    {
     "name": "stdout",
     "output_type": "stream",
     "text": [
      "                   all     0.0212     0.0805\n",
      "\n",
      "      Epoch    GPU_mem       loss  Instances       Size\n"
     ]
    },
    {
     "name": "stderr",
     "output_type": "stream",
     "text": [
      "\n",
      "       3/20         0G      4.443          8        416: 100%|██████████| 51/51 [01:42<00:00,  2.01s/it]\n",
      "               classes   top1_acc   top5_acc: 100%|██████████| 8/8 [00:20<00:00,  2.51s/it]"
     ]
    },
    {
     "name": "stdout",
     "output_type": "stream",
     "text": [
      "                   all     0.0763      0.216\n",
      "\n",
      "      Epoch    GPU_mem       loss  Instances       Size\n"
     ]
    },
    {
     "name": "stderr",
     "output_type": "stream",
     "text": [
      "\n",
      "       4/20         0G      3.675          8        416: 100%|██████████| 51/51 [01:45<00:00,  2.07s/it]\n",
      "               classes   top1_acc   top5_acc: 100%|██████████| 8/8 [00:19<00:00,  2.45s/it]"
     ]
    },
    {
     "name": "stdout",
     "output_type": "stream",
     "text": [
      "                   all      0.144      0.301\n",
      "\n",
      "      Epoch    GPU_mem       loss  Instances       Size\n"
     ]
    },
    {
     "name": "stderr",
     "output_type": "stream",
     "text": [
      "\n",
      "       5/20         0G      2.973          8        416: 100%|██████████| 51/51 [01:40<00:00,  1.98s/it]\n",
      "               classes   top1_acc   top5_acc: 100%|██████████| 8/8 [00:19<00:00,  2.46s/it]"
     ]
    },
    {
     "name": "stdout",
     "output_type": "stream",
     "text": [
      "                   all      0.208      0.415\n",
      "\n",
      "      Epoch    GPU_mem       loss  Instances       Size\n"
     ]
    },
    {
     "name": "stderr",
     "output_type": "stream",
     "text": [
      "\n",
      "       6/20         0G      2.357          8        416: 100%|██████████| 51/51 [01:41<00:00,  1.99s/it]\n",
      "               classes   top1_acc   top5_acc: 100%|██████████| 8/8 [00:19<00:00,  2.47s/it]"
     ]
    },
    {
     "name": "stdout",
     "output_type": "stream",
     "text": [
      "                   all      0.254      0.462\n",
      "\n",
      "      Epoch    GPU_mem       loss  Instances       Size\n"
     ]
    },
    {
     "name": "stderr",
     "output_type": "stream",
     "text": [
      "\n",
      "       7/20         0G      1.892          8        416: 100%|██████████| 51/51 [01:41<00:00,  1.98s/it]\n",
      "               classes   top1_acc   top5_acc: 100%|██████████| 8/8 [00:19<00:00,  2.49s/it]"
     ]
    },
    {
     "name": "stdout",
     "output_type": "stream",
     "text": [
      "                   all      0.309      0.487\n",
      "\n",
      "      Epoch    GPU_mem       loss  Instances       Size\n"
     ]
    },
    {
     "name": "stderr",
     "output_type": "stream",
     "text": [
      "\n",
      "       8/20         0G      1.508          8        416: 100%|██████████| 51/51 [01:42<00:00,  2.01s/it]\n",
      "               classes   top1_acc   top5_acc: 100%|██████████| 8/8 [00:20<00:00,  2.51s/it]"
     ]
    },
    {
     "name": "stdout",
     "output_type": "stream",
     "text": [
      "                   all      0.343      0.517\n",
      "\n",
      "      Epoch    GPU_mem       loss  Instances       Size\n"
     ]
    },
    {
     "name": "stderr",
     "output_type": "stream",
     "text": [
      "\n",
      "       9/20         0G      1.262          8        416: 100%|██████████| 51/51 [01:42<00:00,  2.01s/it]\n",
      "               classes   top1_acc   top5_acc: 100%|██████████| 8/8 [00:19<00:00,  2.50s/it]"
     ]
    },
    {
     "name": "stdout",
     "output_type": "stream",
     "text": [
      "                   all      0.347      0.547\n",
      "\n",
      "      Epoch    GPU_mem       loss  Instances       Size\n"
     ]
    },
    {
     "name": "stderr",
     "output_type": "stream",
     "text": [
      "\n",
      "      10/20         0G       1.03          8        416: 100%|██████████| 51/51 [01:41<00:00,  2.00s/it]\n",
      "               classes   top1_acc   top5_acc: 100%|██████████| 8/8 [00:19<00:00,  2.48s/it]"
     ]
    },
    {
     "name": "stdout",
     "output_type": "stream",
     "text": [
      "                   all      0.356      0.589\n",
      "\n",
      "      Epoch    GPU_mem       loss  Instances       Size\n"
     ]
    },
    {
     "name": "stderr",
     "output_type": "stream",
     "text": [
      "\n",
      "      11/20         0G     0.8781          8        416: 100%|██████████| 51/51 [01:43<00:00,  2.03s/it]\n",
      "               classes   top1_acc   top5_acc: 100%|██████████| 8/8 [00:19<00:00,  2.47s/it]"
     ]
    },
    {
     "name": "stdout",
     "output_type": "stream",
     "text": [
      "                   all      0.352      0.581\n",
      "\n",
      "      Epoch    GPU_mem       loss  Instances       Size\n"
     ]
    },
    {
     "name": "stderr",
     "output_type": "stream",
     "text": [
      "\n",
      "      12/20         0G     0.7133          8        416: 100%|██████████| 51/51 [01:41<00:00,  1.99s/it]\n",
      "               classes   top1_acc   top5_acc: 100%|██████████| 8/8 [00:19<00:00,  2.48s/it]"
     ]
    },
    {
     "name": "stdout",
     "output_type": "stream",
     "text": [
      "                   all      0.369      0.597\n",
      "\n",
      "      Epoch    GPU_mem       loss  Instances       Size\n"
     ]
    },
    {
     "name": "stderr",
     "output_type": "stream",
     "text": [
      "\n",
      "      13/20         0G     0.6197          8        416: 100%|██████████| 51/51 [01:44<00:00,  2.05s/it]\n",
      "               classes   top1_acc   top5_acc: 100%|██████████| 8/8 [00:19<00:00,  2.46s/it]"
     ]
    },
    {
     "name": "stdout",
     "output_type": "stream",
     "text": [
      "                   all      0.381      0.576\n",
      "\n",
      "      Epoch    GPU_mem       loss  Instances       Size\n"
     ]
    },
    {
     "name": "stderr",
     "output_type": "stream",
     "text": [
      "\n",
      "      14/20         0G       0.57          8        416: 100%|██████████| 51/51 [01:40<00:00,  1.97s/it]\n",
      "               classes   top1_acc   top5_acc: 100%|██████████| 8/8 [00:20<00:00,  2.58s/it]"
     ]
    },
    {
     "name": "stdout",
     "output_type": "stream",
     "text": [
      "                   all      0.373      0.597\n"
     ]
    },
    {
     "name": "stderr",
     "output_type": "stream",
     "text": [
      "\n"
     ]
    },
    {
     "name": "stdout",
     "output_type": "stream",
     "text": [
      "\n",
      "      Epoch    GPU_mem       loss  Instances       Size\n"
     ]
    },
    {
     "name": "stderr",
     "output_type": "stream",
     "text": [
      "      15/20         0G     0.5141          8        416: 100%|██████████| 51/51 [01:41<00:00,  1.99s/it]\n",
      "               classes   top1_acc   top5_acc: 100%|██████████| 8/8 [00:19<00:00,  2.48s/it]"
     ]
    },
    {
     "name": "stdout",
     "output_type": "stream",
     "text": [
      "                   all      0.381      0.602\n",
      "\n",
      "      Epoch    GPU_mem       loss  Instances       Size\n"
     ]
    },
    {
     "name": "stderr",
     "output_type": "stream",
     "text": [
      "\n",
      "      16/20         0G     0.4553          8        416: 100%|██████████| 51/51 [01:40<00:00,  1.96s/it]\n",
      "               classes   top1_acc   top5_acc: 100%|██████████| 8/8 [00:19<00:00,  2.47s/it]"
     ]
    },
    {
     "name": "stdout",
     "output_type": "stream",
     "text": [
      "                   all      0.398      0.602\n",
      "\n",
      "      Epoch    GPU_mem       loss  Instances       Size\n"
     ]
    },
    {
     "name": "stderr",
     "output_type": "stream",
     "text": [
      "\n",
      "      17/20         0G     0.4553          8        416: 100%|██████████| 51/51 [01:40<00:00,  1.98s/it]\n",
      "               classes   top1_acc   top5_acc: 100%|██████████| 8/8 [00:19<00:00,  2.46s/it]"
     ]
    },
    {
     "name": "stdout",
     "output_type": "stream",
     "text": [
      "                   all      0.386      0.597\n",
      "\n",
      "      Epoch    GPU_mem       loss  Instances       Size\n"
     ]
    },
    {
     "name": "stderr",
     "output_type": "stream",
     "text": [
      "\n",
      "      18/20         0G     0.4094          8        416: 100%|██████████| 51/51 [01:40<00:00,  1.97s/it]\n",
      "               classes   top1_acc   top5_acc: 100%|██████████| 8/8 [00:19<00:00,  2.44s/it]"
     ]
    },
    {
     "name": "stdout",
     "output_type": "stream",
     "text": [
      "                   all      0.386      0.606\n",
      "\n",
      "      Epoch    GPU_mem       loss  Instances       Size\n"
     ]
    },
    {
     "name": "stderr",
     "output_type": "stream",
     "text": [
      "\n",
      "      19/20         0G     0.3977          8        416: 100%|██████████| 51/51 [01:40<00:00,  1.96s/it]\n",
      "               classes   top1_acc   top5_acc: 100%|██████████| 8/8 [00:19<00:00,  2.45s/it]"
     ]
    },
    {
     "name": "stdout",
     "output_type": "stream",
     "text": [
      "                   all      0.403       0.61\n",
      "\n",
      "      Epoch    GPU_mem       loss  Instances       Size\n"
     ]
    },
    {
     "name": "stderr",
     "output_type": "stream",
     "text": [
      "\n",
      "      20/20         0G     0.3758          8        416: 100%|██████████| 51/51 [01:41<00:00,  1.99s/it]\n",
      "               classes   top1_acc   top5_acc: 100%|██████████| 8/8 [00:19<00:00,  2.47s/it]"
     ]
    },
    {
     "name": "stdout",
     "output_type": "stream",
     "text": [
      "                   all      0.403      0.606\n",
      "\n",
      "20 epochs completed in 0.678 hours.\n",
      "Optimizer stripped from runs/classify/train10/weights/last.pt, 3.6MB\n",
      "Optimizer stripped from runs/classify/train10/weights/best.pt, 3.6MB\n",
      "\n",
      "Validating runs/classify/train10/weights/best.pt...\n",
      "Ultralytics YOLOv8.2.100 🚀 Python-3.10.14 torch-2.3.0 CPU (Apple M3 Pro)\n"
     ]
    },
    {
     "name": "stderr",
     "output_type": "stream",
     "text": [
      "\n"
     ]
    },
    {
     "name": "stdout",
     "output_type": "stream",
     "text": [
      "YOLOv8n-cls summary (fused): 73 layers, 1,737,196 parameters, 0 gradients, 3.5 GFLOPs\n",
      "\u001b[34m\u001b[1mtrain:\u001b[0m /Users/adn-mbp/Github Repos/Edible-Mushroom-Prediction/Dataset/Yolo/Edible/train... found 808 images in 236 classes ✅ \n",
      "\u001b[34m\u001b[1mval:\u001b[0m /Users/adn-mbp/Github Repos/Edible-Mushroom-Prediction/Dataset/Yolo/Edible/val... found 236 images in 236 classes ✅ \n",
      "\u001b[34m\u001b[1mtest:\u001b[0m None...\n"
     ]
    },
    {
     "name": "stderr",
     "output_type": "stream",
     "text": [
      "               classes   top1_acc   top5_acc: 100%|██████████| 8/8 [00:19<00:00,  2.44s/it]\n"
     ]
    },
    {
     "name": "stdout",
     "output_type": "stream",
     "text": [
      "                   all      0.403       0.61\n",
      "Speed: 0.0ms preprocess, 27.1ms inference, 0.0ms loss, 0.0ms postprocess per image\n",
      "Results saved to \u001b[1mruns/classify/train10\u001b[0m\n",
      "Results saved to \u001b[1mruns/classify/train10\u001b[0m\n"
     ]
    },
    {
     "data": {
      "text/plain": [
       "ultralytics.utils.metrics.ClassifyMetrics object with attributes:\n",
       "\n",
       "confusion_matrix: <ultralytics.utils.metrics.ConfusionMatrix object at 0x3198e0520>\n",
       "curves: []\n",
       "curves_results: []\n",
       "fitness: 0.5063559263944626\n",
       "keys: ['metrics/accuracy_top1', 'metrics/accuracy_top5']\n",
       "results_dict: {'metrics/accuracy_top1': 0.402542382478714, 'metrics/accuracy_top5': 0.6101694703102112, 'fitness': 0.5063559263944626}\n",
       "save_dir: PosixPath('runs/classify/train10')\n",
       "speed: {'preprocess': 0.00040611978304588186, 'inference': 27.083766662468342, 'loss': 3.7379184011685645e-05, 'postprocess': 3.0307446495961334e-05}\n",
       "task: 'classify'\n",
       "top1: 0.402542382478714\n",
       "top5: 0.6101694703102112"
      ]
     },
     "execution_count": 4,
     "metadata": {},
     "output_type": "execute_result"
    }
   ],
   "source": [
    "# Train the model\n",
    "model.train(\n",
    "    data = 'Dataset/Yolo/Edible',\n",
    "    epochs = 20,\n",
    "    imgsz = 416,\n",
    "    patience = 3\n",
    ")"
   ]
  },
  {
   "cell_type": "code",
   "execution_count": 5,
   "metadata": {},
   "outputs": [
    {
     "name": "stdout",
     "output_type": "stream",
     "text": [
      "Ultralytics YOLOv8.2.100 🚀 Python-3.10.14 torch-2.3.0 CPU (Apple M3 Pro)\n",
      "YOLOv8n-cls summary (fused): 73 layers, 1,737,196 parameters, 0 gradients, 3.5 GFLOPs\n",
      "\u001b[34m\u001b[1mtrain:\u001b[0m /Users/adn-mbp/Github Repos/Edible-Mushroom-Prediction/Dataset/Yolo/Edible/train... found 808 images in 236 classes ✅ \n",
      "\u001b[34m\u001b[1mval:\u001b[0m /Users/adn-mbp/Github Repos/Edible-Mushroom-Prediction/Dataset/Yolo/Edible/val... found 236 images in 236 classes ✅ \n",
      "\u001b[34m\u001b[1mtest:\u001b[0m None...\n"
     ]
    },
    {
     "name": "stderr",
     "output_type": "stream",
     "text": [
      "\u001b[34m\u001b[1mval: \u001b[0mScanning /Users/adn-mbp/Github Repos/Edible-Mushroom-Prediction/Dataset/Yolo/Edible/val... 236 images, 0 corrupt: 100%|██████████| 236/236 [00:00<?, ?it/s]\n",
      "               classes   top1_acc   top5_acc: 100%|██████████| 15/15 [00:20<00:00,  1.36s/it]\n"
     ]
    },
    {
     "name": "stdout",
     "output_type": "stream",
     "text": [
      "                   all      0.403       0.61\n",
      "Speed: 0.0ms preprocess, 31.3ms inference, 0.0ms loss, 0.0ms postprocess per image\n",
      "Results saved to \u001b[1mruns/classify/train102\u001b[0m\n"
     ]
    },
    {
     "data": {
      "text/plain": [
       "0.6101694703102112"
      ]
     },
     "execution_count": 5,
     "metadata": {},
     "output_type": "execute_result"
    }
   ],
   "source": [
    "# Validate the model\n",
    "metrics = model.val() # no arguments needed, dataset and settings remembered\n",
    "metrics.top1 # top1 accuracy\n",
    "metrics.top5 # top5 accuracy"
   ]
  },
  {
   "cell_type": "code",
   "execution_count": 6,
   "metadata": {},
   "outputs": [
    {
     "name": "stdout",
     "output_type": "stream",
     "text": [
      "\n",
      "image 1/1 /Users/adn-mbp/Github Repos/Edible-Mushroom-Prediction/Dataset/Yolo/Edible/Val/Agaricus_albolutescens/agaricus-albolutescens-2.jpg: 416x416 Lyophyllum_shimeji 0.32, Agaricus_langei 0.21, Lyophyllum_decastes 0.07, Gomphidius_smithii 0.05, Russula_adusta 0.05, 11.1ms\n",
      "Speed: 72.3ms preprocess, 11.1ms inference, 0.0ms postprocess per image at shape (1, 3, 416, 416)\n"
     ]
    }
   ],
   "source": [
    "# Predict results for the given image\n",
    "results = model.predict(\"Dataset/Yolo/Edible/Val/Agaricus_albolutescens/agaricus-albolutescens-2.jpg\")"
   ]
  },
  {
   "cell_type": "code",
   "execution_count": 7,
   "metadata": {},
   "outputs": [
    {
     "name": "stdout",
     "output_type": "stream",
     "text": [
      "Results Tensor:  [ultralytics.engine.results.Results object with attributes:\n",
      "\n",
      "boxes: None\n",
      "keypoints: None\n",
      "masks: None\n",
      "names: {0: 'Agaricus_albolutescens', 1: 'Agaricus_arvensis', 2: 'Agaricus_bisporus', 3: 'Agaricus_campestris', 4: 'Agaricus_devoniensis', 5: 'Agaricus_langei', 6: 'Agaricus_subperonatus', 7: 'Agrocybe_dura', 8: 'Agrocybe_rivulosa', 9: 'Amanita_caesarea', 10: 'Amanita_ceciliae', 11: 'Amanita_fulva', 12: 'Amanita_ovoidea', 13: 'Amanita_rubescens', 14: 'Amanita_vaginata', 15: 'Ampulloclitocybe_clavipes', 16: 'Armillaria_gallica', 17: 'Armillaria_mellea', 18: 'Armillaria_ostoyae', 19: 'Armillaria_tabescens', 20: 'Auricularia_auricula_judae', 21: 'Auricularia_mesenterica', 22: 'Baeospora_myosura', 23: 'Boletinellus_merulioides', 24: 'Boletus_aereus', 25: 'Boletus_auripes', 26: 'Boletus_betulicola', 27: 'Boletus_bicolor', 28: 'Boletus_campestris', 29: 'Boletus_edulis', 30: 'Boletus_pinophilus', 31: 'Boletus_pseudoregius', 32: 'Boletus_quercicola', 33: 'Boletus_regineus', 34: 'Boletus_reticulatus', 35: 'Bovista_nigrescens', 36: 'Bovista_pila', 37: 'Bovista_plumbea', 38: 'Butyriboletus_fechtneri', 39: 'Butyriboletus_regius', 40: 'Calocera_viscosa', 41: 'Calvatia_cyathiformis', 42: 'Calvatia_gigantea', 43: 'Calvatia_pachyderma', 44: 'Cantharellus_cinereus', 45: 'Cantharellus_cinnabarinus', 46: 'Cantharellus_friesii', 47: 'Cantharellus_subalbidus', 48: 'Cerioporus_squamosus', 49: 'Chlorophyllum_rhacodes', 50: 'Chroogomphus_fulmineus', 51: 'Clavaria_fragilis', 52: 'Clavaria_fumosa', 53: 'Clavulina_cinerea', 54: 'Clavulina_coralloides', 55: 'Clitocybe_fragrans', 56: 'Clitocybe_maxima', 57: 'Clitopilus_geminus', 58: 'Coprinellus_micaceus', 59: 'Coprinopsis_atramentaria', 60: 'Coprinus_comatus', 61: 'Cordyceps_militaris', 62: 'Cortinarius_armeniacus', 63: 'Cortinarius_caerulescens', 64: 'Cortinarius_rufoolivaceus', 65: 'Craterellus_lutescens', 66: 'Discina_perlata', 67: 'Fistulina_hepatica', 68: 'Flammulina_velutipes', 69: 'Fomitopsis_pinicola', 70: 'Ganoderma_applanatum', 71: 'Ganoderma_lucidum', 72: 'Geopora_cooperi', 73: 'Gomphidius_oregonensis', 74: 'Gomphidius_smithii', 75: 'Gomphidius_subroseus', 76: 'Grifola_frondosa', 77: 'Guepinia_helvelloides', 78: 'Gymnopilus_luteofolius', 79: 'Gyromitra_fastigiata', 80: 'Helvella_dryophila', 81: 'Helvella_spadicea', 82: 'Hemileccinum_impolitum', 83: 'Hemimycena_lactea', 84: 'Hericium_americanum', 85: 'Hericium_coralloides', 86: 'Hericium_erinaceus', 87: 'Hortiboletus_bubalinus', 88: 'Hortiboletus_engelii', 89: 'Hygrocybe_flavescens', 90: 'Hygrocybe_reidii', 91: 'Hygrophorus_bakerensis', 92: 'Hygrophorus_lucorum', 93: 'Hygrophorus_nemoreus', 94: 'Hygrophorus_persoonii', 95: 'Hygrophorus_poetarum', 96: 'Hygrophorus_pustulatus', 97: 'Hypsizygus_tessellatus', 98: 'Imleria_badia', 99: 'Kalapuya_brunnea', 100: 'Laccaria_laccata', 101: 'Lactarius_deliciosus', 102: 'Lactarius_deterrimus', 103: 'Lactarius_indigo', 104: 'Lactarius_piperatus', 105: 'Lactarius_rubidus', 106: 'Lactarius_spinosulus', 107: 'Lactarius_volemus', 108: 'Laetiporus_persicinus', 109: 'Laetiporus_sulphureus', 110: 'Leccinum_albellum', 111: 'Leccinum_aurantiacum', 112: 'Leccinum_cyaneobasileucum', 113: 'Leccinum_duriusculum', 114: 'Leccinum_lepidum', 115: 'Leccinum_pseudoscabrum', 116: 'Lentinula_edodes', 117: 'Lentinus_strigosus', 118: 'Leucangium_carthusianum', 119: 'Leucocoprinus_cepistipes', 120: 'Leucopaxillus_tricolor', 121: 'Lycoperdon_umbrinum', 122: 'Lycoperdon_utriforme', 123: 'Lyophyllum_decastes', 124: 'Lyophyllum_loricatum', 125: 'Lyophyllum_shimeji', 126: 'Macrolepiota_mastoidea', 127: 'Marasmius_oreades', 128: 'Megacollybia_rodmanii', 129: 'Melanoleuca_polioleuca', 130: 'Meripilus_giganteus', 131: 'Morchella_angusticeps', 132: 'Morchella_conica', 133: 'Morchella_crassipes', 134: 'Morchella_deliciosa', 135: 'Morchella_esculenta', 136: 'Morchella_importuna', 137: 'Morchella_rufobrunnea', 138: 'Morchella_steppicola', 139: 'Morchella_tomentosa', 140: 'Morchella_vulgaris', 141: 'Mutinus_ravenelii', 142: 'Mycena_flavescens', 143: 'Mycena_meliigena', 144: 'Mycetinis_alliaceus', 145: 'Neoboletus_praestigiator', 146: 'Panaeolus_antillarum', 147: 'Panaeolus_cinctulus', 148: 'Panaeolus_cyanescens', 149: 'Panaeolus_olivaceus', 150: 'Panellus_serotinus', 151: 'Paralepista_flaccida', 152: 'Phallus_impudicus', 153: 'Phallus_indusiatus', 154: 'Pholiota_highlandensis', 155: 'Pleurotus_australis', 156: 'Pleurotus_columbinus', 157: 'Pleurotus_eryngii', 158: 'Pleurotus_nebrodensis', 159: 'Pleurotus_ostreatus', 160: 'Pleurotus_populinus', 161: 'Pleurotus_pulmonarius', 162: 'Pluteus_atromarginatus', 163: 'Pluteus_cervinus', 164: 'Pluteus_umbrosus', 165: 'Podaxis_pistillaris', 166: 'Polyozellus_multiplex', 167: 'Porpolomopsis_calyptriformis', 168: 'Psilocybe_cubensis', 169: 'Psilocybe_mexicana', 170: 'Psilocybe_pelliculosa', 171: 'Psilocybe_samuiensis', 172: 'Ramaria_araiospora', 173: 'Ramaria_eumorpha', 174: 'Ramaria_rubripermanens', 175: 'Rheubarbariboletus_armeniacus', 176: 'Rugosomyces_carneus', 177: 'Russula_adusta', 178: 'Russula_aeruginea', 179: 'Russula_albonigra', 180: 'Russula_aurora', 181: 'Russula_azurea', 182: 'Russula_brevipes', 183: 'Russula_heterophylla', 184: 'Russula_nigricans', 185: 'Russula_olivacea', 186: 'Russula_turci', 187: 'Russula_variata', 188: 'Sarcodon_imbricatus', 189: 'Sarcoscypha_coccinea', 190: 'Sparassis_americana', 191: 'Sparassis_crispa', 192: 'Strobilomyces_strobilaceus', 193: 'Strobilurus_esculentus', 194: 'Strobilurus_stephanocystis', 195: 'Stropharia_melanosperma', 196: 'Stropharia_rugosoannulata', 197: 'Suillellus_luridus', 198: 'Suillus_americanus', 199: 'Suillus_borealis', 200: 'Suillus_brevipes', 201: 'Suillus_granulatus', 202: 'Suillus_grevillei', 203: 'Suillus_intermedius', 204: 'Suillus_lakei', 205: 'Suillus_mediterraneensis', 206: 'Suillus_tomentosus', 207: 'Trametes_gibbosa', 208: 'Trametes_versicolor', 209: 'Tremella_fuciformis', 210: 'Tremella_mesenterica', 211: 'Tricholoma_argyraceum', 212: 'Tricholoma_atrosquamosum', 213: 'Tricholoma_magnivelare', 214: 'Tricholoma_orirubens', 215: 'Tuber_Brumale', 216: 'Tuber_aestivum', 217: 'Tuber_gibbosum', 218: 'Tuber_lyonii', 219: 'Tuber_magnatum', 220: 'Tuber_melanosporum', 221: 'Tuber_oregonense', 222: 'Tuber_uncinatum', 223: 'Tylopilus_balloui', 224: 'Tylopilus_ferrugineus', 225: 'Tylopilus_indecisus', 226: 'Tylopilus_rhoadsiae', 227: 'Tylopilus_rubrobrunneus', 228: 'Tylopilus_variobrunneus', 229: 'Xerocomellus_chrysenteron', 230: 'Xerocomellus_cisalpinus', 231: 'Xerocomellus_fennicus', 232: 'Xerocomellus_porosporus', 233: 'Xerocomellus_truncatus', 234: 'Xerocomus_subtomentosus', 235: 'Xerula_pudens'}\n",
      "obb: None\n",
      "orig_img: array([[[165, 200, 240],\n",
      "        [164, 199, 239],\n",
      "        [164, 199, 239],\n",
      "        ...,\n",
      "        [ 69,  86, 107],\n",
      "        [ 68,  84, 107],\n",
      "        [ 67,  83, 106]],\n",
      "\n",
      "       [[164, 199, 239],\n",
      "        [164, 199, 239],\n",
      "        [163, 198, 238],\n",
      "        ...,\n",
      "        [ 68,  85, 106],\n",
      "        [ 67,  83, 106],\n",
      "        [ 66,  82, 105]],\n",
      "\n",
      "       [[163, 198, 238],\n",
      "        [162, 197, 237],\n",
      "        [162, 197, 237],\n",
      "        ...,\n",
      "        [ 67,  84, 105],\n",
      "        [ 66,  83, 104],\n",
      "        [ 66,  83, 104]],\n",
      "\n",
      "       ...,\n",
      "\n",
      "       [[154, 177, 163],\n",
      "        [159, 182, 168],\n",
      "        [162, 185, 171],\n",
      "        ...,\n",
      "        [ 71, 100, 145],\n",
      "        [ 69,  98, 143],\n",
      "        [ 68,  97, 142]],\n",
      "\n",
      "       [[179, 201, 189],\n",
      "        [178, 200, 188],\n",
      "        [176, 198, 186],\n",
      "        ...,\n",
      "        [ 71, 100, 145],\n",
      "        [ 75, 104, 149],\n",
      "        [ 79, 108, 153]],\n",
      "\n",
      "       [[191, 213, 201],\n",
      "        [185, 207, 195],\n",
      "        [182, 204, 192],\n",
      "        ...,\n",
      "        [ 70,  99, 144],\n",
      "        [ 78, 107, 152],\n",
      "        [ 84, 113, 158]]], dtype=uint8)\n",
      "orig_shape: (3680, 5520)\n",
      "path: '/Users/adn-mbp/Github Repos/Edible-Mushroom-Prediction/Dataset/Yolo/Edible/Val/Agaricus_albolutescens/agaricus-albolutescens-2.jpg'\n",
      "probs: ultralytics.engine.results.Probs object\n",
      "save_dir: 'runs/classify/train103'\n",
      "speed: {'preprocess': 72.33572006225586, 'inference': 11.084794998168945, 'postprocess': 0.023126602172851562}]\n"
     ]
    }
   ],
   "source": [
    "print(\"Results Tensor: \", results)"
   ]
  },
  {
   "cell_type": "code",
   "execution_count": 8,
   "metadata": {},
   "outputs": [
    {
     "name": "stdout",
     "output_type": "stream",
     "text": [
      "Type of results:  <class 'list'>\n"
     ]
    }
   ],
   "source": [
    "# Print the type of 'results' and its contents\n",
    "print(\"Type of results: \", type(results))"
   ]
  },
  {
   "cell_type": "code",
   "execution_count": 9,
   "metadata": {},
   "outputs": [
    {
     "ename": "IndexError",
     "evalue": "too many indices for tensor of dimension 1",
     "output_type": "error",
     "traceback": [
      "\u001b[0;31m---------------------------------------------------------------------------\u001b[0m",
      "\u001b[0;31mIndexError\u001b[0m                                Traceback (most recent call last)",
      "Cell \u001b[0;32mIn[9], line 2\u001b[0m\n\u001b[1;32m      1\u001b[0m \u001b[38;5;28;01mfor\u001b[39;00m result \u001b[38;5;129;01min\u001b[39;00m results:\n\u001b[0;32m----> 2\u001b[0m     \u001b[38;5;28mprint\u001b[39m(\u001b[38;5;124mf\u001b[39m\u001b[38;5;124m\"\u001b[39m\u001b[38;5;124mPredicted Class: \u001b[39m\u001b[38;5;132;01m{\u001b[39;00m\u001b[43mresult\u001b[49m\u001b[43m[\u001b[49m\u001b[38;5;124;43m'\u001b[39;49m\u001b[38;5;124;43mlabel\u001b[39;49m\u001b[38;5;124;43m'\u001b[39;49m\u001b[43m]\u001b[49m\u001b[38;5;132;01m}\u001b[39;00m\u001b[38;5;124m\"\u001b[39m)\n\u001b[1;32m      3\u001b[0m     \u001b[38;5;28mprint\u001b[39m(\u001b[38;5;124mf\u001b[39m\u001b[38;5;124m\"\u001b[39m\u001b[38;5;124mConfidence: \u001b[39m\u001b[38;5;132;01m{\u001b[39;00mresult[\u001b[38;5;124m'\u001b[39m\u001b[38;5;124mconfidence\u001b[39m\u001b[38;5;124m'\u001b[39m]\u001b[38;5;132;01m}\u001b[39;00m\u001b[38;5;124m\"\u001b[39m)\n\u001b[1;32m      4\u001b[0m     \u001b[38;5;28mprint\u001b[39m(\u001b[38;5;124mf\u001b[39m\u001b[38;5;124m\"\u001b[39m\u001b[38;5;124mBounding Box: \u001b[39m\u001b[38;5;132;01m{\u001b[39;00mresult[\u001b[38;5;124m'\u001b[39m\u001b[38;5;124mbox\u001b[39m\u001b[38;5;124m'\u001b[39m]\u001b[38;5;132;01m}\u001b[39;00m\u001b[38;5;124m\"\u001b[39m)\n",
      "File \u001b[0;32m/opt/anaconda3/envs/Thesis/lib/python3.10/site-packages/ultralytics/engine/results.py:288\u001b[0m, in \u001b[0;36mResults.__getitem__\u001b[0;34m(self, idx)\u001b[0m\n\u001b[1;32m    273\u001b[0m \u001b[38;5;28;01mdef\u001b[39;00m \u001b[38;5;21m__getitem__\u001b[39m(\u001b[38;5;28mself\u001b[39m, idx):\n\u001b[1;32m    274\u001b[0m \u001b[38;5;250m    \u001b[39m\u001b[38;5;124;03m\"\"\"\u001b[39;00m\n\u001b[1;32m    275\u001b[0m \u001b[38;5;124;03m    Return a Results object for a specific index of inference results.\u001b[39;00m\n\u001b[1;32m    276\u001b[0m \n\u001b[0;32m   (...)\u001b[0m\n\u001b[1;32m    286\u001b[0m \u001b[38;5;124;03m        >>> subset_results = results[1:4]  # Get a slice of results\u001b[39;00m\n\u001b[1;32m    287\u001b[0m \u001b[38;5;124;03m    \"\"\"\u001b[39;00m\n\u001b[0;32m--> 288\u001b[0m     \u001b[38;5;28;01mreturn\u001b[39;00m \u001b[38;5;28;43mself\u001b[39;49m\u001b[38;5;241;43m.\u001b[39;49m\u001b[43m_apply\u001b[49m\u001b[43m(\u001b[49m\u001b[38;5;124;43m\"\u001b[39;49m\u001b[38;5;124;43m__getitem__\u001b[39;49m\u001b[38;5;124;43m\"\u001b[39;49m\u001b[43m,\u001b[49m\u001b[43m \u001b[49m\u001b[43midx\u001b[49m\u001b[43m)\u001b[49m\n",
      "File \u001b[0;32m/opt/anaconda3/envs/Thesis/lib/python3.10/site-packages/ultralytics/engine/results.py:360\u001b[0m, in \u001b[0;36mResults._apply\u001b[0;34m(self, fn, *args, **kwargs)\u001b[0m\n\u001b[1;32m    358\u001b[0m     v \u001b[38;5;241m=\u001b[39m \u001b[38;5;28mgetattr\u001b[39m(\u001b[38;5;28mself\u001b[39m, k)\n\u001b[1;32m    359\u001b[0m     \u001b[38;5;28;01mif\u001b[39;00m v \u001b[38;5;129;01mis\u001b[39;00m \u001b[38;5;129;01mnot\u001b[39;00m \u001b[38;5;28;01mNone\u001b[39;00m:\n\u001b[0;32m--> 360\u001b[0m         \u001b[38;5;28msetattr\u001b[39m(r, k, \u001b[38;5;28;43mgetattr\u001b[39;49m\u001b[43m(\u001b[49m\u001b[43mv\u001b[49m\u001b[43m,\u001b[49m\u001b[43m \u001b[49m\u001b[43mfn\u001b[49m\u001b[43m)\u001b[49m\u001b[43m(\u001b[49m\u001b[38;5;241;43m*\u001b[39;49m\u001b[43margs\u001b[49m\u001b[43m,\u001b[49m\u001b[43m \u001b[49m\u001b[38;5;241;43m*\u001b[39;49m\u001b[38;5;241;43m*\u001b[39;49m\u001b[43mkwargs\u001b[49m\u001b[43m)\u001b[49m)\n\u001b[1;32m    361\u001b[0m \u001b[38;5;28;01mreturn\u001b[39;00m r\n",
      "File \u001b[0;32m/opt/anaconda3/envs/Thesis/lib/python3.10/site-packages/ultralytics/engine/results.py:184\u001b[0m, in \u001b[0;36mBaseTensor.__getitem__\u001b[0;34m(self, idx)\u001b[0m\n\u001b[1;32m    167\u001b[0m \u001b[38;5;28;01mdef\u001b[39;00m \u001b[38;5;21m__getitem__\u001b[39m(\u001b[38;5;28mself\u001b[39m, idx):\n\u001b[1;32m    168\u001b[0m \u001b[38;5;250m    \u001b[39m\u001b[38;5;124;03m\"\"\"\u001b[39;00m\n\u001b[1;32m    169\u001b[0m \u001b[38;5;124;03m    Returns a new BaseTensor instance containing the specified indexed elements of the data tensor.\u001b[39;00m\n\u001b[1;32m    170\u001b[0m \n\u001b[0;32m   (...)\u001b[0m\n\u001b[1;32m    182\u001b[0m \u001b[38;5;124;03m        tensor([1, 2, 3])\u001b[39;00m\n\u001b[1;32m    183\u001b[0m \u001b[38;5;124;03m    \"\"\"\u001b[39;00m\n\u001b[0;32m--> 184\u001b[0m     \u001b[38;5;28;01mreturn\u001b[39;00m \u001b[38;5;28mself\u001b[39m\u001b[38;5;241m.\u001b[39m\u001b[38;5;18m__class__\u001b[39m(\u001b[38;5;28;43mself\u001b[39;49m\u001b[38;5;241;43m.\u001b[39;49m\u001b[43mdata\u001b[49m\u001b[43m[\u001b[49m\u001b[43midx\u001b[49m\u001b[43m]\u001b[49m, \u001b[38;5;28mself\u001b[39m\u001b[38;5;241m.\u001b[39morig_shape)\n",
      "\u001b[0;31mIndexError\u001b[0m: too many indices for tensor of dimension 1"
     ]
    }
   ],
   "source": [
    "for result in results:\n",
    "    print(f\"Predicted Class: {result['label']}\")\n",
    "    print(f\"Confidence: {result['confidence']}\")\n",
    "    print(f\"Bounding Box: {result['box']}\")"
   ]
  },
  {
   "cell_type": "code",
   "execution_count": null,
   "metadata": {},
   "outputs": [],
   "source": []
  }
 ],
 "metadata": {
  "kernelspec": {
   "display_name": "Thesis",
   "language": "python",
   "name": "python3"
  },
  "language_info": {
   "codemirror_mode": {
    "name": "ipython",
    "version": 3
   },
   "file_extension": ".py",
   "mimetype": "text/x-python",
   "name": "python",
   "nbconvert_exporter": "python",
   "pygments_lexer": "ipython3",
   "version": "3.10.14"
  }
 },
 "nbformat": 4,
 "nbformat_minor": 2
}
